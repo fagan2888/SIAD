{
 "cells": [
  {
   "cell_type": "code",
   "execution_count": 53,
   "metadata": {
    "collapsed": true
   },
   "outputs": [],
   "source": [
    "import geopandas"
   ]
  },
  {
   "cell_type": "code",
   "execution_count": 4,
   "metadata": {
    "collapsed": true
   },
   "outputs": [],
   "source": [
    "from math import *"
   ]
  },
  {
   "cell_type": "code",
   "execution_count": 3,
   "metadata": {
    "collapsed": false
   },
   "outputs": [],
   "source": [
    "import matplotlib.pyplot as plt\n",
    "import numpy as np\n",
    "import pandas as pd\n",
    "import geocoder\n",
    "from time import sleep"
   ]
  },
  {
   "cell_type": "code",
   "execution_count": 96,
   "metadata": {
    "collapsed": false
   },
   "outputs": [
    {
     "name": "stderr",
     "output_type": "stream",
     "text": [
      "/Users/mmngreco/Virtualenvs/ipynb/lib/python3.5/site-packages/matplotlib/__init__.py:872: UserWarning: axes.color_cycle is deprecated and replaced with axes.prop_cycle; please use the latter.\n",
      "  warnings.warn(self.msg_depr % (key, alt_key))\n"
     ]
    }
   ],
   "source": [
    "import seaborn as sns\n",
    "sns.set(style=\"ticks\", palette=\"Set2\")"
   ]
  },
  {
   "cell_type": "code",
   "execution_count": 2,
   "metadata": {
    "collapsed": false
   },
   "outputs": [
    {
     "name": "stdout",
     "output_type": "stream",
     "text": [
      "/Users/mmngreco\n"
     ]
    }
   ],
   "source": [
    "cd"
   ]
  },
  {
   "cell_type": "code",
   "execution_count": 6,
   "metadata": {
    "collapsed": false
   },
   "outputs": [
    {
     "data": {
      "text/plain": [
       "'/Users/mmngreco'"
      ]
     },
     "execution_count": 6,
     "metadata": {},
     "output_type": "execute_result"
    }
   ],
   "source": [
    "pwd"
   ]
  },
  {
   "cell_type": "code",
   "execution_count": 5,
   "metadata": {
    "collapsed": false
   },
   "outputs": [
    {
     "data": {
      "text/html": [
       "<iframe src=\"https://mapsengine.google.com/map/embed?mid=zTtXepJtMlLc.k6VXMPFTI7DI\" width=\"640\" height=\"480\"></iframe>"
      ],
      "text/plain": [
       "<IPython.core.display.HTML object>"
      ]
     },
     "metadata": {},
     "output_type": "display_data"
    }
   ],
   "source": [
    "%%HTML\n",
    "<iframe src=\"https://mapsengine.google.com/map/embed?mid=zTtXepJtMlLc.k6VXMPFTI7DI\" width=\"640\" height=\"480\"></iframe>"
   ]
  },
  {
   "cell_type": "code",
   "execution_count": 7,
   "metadata": {
    "collapsed": false
   },
   "outputs": [
    {
     "data": {
      "text/html": [
       "<div>\n",
       "<table border=\"1\" class=\"dataframe\">\n",
       "  <thead>\n",
       "    <tr style=\"text-align: right;\">\n",
       "      <th></th>\n",
       "      <th>CCA_1</th>\n",
       "      <th>CCN_1</th>\n",
       "      <th>ENGTYPE_1</th>\n",
       "      <th>HASC_1</th>\n",
       "      <th>ID_0</th>\n",
       "      <th>ID_1</th>\n",
       "      <th>ISO</th>\n",
       "      <th>NAME_0</th>\n",
       "      <th>NAME_1</th>\n",
       "      <th>NL_NAME_1</th>\n",
       "      <th>TYPE_1</th>\n",
       "      <th>VARNAME_1</th>\n",
       "      <th>geometry</th>\n",
       "    </tr>\n",
       "  </thead>\n",
       "  <tbody>\n",
       "    <tr>\n",
       "      <th>0</th>\n",
       "      <td>01</td>\n",
       "      <td>0</td>\n",
       "      <td>Autonomous Community</td>\n",
       "      <td>ES.AN</td>\n",
       "      <td>215</td>\n",
       "      <td>1</td>\n",
       "      <td>ESP</td>\n",
       "      <td>Spain</td>\n",
       "      <td>Andalucía</td>\n",
       "      <td>None</td>\n",
       "      <td>Comunidad Autónoma</td>\n",
       "      <td>Andalousie|Andaluc¡a|Andalusien|Andaluzia</td>\n",
       "      <td>(POLYGON ((-3.030138969421387 35.9426383972167...</td>\n",
       "    </tr>\n",
       "    <tr>\n",
       "      <th>1</th>\n",
       "      <td>15</td>\n",
       "      <td>0</td>\n",
       "      <td>Autonomous Community</td>\n",
       "      <td>ES.AR</td>\n",
       "      <td>215</td>\n",
       "      <td>2</td>\n",
       "      <td>ESP</td>\n",
       "      <td>Spain</td>\n",
       "      <td>Aragón</td>\n",
       "      <td>None</td>\n",
       "      <td>Comunidad Autónoma</td>\n",
       "      <td>Aragão|Aragó|Aragón|Aragona|Aragonien</td>\n",
       "      <td>POLYGON ((-0.7458170056343079 42.9219017028809...</td>\n",
       "    </tr>\n",
       "    <tr>\n",
       "      <th>2</th>\n",
       "      <td>06</td>\n",
       "      <td>0</td>\n",
       "      <td>Autonomous Community</td>\n",
       "      <td>ES.CB</td>\n",
       "      <td>215</td>\n",
       "      <td>3</td>\n",
       "      <td>ESP</td>\n",
       "      <td>Spain</td>\n",
       "      <td>Cantabria</td>\n",
       "      <td>None</td>\n",
       "      <td>Comunidad Autónoma</td>\n",
       "      <td>Cantàbria|Cantábria|Cantabrie|Kantabrien</td>\n",
       "      <td>(POLYGON ((-3.283654928207397 43.2000274658203...</td>\n",
       "    </tr>\n",
       "    <tr>\n",
       "      <th>3</th>\n",
       "      <td>08</td>\n",
       "      <td>0</td>\n",
       "      <td>Autonomous Community</td>\n",
       "      <td>ES.CM</td>\n",
       "      <td>215</td>\n",
       "      <td>4</td>\n",
       "      <td>ESP</td>\n",
       "      <td>Spain</td>\n",
       "      <td>Castilla-La Mancha</td>\n",
       "      <td>None</td>\n",
       "      <td>Comunidad Autónoma</td>\n",
       "      <td>Castela-La Mancha|Castela-Mancha|Castella-la M...</td>\n",
       "      <td>(POLYGON ((-3.364175081252995 40.6350708007813...</td>\n",
       "    </tr>\n",
       "    <tr>\n",
       "      <th>4</th>\n",
       "      <td>07</td>\n",
       "      <td>0</td>\n",
       "      <td>Autonomous Community</td>\n",
       "      <td>ES.CL</td>\n",
       "      <td>215</td>\n",
       "      <td>5</td>\n",
       "      <td>ESP</td>\n",
       "      <td>Spain</td>\n",
       "      <td>Castilla y León</td>\n",
       "      <td>None</td>\n",
       "      <td>Comunidad Autónoma</td>\n",
       "      <td>Castile and Leon|Castela e Leão|Castella i Lle...</td>\n",
       "      <td>(POLYGON ((-2.830471992492676 42.7921218872070...</td>\n",
       "    </tr>\n",
       "    <tr>\n",
       "      <th>5</th>\n",
       "      <td>09</td>\n",
       "      <td>0</td>\n",
       "      <td>Autonomous Community</td>\n",
       "      <td>ES.CT</td>\n",
       "      <td>215</td>\n",
       "      <td>6</td>\n",
       "      <td>ESP</td>\n",
       "      <td>Spain</td>\n",
       "      <td>Cataluña</td>\n",
       "      <td>None</td>\n",
       "      <td>Comunidad Autónoma</td>\n",
       "      <td>Catalogna|Catalogne|Catalonia|Catalunha|Catalu...</td>\n",
       "      <td>(POLYGON ((0.7295839786530109 40.7806930541993...</td>\n",
       "    </tr>\n",
       "    <tr>\n",
       "      <th>6</th>\n",
       "      <td>19</td>\n",
       "      <td>0</td>\n",
       "      <td>Autonomous City</td>\n",
       "      <td>ES.ML</td>\n",
       "      <td>215</td>\n",
       "      <td>7</td>\n",
       "      <td>ESP</td>\n",
       "      <td>Spain</td>\n",
       "      <td>Ceuta y Melilla</td>\n",
       "      <td>None</td>\n",
       "      <td>Ciudades Autónomas</td>\n",
       "      <td>None</td>\n",
       "      <td>(POLYGON ((-4.300693988800049 35.1731948852539...</td>\n",
       "    </tr>\n",
       "    <tr>\n",
       "      <th>7</th>\n",
       "      <td>None</td>\n",
       "      <td>0</td>\n",
       "      <td>Autonomous Community</td>\n",
       "      <td>ES.MD</td>\n",
       "      <td>215</td>\n",
       "      <td>8</td>\n",
       "      <td>ESP</td>\n",
       "      <td>Spain</td>\n",
       "      <td>Comunidad de Madrid</td>\n",
       "      <td>None</td>\n",
       "      <td>Comunidad Autónoma</td>\n",
       "      <td>Madrid|Communauté de Madrid| Community of Madr...</td>\n",
       "      <td>(POLYGON ((-4.256455898284912 40.6638221740723...</td>\n",
       "    </tr>\n",
       "    <tr>\n",
       "      <th>8</th>\n",
       "      <td>15</td>\n",
       "      <td>0</td>\n",
       "      <td>Autonomous Community</td>\n",
       "      <td>ES.NA</td>\n",
       "      <td>215</td>\n",
       "      <td>9</td>\n",
       "      <td>ESP</td>\n",
       "      <td>Spain</td>\n",
       "      <td>Comunidad Foral de Navarra</td>\n",
       "      <td>None</td>\n",
       "      <td>Comunidad Autónoma</td>\n",
       "      <td>Communauté forale de Navarre|Comunidade Foral ...</td>\n",
       "      <td>POLYGON ((-1.655257940292302 43.31251144409185...</td>\n",
       "    </tr>\n",
       "    <tr>\n",
       "      <th>9</th>\n",
       "      <td>10</td>\n",
       "      <td>0</td>\n",
       "      <td>Autonomous Community</td>\n",
       "      <td>ES.VC</td>\n",
       "      <td>215</td>\n",
       "      <td>10</td>\n",
       "      <td>ESP</td>\n",
       "      <td>Spain</td>\n",
       "      <td>Comunidad Valenciana</td>\n",
       "      <td>None</td>\n",
       "      <td>Comunidad Autónoma</td>\n",
       "      <td>Valencia|Communauté de Valence|Comunidade Vale...</td>\n",
       "      <td>(POLYGON ((-0.457082986831665 38.1620826721191...</td>\n",
       "    </tr>\n",
       "    <tr>\n",
       "      <th>10</th>\n",
       "      <td>11</td>\n",
       "      <td>0</td>\n",
       "      <td>Autonomous Community</td>\n",
       "      <td>ES.EX</td>\n",
       "      <td>215</td>\n",
       "      <td>11</td>\n",
       "      <td>ESP</td>\n",
       "      <td>Spain</td>\n",
       "      <td>Extremadura</td>\n",
       "      <td>None</td>\n",
       "      <td>Comunidad Autónoma</td>\n",
       "      <td>Estremadura|Estrémadure</td>\n",
       "      <td>POLYGON ((-6.231152057647648 40.48665618896484...</td>\n",
       "    </tr>\n",
       "    <tr>\n",
       "      <th>11</th>\n",
       "      <td>12</td>\n",
       "      <td>0</td>\n",
       "      <td>Autonomous Community</td>\n",
       "      <td>ES.GA</td>\n",
       "      <td>215</td>\n",
       "      <td>12</td>\n",
       "      <td>ESP</td>\n",
       "      <td>Spain</td>\n",
       "      <td>Galicia</td>\n",
       "      <td>None</td>\n",
       "      <td>Comunidad Autónoma</td>\n",
       "      <td>Galice|Gal¡cia|Galicien|Galiza|Galizia</td>\n",
       "      <td>(POLYGON ((-8.862917900085449 42.1476402282714...</td>\n",
       "    </tr>\n",
       "    <tr>\n",
       "      <th>12</th>\n",
       "      <td>04</td>\n",
       "      <td>0</td>\n",
       "      <td>Autonomous Community</td>\n",
       "      <td>ES.PM</td>\n",
       "      <td>215</td>\n",
       "      <td>13</td>\n",
       "      <td>ESP</td>\n",
       "      <td>Spain</td>\n",
       "      <td>Islas Baleares</td>\n",
       "      <td>None</td>\n",
       "      <td>Comunidad Autónoma</td>\n",
       "      <td>Balearic Islands|Balearen|Balearene|Baleares|I...</td>\n",
       "      <td>(POLYGON ((1.425971031189079 38.77736282348633...</td>\n",
       "    </tr>\n",
       "    <tr>\n",
       "      <th>13</th>\n",
       "      <td>05</td>\n",
       "      <td>0</td>\n",
       "      <td>Autonomous Community</td>\n",
       "      <td>ES.CN</td>\n",
       "      <td>215</td>\n",
       "      <td>14</td>\n",
       "      <td>ESP</td>\n",
       "      <td>Spain</td>\n",
       "      <td>Islas Canarias</td>\n",
       "      <td>None</td>\n",
       "      <td>Comunidad Autónoma</td>\n",
       "      <td>Canarias|Canary Islands|Canárias|Ilhas Canária...</td>\n",
       "      <td>(POLYGON ((-17.92791748046875 27.8495826721191...</td>\n",
       "    </tr>\n",
       "    <tr>\n",
       "      <th>14</th>\n",
       "      <td>17</td>\n",
       "      <td>0</td>\n",
       "      <td>Autonomous Community</td>\n",
       "      <td>ES.LO</td>\n",
       "      <td>215</td>\n",
       "      <td>15</td>\n",
       "      <td>ESP</td>\n",
       "      <td>Spain</td>\n",
       "      <td>La Rioja</td>\n",
       "      <td>None</td>\n",
       "      <td>Comunidad Autónoma</td>\n",
       "      <td>Rioja</td>\n",
       "      <td>POLYGON ((-3.004699945449772 42.64425277709972...</td>\n",
       "    </tr>\n",
       "    <tr>\n",
       "      <th>15</th>\n",
       "      <td>16</td>\n",
       "      <td>0</td>\n",
       "      <td>Autonomous Community</td>\n",
       "      <td>ES.PV</td>\n",
       "      <td>215</td>\n",
       "      <td>16</td>\n",
       "      <td>ESP</td>\n",
       "      <td>Spain</td>\n",
       "      <td>País Vasco</td>\n",
       "      <td>None</td>\n",
       "      <td>Comunidad Autónoma</td>\n",
       "      <td>Basque Country|Baskenland|Basque Autonomous Co...</td>\n",
       "      <td>(POLYGON ((-2.494584083557015 43.3681945800782...</td>\n",
       "    </tr>\n",
       "    <tr>\n",
       "      <th>16</th>\n",
       "      <td>03</td>\n",
       "      <td>0</td>\n",
       "      <td>Autonomous Community</td>\n",
       "      <td>ES.AS</td>\n",
       "      <td>215</td>\n",
       "      <td>17</td>\n",
       "      <td>ESP</td>\n",
       "      <td>Spain</td>\n",
       "      <td>Principado de Asturias</td>\n",
       "      <td>None</td>\n",
       "      <td>Comunidad Autónoma</td>\n",
       "      <td>Astúrias|Asturie|Asturien|Asturies|Astúries|As...</td>\n",
       "      <td>(POLYGON ((-4.5748610496521 43.40013885498047,...</td>\n",
       "    </tr>\n",
       "    <tr>\n",
       "      <th>17</th>\n",
       "      <td>14</td>\n",
       "      <td>0</td>\n",
       "      <td>Autonomous Community</td>\n",
       "      <td>ES.MU</td>\n",
       "      <td>215</td>\n",
       "      <td>18</td>\n",
       "      <td>ESP</td>\n",
       "      <td>Spain</td>\n",
       "      <td>Región de Murcia</td>\n",
       "      <td>None</td>\n",
       "      <td>Comunidad Autónoma</td>\n",
       "      <td>Murcia|Região de Múrcia|Regió de Múrcia|Région...</td>\n",
       "      <td>(POLYGON ((-1.546800971031132 37.4099044799804...</td>\n",
       "    </tr>\n",
       "  </tbody>\n",
       "</table>\n",
       "</div>"
      ],
      "text/plain": [
       "   CCA_1  CCN_1             ENGTYPE_1 HASC_1  ID_0  ID_1  ISO NAME_0  \\\n",
       "0     01      0  Autonomous Community  ES.AN   215     1  ESP  Spain   \n",
       "1     15      0  Autonomous Community  ES.AR   215     2  ESP  Spain   \n",
       "2     06      0  Autonomous Community  ES.CB   215     3  ESP  Spain   \n",
       "3     08      0  Autonomous Community  ES.CM   215     4  ESP  Spain   \n",
       "4     07      0  Autonomous Community  ES.CL   215     5  ESP  Spain   \n",
       "5     09      0  Autonomous Community  ES.CT   215     6  ESP  Spain   \n",
       "6     19      0       Autonomous City  ES.ML   215     7  ESP  Spain   \n",
       "7   None      0  Autonomous Community  ES.MD   215     8  ESP  Spain   \n",
       "8     15      0  Autonomous Community  ES.NA   215     9  ESP  Spain   \n",
       "9     10      0  Autonomous Community  ES.VC   215    10  ESP  Spain   \n",
       "10    11      0  Autonomous Community  ES.EX   215    11  ESP  Spain   \n",
       "11    12      0  Autonomous Community  ES.GA   215    12  ESP  Spain   \n",
       "12    04      0  Autonomous Community  ES.PM   215    13  ESP  Spain   \n",
       "13    05      0  Autonomous Community  ES.CN   215    14  ESP  Spain   \n",
       "14    17      0  Autonomous Community  ES.LO   215    15  ESP  Spain   \n",
       "15    16      0  Autonomous Community  ES.PV   215    16  ESP  Spain   \n",
       "16    03      0  Autonomous Community  ES.AS   215    17  ESP  Spain   \n",
       "17    14      0  Autonomous Community  ES.MU   215    18  ESP  Spain   \n",
       "\n",
       "                        NAME_1 NL_NAME_1              TYPE_1  \\\n",
       "0                    Andalucía      None  Comunidad Autónoma   \n",
       "1                       Aragón      None  Comunidad Autónoma   \n",
       "2                    Cantabria      None  Comunidad Autónoma   \n",
       "3           Castilla-La Mancha      None  Comunidad Autónoma   \n",
       "4              Castilla y León      None  Comunidad Autónoma   \n",
       "5                     Cataluña      None  Comunidad Autónoma   \n",
       "6              Ceuta y Melilla      None  Ciudades Autónomas   \n",
       "7          Comunidad de Madrid      None  Comunidad Autónoma   \n",
       "8   Comunidad Foral de Navarra      None  Comunidad Autónoma   \n",
       "9         Comunidad Valenciana      None  Comunidad Autónoma   \n",
       "10                 Extremadura      None  Comunidad Autónoma   \n",
       "11                     Galicia      None  Comunidad Autónoma   \n",
       "12              Islas Baleares      None  Comunidad Autónoma   \n",
       "13              Islas Canarias      None  Comunidad Autónoma   \n",
       "14                    La Rioja      None  Comunidad Autónoma   \n",
       "15                  País Vasco      None  Comunidad Autónoma   \n",
       "16      Principado de Asturias      None  Comunidad Autónoma   \n",
       "17            Región de Murcia      None  Comunidad Autónoma   \n",
       "\n",
       "                                            VARNAME_1  \\\n",
       "0           Andalousie|Andaluc¡a|Andalusien|Andaluzia   \n",
       "1               Aragão|Aragó|Aragón|Aragona|Aragonien   \n",
       "2            Cantàbria|Cantábria|Cantabrie|Kantabrien   \n",
       "3   Castela-La Mancha|Castela-Mancha|Castella-la M...   \n",
       "4   Castile and Leon|Castela e Leão|Castella i Lle...   \n",
       "5   Catalogna|Catalogne|Catalonia|Catalunha|Catalu...   \n",
       "6                                                None   \n",
       "7   Madrid|Communauté de Madrid| Community of Madr...   \n",
       "8   Communauté forale de Navarre|Comunidade Foral ...   \n",
       "9   Valencia|Communauté de Valence|Comunidade Vale...   \n",
       "10                            Estremadura|Estrémadure   \n",
       "11             Galice|Gal¡cia|Galicien|Galiza|Galizia   \n",
       "12  Balearic Islands|Balearen|Balearene|Baleares|I...   \n",
       "13  Canarias|Canary Islands|Canárias|Ilhas Canária...   \n",
       "14                                              Rioja   \n",
       "15  Basque Country|Baskenland|Basque Autonomous Co...   \n",
       "16  Astúrias|Asturie|Asturien|Asturies|Astúries|As...   \n",
       "17  Murcia|Região de Múrcia|Regió de Múrcia|Région...   \n",
       "\n",
       "                                             geometry  \n",
       "0   (POLYGON ((-3.030138969421387 35.9426383972167...  \n",
       "1   POLYGON ((-0.7458170056343079 42.9219017028809...  \n",
       "2   (POLYGON ((-3.283654928207397 43.2000274658203...  \n",
       "3   (POLYGON ((-3.364175081252995 40.6350708007813...  \n",
       "4   (POLYGON ((-2.830471992492676 42.7921218872070...  \n",
       "5   (POLYGON ((0.7295839786530109 40.7806930541993...  \n",
       "6   (POLYGON ((-4.300693988800049 35.1731948852539...  \n",
       "7   (POLYGON ((-4.256455898284912 40.6638221740723...  \n",
       "8   POLYGON ((-1.655257940292302 43.31251144409185...  \n",
       "9   (POLYGON ((-0.457082986831665 38.1620826721191...  \n",
       "10  POLYGON ((-6.231152057647648 40.48665618896484...  \n",
       "11  (POLYGON ((-8.862917900085449 42.1476402282714...  \n",
       "12  (POLYGON ((1.425971031189079 38.77736282348633...  \n",
       "13  (POLYGON ((-17.92791748046875 27.8495826721191...  \n",
       "14  POLYGON ((-3.004699945449772 42.64425277709972...  \n",
       "15  (POLYGON ((-2.494584083557015 43.3681945800782...  \n",
       "16  (POLYGON ((-4.5748610496521 43.40013885498047,...  \n",
       "17  (POLYGON ((-1.546800971031132 37.4099044799804...  "
      ]
     },
     "execution_count": 7,
     "metadata": {},
     "output_type": "execute_result"
    }
   ],
   "source": [
    "geopandas.GeoDataFrame.from_file('Downloads/ESP_adm_shp/ESP_adm1.shp')"
   ]
  },
  {
   "cell_type": "markdown",
   "metadata": {},
   "source": [
    "En los mapas físicos, las coordenadas están expresadas en grados, así que la posición de Puerto Rico sería:\n",
    "18°14’70” N  66°29’68” W\n",
    "\n",
    "La forma de convertir estos datos a decimales sería:\n",
    "\n",
    "$(18°14’70” N) = (18 + (14 / 60) + (70 / 3600)) = 18.252$\n",
    "\n",
    "$(66°29’68” W) = -(66 + (29 / 60) + (68 / 3600)) = -66.8627$\n",
    "\n",
    "La longitud se multiplica por negativo, porque está a la izquierda (oeste) del punto 0,0. Para esta guía solo vamos a estar trabajando con decimales."
   ]
  },
  {
   "cell_type": "code",
   "execution_count": 6,
   "metadata": {
    "collapsed": true
   },
   "outputs": [],
   "source": [
    "url = 'https://en.wikipedia.org/wiki/ISO_3166-2:ES'"
   ]
  },
  {
   "cell_type": "code",
   "execution_count": 7,
   "metadata": {
    "collapsed": false
   },
   "outputs": [],
   "source": [
    "# obtener códigos ISO:\n",
    "names_iso = pd.read_html(url, header=0, encoding='Latin')[1]"
   ]
  },
  {
   "cell_type": "code",
   "execution_count": 8,
   "metadata": {
    "collapsed": false
   },
   "outputs": [
    {
     "data": {
      "text/html": [
       "<div>\n",
       "<table border=\"1\" class=\"dataframe\">\n",
       "  <thead>\n",
       "    <tr style=\"text-align: right;\">\n",
       "      <th></th>\n",
       "      <th>codigo</th>\n",
       "      <th>nombre</th>\n",
       "      <th>ca</th>\n",
       "    </tr>\n",
       "  </thead>\n",
       "  <tbody>\n",
       "    <tr>\n",
       "      <th>0</th>\n",
       "      <td>ES-C</td>\n",
       "      <td>A Coruña (gl) [La Coruña]</td>\n",
       "      <td>GA</td>\n",
       "    </tr>\n",
       "    <tr>\n",
       "      <th>1</th>\n",
       "      <td>ES-VI</td>\n",
       "      <td>Alava !Álava Araba (eu)</td>\n",
       "      <td>PV</td>\n",
       "    </tr>\n",
       "    <tr>\n",
       "      <th>2</th>\n",
       "      <td>ES-AB</td>\n",
       "      <td>Albacete</td>\n",
       "      <td>CM</td>\n",
       "    </tr>\n",
       "    <tr>\n",
       "      <th>3</th>\n",
       "      <td>ES-A</td>\n",
       "      <td>Alicante Alacant (ca)</td>\n",
       "      <td>VC</td>\n",
       "    </tr>\n",
       "    <tr>\n",
       "      <th>4</th>\n",
       "      <td>ES-AL</td>\n",
       "      <td>Almería</td>\n",
       "      <td>AN</td>\n",
       "    </tr>\n",
       "    <tr>\n",
       "      <th>5</th>\n",
       "      <td>ES-O</td>\n",
       "      <td>Asturias</td>\n",
       "      <td>AS</td>\n",
       "    </tr>\n",
       "    <tr>\n",
       "      <th>6</th>\n",
       "      <td>ES-AV</td>\n",
       "      <td>Avila !Ávila</td>\n",
       "      <td>CL</td>\n",
       "    </tr>\n",
       "    <tr>\n",
       "      <th>7</th>\n",
       "      <td>ES-BA</td>\n",
       "      <td>Badajoz</td>\n",
       "      <td>EX</td>\n",
       "    </tr>\n",
       "    <tr>\n",
       "      <th>8</th>\n",
       "      <td>ES-PM</td>\n",
       "      <td>Balears (ca) [Baleares]</td>\n",
       "      <td>IB</td>\n",
       "    </tr>\n",
       "    <tr>\n",
       "      <th>9</th>\n",
       "      <td>ES-B</td>\n",
       "      <td>Barcelona [Barcelona]</td>\n",
       "      <td>CT</td>\n",
       "    </tr>\n",
       "    <tr>\n",
       "      <th>10</th>\n",
       "      <td>ES-BU</td>\n",
       "      <td>Burgos</td>\n",
       "      <td>CL</td>\n",
       "    </tr>\n",
       "    <tr>\n",
       "      <th>11</th>\n",
       "      <td>ES-CC</td>\n",
       "      <td>Caceres !Cáceres</td>\n",
       "      <td>EX</td>\n",
       "    </tr>\n",
       "    <tr>\n",
       "      <th>12</th>\n",
       "      <td>ES-CA</td>\n",
       "      <td>Cadiz !Cádiz</td>\n",
       "      <td>AN</td>\n",
       "    </tr>\n",
       "    <tr>\n",
       "      <th>13</th>\n",
       "      <td>ES-S</td>\n",
       "      <td>Cantabria</td>\n",
       "      <td>CB</td>\n",
       "    </tr>\n",
       "    <tr>\n",
       "      <th>14</th>\n",
       "      <td>ES-CS</td>\n",
       "      <td>Castellón Castelló (ca)</td>\n",
       "      <td>VC</td>\n",
       "    </tr>\n",
       "    <tr>\n",
       "      <th>15</th>\n",
       "      <td>ES-CR</td>\n",
       "      <td>Ciudad Real</td>\n",
       "      <td>CM</td>\n",
       "    </tr>\n",
       "    <tr>\n",
       "      <th>16</th>\n",
       "      <td>ES-CO</td>\n",
       "      <td>Cordoba !Córdoba</td>\n",
       "      <td>AN</td>\n",
       "    </tr>\n",
       "    <tr>\n",
       "      <th>17</th>\n",
       "      <td>ES-CU</td>\n",
       "      <td>Cuenca</td>\n",
       "      <td>CM</td>\n",
       "    </tr>\n",
       "    <tr>\n",
       "      <th>18</th>\n",
       "      <td>ES-GI</td>\n",
       "      <td>Girona (ca) [Gerona]</td>\n",
       "      <td>CT</td>\n",
       "    </tr>\n",
       "    <tr>\n",
       "      <th>19</th>\n",
       "      <td>ES-GR</td>\n",
       "      <td>Granada</td>\n",
       "      <td>AN</td>\n",
       "    </tr>\n",
       "    <tr>\n",
       "      <th>20</th>\n",
       "      <td>ES-GU</td>\n",
       "      <td>Guadalajara</td>\n",
       "      <td>CM</td>\n",
       "    </tr>\n",
       "    <tr>\n",
       "      <th>21</th>\n",
       "      <td>ES-SS</td>\n",
       "      <td>Gipuzkoa (eu)</td>\n",
       "      <td>PV</td>\n",
       "    </tr>\n",
       "    <tr>\n",
       "      <th>22</th>\n",
       "      <td>ES-H</td>\n",
       "      <td>Huelva</td>\n",
       "      <td>AN</td>\n",
       "    </tr>\n",
       "    <tr>\n",
       "      <th>23</th>\n",
       "      <td>ES-HU</td>\n",
       "      <td>Huesca</td>\n",
       "      <td>AR</td>\n",
       "    </tr>\n",
       "    <tr>\n",
       "      <th>24</th>\n",
       "      <td>ES-J</td>\n",
       "      <td>Jaén</td>\n",
       "      <td>AN</td>\n",
       "    </tr>\n",
       "    <tr>\n",
       "      <th>25</th>\n",
       "      <td>ES-LO</td>\n",
       "      <td>La Rioja</td>\n",
       "      <td>RI</td>\n",
       "    </tr>\n",
       "    <tr>\n",
       "      <th>26</th>\n",
       "      <td>ES-GC</td>\n",
       "      <td>Las Palmas</td>\n",
       "      <td>CN</td>\n",
       "    </tr>\n",
       "    <tr>\n",
       "      <th>27</th>\n",
       "      <td>ES-LE</td>\n",
       "      <td>León</td>\n",
       "      <td>CL</td>\n",
       "    </tr>\n",
       "    <tr>\n",
       "      <th>28</th>\n",
       "      <td>ES-L</td>\n",
       "      <td>Lleida (ca) [Lérida]</td>\n",
       "      <td>CT</td>\n",
       "    </tr>\n",
       "    <tr>\n",
       "      <th>29</th>\n",
       "      <td>ES-LU</td>\n",
       "      <td>Lugo (gl) [Lugo]</td>\n",
       "      <td>GA</td>\n",
       "    </tr>\n",
       "    <tr>\n",
       "      <th>30</th>\n",
       "      <td>ES-M</td>\n",
       "      <td>Madrid</td>\n",
       "      <td>MD</td>\n",
       "    </tr>\n",
       "    <tr>\n",
       "      <th>31</th>\n",
       "      <td>ES-MA</td>\n",
       "      <td>Malaga !Málaga</td>\n",
       "      <td>AN</td>\n",
       "    </tr>\n",
       "    <tr>\n",
       "      <th>32</th>\n",
       "      <td>ES-MU</td>\n",
       "      <td>Murcia</td>\n",
       "      <td>MC</td>\n",
       "    </tr>\n",
       "    <tr>\n",
       "      <th>33</th>\n",
       "      <td>ES-NA</td>\n",
       "      <td>Navarra Nafarroa (eu)</td>\n",
       "      <td>NC</td>\n",
       "    </tr>\n",
       "    <tr>\n",
       "      <th>34</th>\n",
       "      <td>ES-OR</td>\n",
       "      <td>Ourense (gl) [Orense]</td>\n",
       "      <td>GA</td>\n",
       "    </tr>\n",
       "    <tr>\n",
       "      <th>35</th>\n",
       "      <td>ES-P</td>\n",
       "      <td>Palencia</td>\n",
       "      <td>CL</td>\n",
       "    </tr>\n",
       "    <tr>\n",
       "      <th>36</th>\n",
       "      <td>ES-PO</td>\n",
       "      <td>Pontevedra (gl) [Pontevedra]</td>\n",
       "      <td>GA</td>\n",
       "    </tr>\n",
       "    <tr>\n",
       "      <th>37</th>\n",
       "      <td>ES-SA</td>\n",
       "      <td>Salamanca</td>\n",
       "      <td>CL</td>\n",
       "    </tr>\n",
       "    <tr>\n",
       "      <th>38</th>\n",
       "      <td>ES-TF</td>\n",
       "      <td>Santa Cruz de Tenerife</td>\n",
       "      <td>CN</td>\n",
       "    </tr>\n",
       "    <tr>\n",
       "      <th>39</th>\n",
       "      <td>ES-SG</td>\n",
       "      <td>Segovia</td>\n",
       "      <td>CL</td>\n",
       "    </tr>\n",
       "    <tr>\n",
       "      <th>40</th>\n",
       "      <td>ES-SE</td>\n",
       "      <td>Sevilla</td>\n",
       "      <td>AN</td>\n",
       "    </tr>\n",
       "    <tr>\n",
       "      <th>41</th>\n",
       "      <td>ES-SO</td>\n",
       "      <td>Soria</td>\n",
       "      <td>CL</td>\n",
       "    </tr>\n",
       "    <tr>\n",
       "      <th>42</th>\n",
       "      <td>ES-T</td>\n",
       "      <td>Tarragona (ca) [Tarragona]</td>\n",
       "      <td>CT</td>\n",
       "    </tr>\n",
       "    <tr>\n",
       "      <th>43</th>\n",
       "      <td>ES-TE</td>\n",
       "      <td>Teruel</td>\n",
       "      <td>AR</td>\n",
       "    </tr>\n",
       "    <tr>\n",
       "      <th>44</th>\n",
       "      <td>ES-TO</td>\n",
       "      <td>Toledo</td>\n",
       "      <td>CM</td>\n",
       "    </tr>\n",
       "    <tr>\n",
       "      <th>45</th>\n",
       "      <td>ES-V</td>\n",
       "      <td>Valencia València (ca)</td>\n",
       "      <td>VC</td>\n",
       "    </tr>\n",
       "    <tr>\n",
       "      <th>46</th>\n",
       "      <td>ES-VA</td>\n",
       "      <td>Valladolid</td>\n",
       "      <td>CL</td>\n",
       "    </tr>\n",
       "    <tr>\n",
       "      <th>47</th>\n",
       "      <td>ES-BI</td>\n",
       "      <td>Bizkaia (eu)</td>\n",
       "      <td>PV</td>\n",
       "    </tr>\n",
       "    <tr>\n",
       "      <th>48</th>\n",
       "      <td>ES-ZA</td>\n",
       "      <td>Zamora</td>\n",
       "      <td>CL</td>\n",
       "    </tr>\n",
       "    <tr>\n",
       "      <th>49</th>\n",
       "      <td>ES-Z</td>\n",
       "      <td>Zaragoza</td>\n",
       "      <td>AR</td>\n",
       "    </tr>\n",
       "  </tbody>\n",
       "</table>\n",
       "</div>"
      ],
      "text/plain": [
       "   codigo                        nombre  ca\n",
       "0    ES-C     A Coruña (gl) [La Coruña]  GA\n",
       "1   ES-VI       Alava !Álava Araba (eu)  PV\n",
       "2   ES-AB                      Albacete  CM\n",
       "3    ES-A         Alicante Alacant (ca)  VC\n",
       "4   ES-AL                       Almería  AN\n",
       "5    ES-O                      Asturias  AS\n",
       "6   ES-AV                  Avila !Ávila  CL\n",
       "7   ES-BA                       Badajoz  EX\n",
       "8   ES-PM       Balears (ca) [Baleares]  IB\n",
       "9    ES-B         Barcelona [Barcelona]  CT\n",
       "10  ES-BU                        Burgos  CL\n",
       "11  ES-CC              Caceres !Cáceres  EX\n",
       "12  ES-CA                  Cadiz !Cádiz  AN\n",
       "13   ES-S                     Cantabria  CB\n",
       "14  ES-CS       Castellón Castelló (ca)  VC\n",
       "15  ES-CR                   Ciudad Real  CM\n",
       "16  ES-CO              Cordoba !Córdoba  AN\n",
       "17  ES-CU                        Cuenca  CM\n",
       "18  ES-GI          Girona (ca) [Gerona]  CT\n",
       "19  ES-GR                       Granada  AN\n",
       "20  ES-GU                   Guadalajara  CM\n",
       "21  ES-SS                 Gipuzkoa (eu)  PV\n",
       "22   ES-H                        Huelva  AN\n",
       "23  ES-HU                        Huesca  AR\n",
       "24   ES-J                          Jaén  AN\n",
       "25  ES-LO                      La Rioja  RI\n",
       "26  ES-GC                    Las Palmas  CN\n",
       "27  ES-LE                          León  CL\n",
       "28   ES-L          Lleida (ca) [Lérida]  CT\n",
       "29  ES-LU              Lugo (gl) [Lugo]  GA\n",
       "30   ES-M                        Madrid  MD\n",
       "31  ES-MA                Malaga !Málaga  AN\n",
       "32  ES-MU                        Murcia  MC\n",
       "33  ES-NA         Navarra Nafarroa (eu)  NC\n",
       "34  ES-OR         Ourense (gl) [Orense]  GA\n",
       "35   ES-P                      Palencia  CL\n",
       "36  ES-PO  Pontevedra (gl) [Pontevedra]  GA\n",
       "37  ES-SA                     Salamanca  CL\n",
       "38  ES-TF        Santa Cruz de Tenerife  CN\n",
       "39  ES-SG                       Segovia  CL\n",
       "40  ES-SE                       Sevilla  AN\n",
       "41  ES-SO                         Soria  CL\n",
       "42   ES-T    Tarragona (ca) [Tarragona]  CT\n",
       "43  ES-TE                        Teruel  AR\n",
       "44  ES-TO                        Toledo  CM\n",
       "45   ES-V        Valencia València (ca)  VC\n",
       "46  ES-VA                    Valladolid  CL\n",
       "47  ES-BI                  Bizkaia (eu)  PV\n",
       "48  ES-ZA                        Zamora  CL\n",
       "49   ES-Z                      Zaragoza  AR"
      ]
     },
     "execution_count": 8,
     "metadata": {},
     "output_type": "execute_result"
    }
   ],
   "source": [
    "names_iso.columns = 'codigo nombre ca'.split()\n",
    "names_iso"
   ]
  },
  {
   "cell_type": "code",
   "execution_count": 9,
   "metadata": {
    "collapsed": false
   },
   "outputs": [],
   "source": [
    "%matplotlib inline"
   ]
  },
  {
   "cell_type": "code",
   "execution_count": 10,
   "metadata": {
    "collapsed": false
   },
   "outputs": [],
   "source": [
    "%load_ext rpy2.ipython"
   ]
  },
  {
   "cell_type": "code",
   "execution_count": 4,
   "metadata": {
    "collapsed": false
   },
   "outputs": [
    {
     "name": "stdout",
     "output_type": "stream",
     "text": [
      "/Users/mmngreco\n"
     ]
    }
   ],
   "source": [
    "cd"
   ]
  },
  {
   "cell_type": "code",
   "execution_count": 47,
   "metadata": {
    "collapsed": false
   },
   "outputs": [
    {
     "data": {
      "text/plain": [
       "<RS4 - Python:0x110380088 / R:0x7fa29d1ef348>"
      ]
     },
     "execution_count": 47,
     "metadata": {},
     "output_type": "execute_result"
    }
   ],
   "source": [
    "%R -o data data <- readRDS(\"Downloads/ESP_adm1-2.rds\")"
   ]
  },
  {
   "cell_type": "code",
   "execution_count": 294,
   "metadata": {
    "collapsed": false
   },
   "outputs": [
    {
     "data": {
      "image/png": "[encoded data removed]"
     },
     "metadata": {},
     "output_type": "display_data"
    }
   ],
   "source": [
    "%%R\n",
    "plot(data[1])"
   ]
  },
  {
   "cell_type": "code",
   "execution_count": 295,
   "metadata": {
    "collapsed": false
   },
   "outputs": [
    {
     "data": {
      "text/plain": [
       "'Zaragoza'"
      ]
     },
     "execution_count": 295,
     "metadata": {},
     "output_type": "execute_result"
    }
   ],
   "source": [
    "g = geocoder.google(coords['zaragoza'], method='reverse')\n",
    "g.json['city']"
   ]
  },
  {
   "cell_type": "code",
   "execution_count": 64,
   "metadata": {
    "collapsed": false
   },
   "outputs": [
    {
     "name": "stdout",
     "output_type": "stream",
     "text": [
      "<[ERROR - No results found] Yahoo - Geocode>\n"
     ]
    },
    {
     "ename": "KeyError",
     "evalue": "'lat'",
     "output_type": "error",
     "traceback": [
      "\u001b[0;31m---------------------------------------------------------------------------\u001b[0m",
      "\u001b[0;31mKeyError\u001b[0m                                  Traceback (most recent call last)",
      "\u001b[0;32m<ipython-input-64-a387f633fa72>\u001b[0m in \u001b[0;36m<module>\u001b[0;34m()\u001b[0m\n\u001b[1;32m      5\u001b[0m     \u001b[0mg\u001b[0m \u001b[0;34m=\u001b[0m \u001b[0mgeocoder\u001b[0m\u001b[0;34m.\u001b[0m\u001b[0myahoo\u001b[0m\u001b[0;34m(\u001b[0m\u001b[0mloc\u001b[0m\u001b[0;34m)\u001b[0m\u001b[0;34m\u001b[0m\u001b[0m\n\u001b[1;32m      6\u001b[0m     \u001b[0mprint\u001b[0m\u001b[0;34m(\u001b[0m\u001b[0mg\u001b[0m\u001b[0;34m)\u001b[0m\u001b[0;34m\u001b[0m\u001b[0m\n\u001b[0;32m----> 7\u001b[0;31m     \u001b[0mx1\u001b[0m \u001b[0;34m=\u001b[0m \u001b[0mg\u001b[0m\u001b[0;34m.\u001b[0m\u001b[0mjson\u001b[0m\u001b[0;34m[\u001b[0m\u001b[0;34m'lat'\u001b[0m\u001b[0;34m]\u001b[0m\u001b[0;34m\u001b[0m\u001b[0m\n\u001b[0m\u001b[1;32m      8\u001b[0m     \u001b[0mx2\u001b[0m \u001b[0;34m=\u001b[0m \u001b[0mg\u001b[0m\u001b[0;34m.\u001b[0m\u001b[0mjson\u001b[0m\u001b[0;34m[\u001b[0m\u001b[0;34m'lng'\u001b[0m\u001b[0;34m]\u001b[0m\u001b[0;34m\u001b[0m\u001b[0m\n\u001b[1;32m      9\u001b[0m     \u001b[0mprint\u001b[0m\u001b[0;34m(\u001b[0m\u001b[0mloc\u001b[0m\u001b[0;34m,\u001b[0m \u001b[0mx1\u001b[0m\u001b[0;34m,\u001b[0m \u001b[0mx2\u001b[0m\u001b[0;34m,\u001b[0m \u001b[0msqrt\u001b[0m\u001b[0;34m(\u001b[0m\u001b[0mx1\u001b[0m \u001b[0;34m**\u001b[0m \u001b[0;36m2\u001b[0m \u001b[0;34m+\u001b[0m \u001b[0mx2\u001b[0m \u001b[0;34m**\u001b[0m \u001b[0;36m2\u001b[0m\u001b[0;34m)\u001b[0m\u001b[0;34m)\u001b[0m\u001b[0;34m\u001b[0m\u001b[0m\n",
      "\u001b[0;31mKeyError\u001b[0m: 'lat'"
     ]
    }
   ],
   "source": [
    "localidades = ['zaragoza', 'oviedo', 'huesca', 'madrid', 'bilbao']\n",
    "distancias = dict()\n",
    "coords = dict()\n",
    "for loc in localidades:\n",
    "    g = geocoder.google(loc)\n",
    "    x1 = g.json['lat']\n",
    "    x2 = g.json['lng']\n",
    "    print(loc, x1, x2, sqrt(x1 ** 2 + x2 ** 2))\n",
    "    distancias[loc] = sqrt(x1 ** 2 + x2 ** 2)\n",
    "    coords[loc] = [x1, x2]"
   ]
  },
  {
   "cell_type": "markdown",
   "metadata": {},
   "source": [
    "SERIE TEMPORAL VENTAS DEL TIPO:\n",
    "\n",
    "$y_t = \\delta_0 + \\delta_1 * t + u_t$"
   ]
  },
  {
   "cell_type": "code",
   "execution_count": 10,
   "metadata": {
    "collapsed": true
   },
   "outputs": [],
   "source": [
    "# clientes\n",
    "year = 360"
   ]
  },
  {
   "cell_type": "code",
   "execution_count": 11,
   "metadata": {
    "collapsed": true
   },
   "outputs": [],
   "source": [
    "t = np.arange(1, year * 3)"
   ]
  },
  {
   "cell_type": "code",
   "execution_count": 167,
   "metadata": {
    "collapsed": false
   },
   "outputs": [
    {
     "name": "stdout",
     "output_type": "stream",
     "text": [
      "[ 590.16120346] [ 10.38291888] 0.000503661149549 6196.93790337\n",
      "[ 297.1681627] [ 9.53848207] 0.000503661149549 5447.94898339\n",
      "[ 778.74187681] [ 11.36171234] 0.000503661149549 6914.06704252\n",
      "[ 175.29527891] [ 9.84534334] 0.000503661149549 5491.78118369\n",
      "[ 820.37188182] [ 7.67357024] 0.000503661149549 4964.10031528\n"
     ]
    },
    {
     "data": {
      "image/png": "[encoded data removed]",
      "text/plain": [
       "<matplotlib.figure.Figure at 0x116f0e518>"
      ]
     },
     "metadata": {},
     "output_type": "display_data"
    }
   ],
   "source": [
    "names = 'c1, c2, c3, c4, c5'.split(', ')\n",
    "\n",
    "for c in names:\n",
    "    ut = np.sin(np.arange(len(t)) * 48) * 4\n",
    "    delta0 = np.random.uniform(100, 10**3, 1)\n",
    "    delta1 = np.random.normal(10, 1, 1)\n",
    "    \n",
    "    globals()[c] = delta1 * t + ut + delta0\n",
    "    globals()[c].flatten()\n",
    "    \n",
    "    print(delta0, delta1, np.mean(ut.flatten()), np.mean(globals()[c]))\n",
    "\n",
    "clientes = [c1,c2,c3,c4,c5]\n",
    "\n",
    "for c in clientes:\n",
    "    g = plt.plot(c)"
   ]
  },
  {
   "cell_type": "markdown",
   "metadata": {},
   "source": [
    "$\\text{Min:} \\sum{c_i · w_i · d_i}$"
   ]
  },
  {
   "cell_type": "code",
   "execution_count": 13,
   "metadata": {
    "collapsed": false
   },
   "outputs": [],
   "source": [
    "wi = np.array(list(map(np.mean, clientes)))\n",
    "ci = np.random.uniform(0.2, 1, size=len(clientes))\n",
    "#di = np.array(list(distancias.values()))\n",
    "\n",
    "# QUE ES LO QUE SE MINIMIZA???\n",
    "# PROBLEMA DE TRANSPORTE\n",
    "# ELEGIMOS COORDENADAS\n"
   ]
  },
  {
   "cell_type": "code",
   "execution_count": 101,
   "metadata": {
    "collapsed": true
   },
   "outputs": [],
   "source": [
    "# montecarlo\n",
    "xmax = (3.15856)\n",
    "xmin = (-9.2395)\n",
    "\n",
    "ymax = (43.72)\n",
    "ymin = (36.06)\n",
    "\n",
    "xs = np.random.uniform(xmin, xmax, 100)\n",
    "ys = np.random.uniform(ymin, ymax, 100)"
   ]
  },
  {
   "cell_type": "code",
   "execution_count": 169,
   "metadata": {
    "collapsed": false,
    "scrolled": true
   },
   "outputs": [
    {
     "ename": "SystemExit",
     "evalue": "",
     "output_type": "error",
     "traceback": [
      "An exception has occurred, use %tb to see the full traceback.\n",
      "\u001b[0;31mSystemExit\u001b[0m\n"
     ]
    },
    {
     "name": "stderr",
     "output_type": "stream",
     "text": [
      "To exit: use 'exit', 'quit', or Ctrl-D.\n"
     ]
    }
   ],
   "source": [
    "# googlemaps\n",
    "\n",
    "montecarlo = {}\n",
    "\n",
    "for x in zip(ys,xs):\n",
    "    g = geocoder.google(x, method='reverse', )\n",
    "    try:\n",
    "        loc = '%s: %s' % (g.json['country'], g.json['state'])\n",
    "        print(g.json['country'], g.json['state'])\n",
    "    except:\n",
    "        continue\n",
    "    lat = g.json['lat']\n",
    "    lng = g.json['lng']\n",
    "    coordenadas = [[lat,lng]]\n",
    "    montecarlo[loc] = montecarlo.get(loc, coordenadas) + coordenadas"
   ]
  },
  {
   "cell_type": "code",
   "execution_count": 97,
   "metadata": {
    "collapsed": true
   },
   "outputs": [],
   "source": [
    "mapquest_api = open('Documents/mq_api.txt').read()\n",
    "gmaps_api = open('Documents/googlemaps_api.txt').read()\n",
    "geocoder_api = open('Documents/geocoder_api.txt').read()\n",
    "mbox_api = open('Documents/mbox_api.txt').read()"
   ]
  },
  {
   "cell_type": "raw",
   "metadata": {
    "collapsed": false
   },
   "source": [
    "# MAPQUEST\n",
    "montecarlo = {}\n",
    "\n",
    "for x in zip(ys,xs):\n",
    "    g = geocoder.mapbox(x, method='reverse', key=mbox_api)\n",
    "    try:\n",
    "        loc = '%s: %s' % (g.json['country'], g.json['state'])\n",
    "        print(g.json['country'], g.json['state'])\n",
    "    except:\n",
    "        continue\n",
    "\n",
    "    lat = g.json['lat']\n",
    "    lng = g.json['lng']\n",
    "    coordenadas = [[lat,lng]]\n",
    "    montecarlo[loc] = montecarlo.get(loc, coordenadas) + coordenadas\n",
    "    sleep(3)\n"
   ]
  },
  {
   "cell_type": "code",
   "execution_count": 48,
   "metadata": {
    "collapsed": false
   },
   "outputs": [
    {
     "name": "stdout",
     "output_type": "stream",
     "text": [
      "Principado de Asturias\n",
      "Región de Murcia\n",
      "Navarra\n",
      "Comunidad Valenciana\n",
      "[]\n",
      "Comunidad de Madrid\n",
      "['ES-AL']\n",
      "[]\n",
      "['ES-PM']\n",
      "[]\n",
      "[]\n",
      "[]\n",
      "[]\n",
      "La Rioja\n",
      "Aragón\n",
      "Cantabria\n"
     ]
    }
   ],
   "source": [
    "# TRADUCIR LOS NOMBRES QUE NO SALEN\n",
    "for k in montecarlo.keys():\n",
    "    if k.startswith('ES'):\n",
    "        if len(k[4:]) > 2:\n",
    "            print(k[4:])\n",
    "        else:\n",
    "            name = names_iso[names_iso.codigo == k.replace(': ', '-')]['codigo'].values\n",
    "            \n",
    "            if len(name) == 0:\n",
    "                name = names_iso[names_iso.codigo == k.replace(': ', '-')]['ca'].values\n",
    "            print(name)"
   ]
  },
  {
   "cell_type": "code",
   "execution_count": 49,
   "metadata": {
    "collapsed": false
   },
   "outputs": [
    {
     "data": {
      "image/png": "[encoded data removed]",
      "text/plain": [
       "<matplotlib.figure.Figure at 0x110c37710>"
      ]
     },
     "metadata": {},
     "output_type": "display_data"
    }
   ],
   "source": [
    "plt.figure(figsize=(10,10))\n",
    "for k, cs in montecarlo.items():\n",
    "    x = [c[0] for c in cs]\n",
    "    y = [c[1] for c in cs]\n",
    "\n",
    "    if k.startswith('ES'):\n",
    "        plt.scatter(y, x, color='red', marker='o', alpha=0.5)\n",
    "    else:\n",
    "        plt.scatter(y, x, alpha=0.5)\n",
    "\n",
    "#plt.ylim(ymin, ymax)\n",
    "#plt.xlim(xmin, xmax)"
   ]
  },
  {
   "cell_type": "code",
   "execution_count": 54,
   "metadata": {
    "collapsed": true
   },
   "outputs": [],
   "source": [
    "file_name = 'Documents/repos/unizar/SIAD/Trabajo Grupo/coordenadas.csv'"
   ]
  },
  {
   "cell_type": "code",
   "execution_count": 50,
   "metadata": {
    "collapsed": false
   },
   "outputs": [],
   "source": [
    "f = open(file_name, 'a')\n",
    "for loc, coords in montecarlo.items():\n",
    "    for xy in coords:\n",
    "        print('%s,%s,%s' % (loc,*xy), file=f)\n",
    "f.close()"
   ]
  },
  {
   "cell_type": "code",
   "execution_count": 57,
   "metadata": {
    "collapsed": false
   },
   "outputs": [],
   "source": [
    "xys = pd.read_csv(file_name, header=None)"
   ]
  },
  {
   "cell_type": "code",
   "execution_count": null,
   "metadata": {
    "collapsed": true
   },
   "outputs": [],
   "source": [
    "xys.columns = ['label', 'x', 'y']"
   ]
  },
  {
   "cell_type": "code",
   "execution_count": 61,
   "metadata": {
    "collapsed": false
   },
   "outputs": [],
   "source": [
    "xys['pais'] = xys['label'].apply(lambda x: x[:2])"
   ]
  },
  {
   "cell_type": "code",
   "execution_count": 65,
   "metadata": {
    "collapsed": true
   },
   "outputs": [],
   "source": [
    "xys['prov'] = xys['label'].apply(lambda x: x.split(': ')[1])"
   ]
  },
  {
   "cell_type": "code",
   "execution_count": 100,
   "metadata": {
    "collapsed": false
   },
   "outputs": [
    {
     "data": {
      "image/png": "[encoded data removed]",
      "text/plain": [
       "<matplotlib.figure.Figure at 0x119b67be0>"
      ]
     },
     "metadata": {},
     "output_type": "display_data"
    }
   ],
   "source": [
    "plt.figure(figsize=(8,8))\n",
    "ax = plt.subplot(1,1,1)\n",
    "xys[xys.pais == 'ES'].plot(kind='scatter', x='y', y='x', alpha=0.6, ax=ax)\n",
    "xys[xys.prov == 'Aragón'].plot(kind='scatter', x='y', y='x', alpha=0.6, ax=ax, color='Indianred')\n",
    "ax.grid(True, linestyle='--')\n",
    "plt.tight_layout()"
   ]
  },
  {
   "cell_type": "code",
   "execution_count": 94,
   "metadata": {
    "collapsed": false
   },
   "outputs": [
    {
     "data": {
      "text/plain": [
       "array(['Región de Murcia', 'Comunidad Valenciana', 'AL', 'CL', 'Navarra',\n",
       "       'Principado de Asturias', 'Cantabria', 'GA', 'Comunidad de Madrid',\n",
       "       'PV', 'PM', 'CM', 'CT', 'EX', 'La Rioja', 'Aragón'], dtype=object)"
      ]
     },
     "execution_count": 94,
     "metadata": {},
     "output_type": "execute_result"
    }
   ],
   "source": [
    "ca = xys[xys.pais == 'ES'].prov.unique()"
   ]
  },
  {
   "cell_type": "code",
   "execution_count": null,
   "metadata": {
    "collapsed": true
   },
   "outputs": [],
   "source": []
  }
 ],
 "metadata": {
  "kernelspec": {
   "display_name": "Python 3",
   "language": "python",
   "name": "python3"
  },
  "language_info": {
   "codemirror_mode": {
    "name": "ipython",
    "version": 3
   },
   "file_extension": ".py",
   "mimetype": "text/x-python",
   "name": "python",
   "nbconvert_exporter": "python",
   "pygments_lexer": "ipython3",
   "version": "3.5.0"
  }
 },
 "nbformat": 4,
 "nbformat_minor": 0
}
