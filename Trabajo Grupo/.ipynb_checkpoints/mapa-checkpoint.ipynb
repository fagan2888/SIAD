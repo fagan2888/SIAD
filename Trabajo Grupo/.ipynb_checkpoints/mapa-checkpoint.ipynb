{
 "cells": [
  {
   "cell_type": "code",
   "execution_count": 1,
   "metadata": {
    "collapsed": false,
    "slideshow": {
     "slide_type": "skip"
    }
   },
   "outputs": [],
   "source": [
    "from IPython.display import Markdown\n",
    "import matplotlib.pyplot as plt\n",
    "import numpy as np\n",
    "import pandas as pd\n",
    "import geocoder\n",
    "from time import sleep\n",
    "from IPython.display import IFrame"
   ]
  },
  {
   "cell_type": "code",
   "execution_count": 2,
   "metadata": {
    "collapsed": true,
    "slideshow": {
     "slide_type": "skip"
    }
   },
   "outputs": [],
   "source": [
    "from datetime import datetime"
   ]
  },
  {
   "cell_type": "code",
   "execution_count": 3,
   "metadata": {
    "collapsed": false,
    "slideshow": {
     "slide_type": "skip"
    }
   },
   "outputs": [],
   "source": [
    "from scipy.optimize import fmin, fmin_bfgs, differential_evolution, basinhopping, brute"
   ]
  },
  {
   "cell_type": "code",
   "execution_count": 4,
   "metadata": {
    "collapsed": false,
    "slideshow": {
     "slide_type": "skip"
    }
   },
   "outputs": [
    {
     "name": "stderr",
     "output_type": "stream",
     "text": [
      "/Users/mmngreco/Virtualenvs/ipynb/lib/python3.5/site-packages/matplotlib/__init__.py:872: UserWarning: axes.color_cycle is deprecated and replaced with axes.prop_cycle; please use the latter.\n",
      "  warnings.warn(self.msg_depr % (key, alt_key))\n"
     ]
    }
   ],
   "source": [
    "import seaborn as sns\n",
    "sns.set(style=\"ticks\", palette=\"Set2\")"
   ]
  },
  {
   "cell_type": "code",
   "execution_count": 5,
   "metadata": {
    "collapsed": false,
    "slideshow": {
     "slide_type": "skip"
    }
   },
   "outputs": [],
   "source": [
    "url = 'https://en.wikipedia.org/wiki/ISO_3166-2:ES'\n",
    "\n",
    "# obtener códigos ISO:\n",
    "ca_iso = pd.read_html(url, header=0, encoding='Latin')[0]\n",
    "ca_iso.drop(ca_iso.columns[-1], axis=1, inplace=True)\n",
    "ca_iso.columns = 'codigo nombre'.split()\n",
    "ca_iso.codigo = ca_iso.codigo.apply(lambda x: x.split('-')[1])\n",
    "ca_iso.index = ca_iso.codigo"
   ]
  },
  {
   "cell_type": "code",
   "execution_count": 6,
   "metadata": {
    "collapsed": false,
    "slideshow": {
     "slide_type": "skip"
    }
   },
   "outputs": [
    {
     "data": {
      "text/html": [
       "<div>\n",
       "<table border=\"1\" class=\"dataframe\">\n",
       "  <thead>\n",
       "    <tr style=\"text-align: right;\">\n",
       "      <th></th>\n",
       "      <th>codigo</th>\n",
       "      <th>nombre</th>\n",
       "    </tr>\n",
       "    <tr>\n",
       "      <th>codigo</th>\n",
       "      <th></th>\n",
       "      <th></th>\n",
       "    </tr>\n",
       "  </thead>\n",
       "  <tbody>\n",
       "    <tr>\n",
       "      <th>AN</th>\n",
       "      <td>AN</td>\n",
       "      <td>Andalucía</td>\n",
       "    </tr>\n",
       "    <tr>\n",
       "      <th>AR</th>\n",
       "      <td>AR</td>\n",
       "      <td>Aragón</td>\n",
       "    </tr>\n",
       "    <tr>\n",
       "      <th>AS</th>\n",
       "      <td>AS</td>\n",
       "      <td>Asturias, Principado de</td>\n",
       "    </tr>\n",
       "    <tr>\n",
       "      <th>CN</th>\n",
       "      <td>CN</td>\n",
       "      <td>Canarias</td>\n",
       "    </tr>\n",
       "    <tr>\n",
       "      <th>CB</th>\n",
       "      <td>CB</td>\n",
       "      <td>Cantabria</td>\n",
       "    </tr>\n",
       "    <tr>\n",
       "      <th>CM</th>\n",
       "      <td>CM</td>\n",
       "      <td>Castilla La Mancha ! Castilla-La Mancha</td>\n",
       "    </tr>\n",
       "    <tr>\n",
       "      <th>CL</th>\n",
       "      <td>CL</td>\n",
       "      <td>Castilla y León</td>\n",
       "    </tr>\n",
       "    <tr>\n",
       "      <th>CT</th>\n",
       "      <td>CT</td>\n",
       "      <td>Catalunya (ca) [Cataluña]</td>\n",
       "    </tr>\n",
       "    <tr>\n",
       "      <th>EX</th>\n",
       "      <td>EX</td>\n",
       "      <td>Extremadura</td>\n",
       "    </tr>\n",
       "    <tr>\n",
       "      <th>GA</th>\n",
       "      <td>GA</td>\n",
       "      <td>Galicia (gl) [Galicia]</td>\n",
       "    </tr>\n",
       "    <tr>\n",
       "      <th>IB</th>\n",
       "      <td>IB</td>\n",
       "      <td>Illes Balears (ca) [Islas Baleares]</td>\n",
       "    </tr>\n",
       "    <tr>\n",
       "      <th>RI</th>\n",
       "      <td>RI</td>\n",
       "      <td>La Rioja</td>\n",
       "    </tr>\n",
       "    <tr>\n",
       "      <th>MD</th>\n",
       "      <td>MD</td>\n",
       "      <td>Madrid, Comunidad de</td>\n",
       "    </tr>\n",
       "    <tr>\n",
       "      <th>MC</th>\n",
       "      <td>MC</td>\n",
       "      <td>Murcia, Región de</td>\n",
       "    </tr>\n",
       "    <tr>\n",
       "      <th>NC</th>\n",
       "      <td>NC</td>\n",
       "      <td>Navarra, Comunidad Foral de Nafarroako Foru Ko...</td>\n",
       "    </tr>\n",
       "    <tr>\n",
       "      <th>PV</th>\n",
       "      <td>PV</td>\n",
       "      <td>País Vasco Euskal Herria (eu)</td>\n",
       "    </tr>\n",
       "    <tr>\n",
       "      <th>VC</th>\n",
       "      <td>VC</td>\n",
       "      <td>Valenciana, Comunidad Valenciana, Comunitat (ca)</td>\n",
       "    </tr>\n",
       "    <tr>\n",
       "      <th>CE</th>\n",
       "      <td>CE</td>\n",
       "      <td>Ceuta</td>\n",
       "    </tr>\n",
       "    <tr>\n",
       "      <th>ML</th>\n",
       "      <td>ML</td>\n",
       "      <td>Melilla</td>\n",
       "    </tr>\n",
       "  </tbody>\n",
       "</table>\n",
       "</div>"
      ],
      "text/plain": [
       "       codigo                                             nombre\n",
       "codigo                                                          \n",
       "AN         AN                                          Andalucía\n",
       "AR         AR                                             Aragón\n",
       "AS         AS                            Asturias, Principado de\n",
       "CN         CN                                           Canarias\n",
       "CB         CB                                          Cantabria\n",
       "CM         CM            Castilla La Mancha ! Castilla-La Mancha\n",
       "CL         CL                                    Castilla y León\n",
       "CT         CT                          Catalunya (ca) [Cataluña]\n",
       "EX         EX                                        Extremadura\n",
       "GA         GA                             Galicia (gl) [Galicia]\n",
       "IB         IB                Illes Balears (ca) [Islas Baleares]\n",
       "RI         RI                                           La Rioja\n",
       "MD         MD                               Madrid, Comunidad de\n",
       "MC         MC                                  Murcia, Región de\n",
       "NC         NC  Navarra, Comunidad Foral de Nafarroako Foru Ko...\n",
       "PV         PV                      País Vasco Euskal Herria (eu)\n",
       "VC         VC   Valenciana, Comunidad Valenciana, Comunitat (ca)\n",
       "CE         CE                                              Ceuta\n",
       "ML         ML                                            Melilla"
      ]
     },
     "execution_count": 6,
     "metadata": {},
     "output_type": "execute_result"
    }
   ],
   "source": [
    "ca_iso"
   ]
  },
  {
   "cell_type": "raw",
   "metadata": {
    "collapsed": false,
    "slideshow": {
     "slide_type": "skip"
    }
   },
   "source": [
    "cd"
   ]
  },
  {
   "cell_type": "code",
   "execution_count": 7,
   "metadata": {
    "collapsed": false,
    "slideshow": {
     "slide_type": "skip"
    }
   },
   "outputs": [
    {
     "data": {
      "text/plain": [
       "'/Users/mmngreco/Documents/repos/unizar/SIAD/Trabajo Grupo'"
      ]
     },
     "execution_count": 7,
     "metadata": {},
     "output_type": "execute_result"
    }
   ],
   "source": [
    "pwd"
   ]
  },
  {
   "cell_type": "code",
   "execution_count": 8,
   "metadata": {
    "collapsed": false,
    "slideshow": {
     "slide_type": "skip"
    }
   },
   "outputs": [],
   "source": [
    "%matplotlib inline"
   ]
  },
  {
   "cell_type": "markdown",
   "metadata": {
    "slideshow": {
     "slide_type": "slide"
    }
   },
   "source": [
    "# PROBLEMA \n",
    "\n",
    "## $\\min_{x_0, y_0}{\\sum{c_i · w_i · d_i}}$\n",
    "\n",
    "$d_i = \\sqrt{(x_i - x_0)^2 + (y_i - y_0)^2}$\n",
    "\n",
    "__DONDE:__\n",
    "\n",
    "- $c_i$: Coste ¿unitario?.\n",
    "- $w_i$: Unidades demandadas de bienes (media de los últimos 3 años)\n",
    "- $d_i$: Distancia al almacén.\n",
    "- $x_i$: Coordenada eje x (Longitud)\n",
    "- $y_i$: Coordenada eje y (Latitud)\n",
    "\n",
    "__Variables de decisión:__ $x_0, y_0$ "
   ]
  },
  {
   "cell_type": "markdown",
   "metadata": {
    "code_folding": [
     0
    ],
    "slideshow": {
     "slide_type": "slide"
    }
   },
   "source": [
    "# SIMULACIÓN\n",
    "\n",
    "## DEMANDA (CLIENTES)\n",
    "\n",
    "### SERIE TEMPORAL TIPO:\n",
    "\n",
    "### $y_t = \\delta_0 + \\delta_1 · t + u_t$\n",
    "\n",
    "### Donde:\n",
    "- $y_t$ : Ventas para cada período t.\n",
    "- $\\delta_0$ : Ventas indendientes o autónomas. (Stock de Seguridad pe.)\n",
    "- $\\delta_1$ : Pendiente la recta.\n",
    "- $u_t$ : Ruido ~ N(0, 5)\n",
    "\n",
    "En este caso para darle más realismo, $\\delta_0 = \\delta_a + \\delta_b · sin(x)$, de esta forma introducimos un posible componente estacional, que depende cuán grande sea $\\delta_b$."
   ]
  },
  {
   "cell_type": "code",
   "execution_count": 9,
   "metadata": {
    "code_folding": [
     0
    ],
    "collapsed": false,
    "scrolled": false,
    "slideshow": {
     "slide_type": "skip"
    }
   },
   "outputs": [
    {
     "data": {
      "image/png": "[encoded data removed]",
      "text/plain": [
       "<matplotlib.figure.Figure at 0x110cf8a90>"
      ]
     },
     "metadata": {},
     "output_type": "display_data"
    }
   ],
   "source": [
    "# dda\n",
    "clientes = dict()\n",
    "days_by_year = 365\n",
    "nperiodos = 3 * days_by_year\n",
    "tiempo = np.linspace(0 , 50, nperiodos)\n",
    "\n",
    "\n",
    "for c in range(5):\n",
    "\n",
    "    pendiente = np.random.uniform(0.5, 10)\n",
    "    ruido = np.random.normal(0, 5, nperiodos)\n",
    "    freq = np.random.normal(10, 10)\n",
    "    demanda_a = np.random.normal(1000, 30)\n",
    "    band = np.random.uniform() < 0.4\n",
    "    demanda = demanda_a + (np.cos(tiempo)*band + np.sin(tiempo)*(1-band)) * freq + pendiente * tiempo + ruido\n",
    "    cname = 'cliente%s' % (c+1)\n",
    "    clientes[cname] = demanda\n",
    "\n",
    "    plt.plot(demanda, alpha=0.8, label=cname, linewidth=0.91)\n",
    "\n",
    "sns.despine()\n",
    "plt.legend(loc=2)\n",
    "tlabel = pd.date_range(end='2015-12-31', periods=nperiodos, freq='W')\n",
    "plt.xlabel('TIEMPO')\n",
    "plt.xticks(range(0, len(tiempo), 60), [t.date() for t in tlabel[0::60]], rotation=90)\n",
    "plt.ylabel('DEMANDA')\n",
    "plt.tight_layout()\n",
    "plt.savefig('1.png', bbox_iches='tight')"
   ]
  },
  {
   "cell_type": "code",
   "execution_count": 10,
   "metadata": {
    "collapsed": false,
    "slideshow": {
     "slide_type": "skip"
    }
   },
   "outputs": [],
   "source": [
    "ventas = pd.DataFrame.from_dict(clientes)"
   ]
  },
  {
   "cell_type": "code",
   "execution_count": 11,
   "metadata": {
    "collapsed": false,
    "slideshow": {
     "slide_type": "skip"
    }
   },
   "outputs": [
    {
     "data": {
      "text/plain": [
       "DatetimeIndex(['1995-01-08', '1995-01-15', '1995-01-22', '1995-01-29',\n",
       "               '1995-02-05', '1995-02-12', '1995-02-19', '1995-02-26',\n",
       "               '1995-03-05', '1995-03-12',\n",
       "               ...\n",
       "               '2015-10-25', '2015-11-01', '2015-11-08', '2015-11-15',\n",
       "               '2015-11-22', '2015-11-29', '2015-12-06', '2015-12-13',\n",
       "               '2015-12-20', '2015-12-27'],\n",
       "              dtype='datetime64[ns]', length=1095, freq='W-SUN')"
      ]
     },
     "execution_count": 11,
     "metadata": {},
     "output_type": "execute_result"
    }
   ],
   "source": [
    "tlabel"
   ]
  },
  {
   "cell_type": "code",
   "execution_count": 12,
   "metadata": {
    "collapsed": true,
    "slideshow": {
     "slide_type": "skip"
    }
   },
   "outputs": [],
   "source": [
    "ventas.index = tlabel"
   ]
  },
  {
   "cell_type": "code",
   "execution_count": 13,
   "metadata": {
    "collapsed": true,
    "slideshow": {
     "slide_type": "skip"
    }
   },
   "outputs": [],
   "source": [
    "ventas = pd.read_csv('ventas.csv', index_col=0)"
   ]
  },
  {
   "cell_type": "code",
   "execution_count": 14,
   "metadata": {
    "collapsed": false,
    "slideshow": {
     "slide_type": "subslide"
    }
   },
   "outputs": [
    {
     "data": {
      "text/html": [
       "<div>\n",
       "<table border=\"1\" class=\"dataframe\">\n",
       "  <thead>\n",
       "    <tr style=\"text-align: right;\">\n",
       "      <th></th>\n",
       "      <th>cliente1</th>\n",
       "      <th>cliente2</th>\n",
       "      <th>cliente3</th>\n",
       "      <th>cliente4</th>\n",
       "      <th>cliente5</th>\n",
       "    </tr>\n",
       "  </thead>\n",
       "  <tbody>\n",
       "    <tr>\n",
       "      <th>2015-11-29</th>\n",
       "      <td>1470.640312</td>\n",
       "      <td>1127.582776</td>\n",
       "      <td>1223.692183</td>\n",
       "      <td>1339.580105</td>\n",
       "      <td>1236.293985</td>\n",
       "    </tr>\n",
       "    <tr>\n",
       "      <th>2015-12-06</th>\n",
       "      <td>1463.687161</td>\n",
       "      <td>1125.482167</td>\n",
       "      <td>1223.106422</td>\n",
       "      <td>1338.842330</td>\n",
       "      <td>1247.712766</td>\n",
       "    </tr>\n",
       "    <tr>\n",
       "      <th>2015-12-13</th>\n",
       "      <td>1465.059974</td>\n",
       "      <td>1120.580199</td>\n",
       "      <td>1217.325679</td>\n",
       "      <td>1336.729573</td>\n",
       "      <td>1238.080532</td>\n",
       "    </tr>\n",
       "    <tr>\n",
       "      <th>2015-12-20</th>\n",
       "      <td>1470.140649</td>\n",
       "      <td>1127.666658</td>\n",
       "      <td>1232.473834</td>\n",
       "      <td>1335.836611</td>\n",
       "      <td>1249.316430</td>\n",
       "    </tr>\n",
       "    <tr>\n",
       "      <th>2015-12-27</th>\n",
       "      <td>1457.771306</td>\n",
       "      <td>1134.589817</td>\n",
       "      <td>1229.704027</td>\n",
       "      <td>1337.882602</td>\n",
       "      <td>1238.099687</td>\n",
       "    </tr>\n",
       "  </tbody>\n",
       "</table>\n",
       "</div>"
      ],
      "text/plain": [
       "               cliente1     cliente2     cliente3     cliente4     cliente5\n",
       "2015-11-29  1470.640312  1127.582776  1223.692183  1339.580105  1236.293985\n",
       "2015-12-06  1463.687161  1125.482167  1223.106422  1338.842330  1247.712766\n",
       "2015-12-13  1465.059974  1120.580199  1217.325679  1336.729573  1238.080532\n",
       "2015-12-20  1470.140649  1127.666658  1232.473834  1335.836611  1249.316430\n",
       "2015-12-27  1457.771306  1134.589817  1229.704027  1337.882602  1238.099687"
      ]
     },
     "execution_count": 14,
     "metadata": {},
     "output_type": "execute_result"
    }
   ],
   "source": [
    "ventas.tail()"
   ]
  },
  {
   "cell_type": "code",
   "execution_count": 15,
   "metadata": {
    "collapsed": true,
    "slideshow": {
     "slide_type": "skip"
    }
   },
   "outputs": [],
   "source": [
    "ventas.to_csv('ventas.csv')"
   ]
  },
  {
   "cell_type": "markdown",
   "metadata": {
    "slideshow": {
     "slide_type": "slide"
    }
   },
   "source": [
    "# UBICACIÓN DE LOS CLIENTES"
   ]
  },
  {
   "cell_type": "code",
   "execution_count": 16,
   "metadata": {
    "collapsed": false,
    "slideshow": {
     "slide_type": "skip"
    }
   },
   "outputs": [],
   "source": [
    "data_clientes = pd.read_csv('clientes_xys.csv', index_col=0)"
   ]
  },
  {
   "cell_type": "code",
   "execution_count": 17,
   "metadata": {
    "collapsed": false,
    "slideshow": {
     "slide_type": "fragment"
    }
   },
   "outputs": [
    {
     "data": {
      "text/html": [
       "<div>\n",
       "<table border=\"1\" class=\"dataframe\">\n",
       "  <thead>\n",
       "    <tr style=\"text-align: right;\">\n",
       "      <th></th>\n",
       "      <th>prov</th>\n",
       "      <th>lat</th>\n",
       "      <th>lng</th>\n",
       "    </tr>\n",
       "  </thead>\n",
       "  <tbody>\n",
       "    <tr>\n",
       "      <th>cliente1</th>\n",
       "      <td>zaragoza</td>\n",
       "      <td>41.648823</td>\n",
       "      <td>-0.889085</td>\n",
       "    </tr>\n",
       "    <tr>\n",
       "      <th>cliente2</th>\n",
       "      <td>oviedo</td>\n",
       "      <td>43.361915</td>\n",
       "      <td>-5.849389</td>\n",
       "    </tr>\n",
       "    <tr>\n",
       "      <th>cliente3</th>\n",
       "      <td>huesca</td>\n",
       "      <td>42.131845</td>\n",
       "      <td>-0.407806</td>\n",
       "    </tr>\n",
       "    <tr>\n",
       "      <th>cliente4</th>\n",
       "      <td>madrid</td>\n",
       "      <td>40.416775</td>\n",
       "      <td>-3.703790</td>\n",
       "    </tr>\n",
       "    <tr>\n",
       "      <th>cliente5</th>\n",
       "      <td>bilbao</td>\n",
       "      <td>43.263013</td>\n",
       "      <td>-2.934985</td>\n",
       "    </tr>\n",
       "  </tbody>\n",
       "</table>\n",
       "</div>"
      ],
      "text/plain": [
       "              prov        lat       lng\n",
       "cliente1  zaragoza  41.648823 -0.889085\n",
       "cliente2    oviedo  43.361915 -5.849389\n",
       "cliente3    huesca  42.131845 -0.407806\n",
       "cliente4    madrid  40.416775 -3.703790\n",
       "cliente5    bilbao  43.263013 -2.934985"
      ]
     },
     "execution_count": 17,
     "metadata": {},
     "output_type": "execute_result"
    }
   ],
   "source": [
    "data_clientes"
   ]
  },
  {
   "cell_type": "code",
   "execution_count": 18,
   "metadata": {
    "collapsed": true,
    "slideshow": {
     "slide_type": "skip"
    }
   },
   "outputs": [],
   "source": [
    "yi = data_clientes.lat.values\n",
    "xi = data_clientes.lng.values"
   ]
  },
  {
   "cell_type": "code",
   "execution_count": 19,
   "metadata": {
    "collapsed": false,
    "slideshow": {
     "slide_type": "skip"
    }
   },
   "outputs": [
    {
     "data": {
      "text/plain": [
       "[-0.88908530000000008,\n",
       " -5.8493887000000004,\n",
       " -0.4078058,\n",
       " -3.7037902000000003,\n",
       " -2.9349852000000003]"
      ]
     },
     "execution_count": 19,
     "metadata": {},
     "output_type": "execute_result"
    }
   ],
   "source": [
    "list(xi)"
   ]
  },
  {
   "cell_type": "markdown",
   "metadata": {
    "slideshow": {
     "slide_type": "slide"
    }
   },
   "source": [
    "## COSTES\n",
    "\n",
    "$c_i$: Es el coste por unidad de producto vendida.\n",
    "\n",
    "Suponemos que esta empresa ya maximiza beneficios y los precios son exógenos. Por tanto la oferta igual a la demanda, siendo ésta última estimada como la media de los últimos 3 años.\n",
    "\n",
    "$w_i$ = $\\frac{1}{T}·\\sum_{2012}^{2015}(ventas_i)$\n",
    "\n",
    "T=Nº de observaciones entre 2012 y 2015"
   ]
  },
  {
   "cell_type": "code",
   "execution_count": 20,
   "metadata": {
    "collapsed": false,
    "slideshow": {
     "slide_type": "skip"
    }
   },
   "outputs": [
    {
     "data": {
      "text/html": [
       "<div>\n",
       "<table border=\"1\" class=\"dataframe\">\n",
       "  <thead>\n",
       "    <tr style=\"text-align: right;\">\n",
       "      <th></th>\n",
       "      <th>cliente1</th>\n",
       "      <th>cliente2</th>\n",
       "      <th>cliente3</th>\n",
       "      <th>cliente4</th>\n",
       "      <th>cliente5</th>\n",
       "    </tr>\n",
       "  </thead>\n",
       "  <tbody>\n",
       "    <tr>\n",
       "      <th>2015-11-29</th>\n",
       "      <td>1470.640312</td>\n",
       "      <td>1127.582776</td>\n",
       "      <td>1223.692183</td>\n",
       "      <td>1339.580105</td>\n",
       "      <td>1236.293985</td>\n",
       "    </tr>\n",
       "    <tr>\n",
       "      <th>2015-12-06</th>\n",
       "      <td>1463.687161</td>\n",
       "      <td>1125.482167</td>\n",
       "      <td>1223.106422</td>\n",
       "      <td>1338.842330</td>\n",
       "      <td>1247.712766</td>\n",
       "    </tr>\n",
       "    <tr>\n",
       "      <th>2015-12-13</th>\n",
       "      <td>1465.059974</td>\n",
       "      <td>1120.580199</td>\n",
       "      <td>1217.325679</td>\n",
       "      <td>1336.729573</td>\n",
       "      <td>1238.080532</td>\n",
       "    </tr>\n",
       "    <tr>\n",
       "      <th>2015-12-20</th>\n",
       "      <td>1470.140649</td>\n",
       "      <td>1127.666658</td>\n",
       "      <td>1232.473834</td>\n",
       "      <td>1335.836611</td>\n",
       "      <td>1249.316430</td>\n",
       "    </tr>\n",
       "    <tr>\n",
       "      <th>2015-12-27</th>\n",
       "      <td>1457.771306</td>\n",
       "      <td>1134.589817</td>\n",
       "      <td>1229.704027</td>\n",
       "      <td>1337.882602</td>\n",
       "      <td>1238.099687</td>\n",
       "    </tr>\n",
       "  </tbody>\n",
       "</table>\n",
       "</div>"
      ],
      "text/plain": [
       "               cliente1     cliente2     cliente3     cliente4     cliente5\n",
       "2015-11-29  1470.640312  1127.582776  1223.692183  1339.580105  1236.293985\n",
       "2015-12-06  1463.687161  1125.482167  1223.106422  1338.842330  1247.712766\n",
       "2015-12-13  1465.059974  1120.580199  1217.325679  1336.729573  1238.080532\n",
       "2015-12-20  1470.140649  1127.666658  1232.473834  1335.836611  1249.316430\n",
       "2015-12-27  1457.771306  1134.589817  1229.704027  1337.882602  1238.099687"
      ]
     },
     "execution_count": 20,
     "metadata": {},
     "output_type": "execute_result"
    }
   ],
   "source": [
    "ventas.tail()"
   ]
  },
  {
   "cell_type": "code",
   "execution_count": 21,
   "metadata": {
    "collapsed": false,
    "slideshow": {
     "slide_type": "slide"
    }
   },
   "outputs": [
    {
     "data": {
      "text/html": [
       "<div>\n",
       "<table border=\"1\" class=\"dataframe\">\n",
       "  <thead>\n",
       "    <tr style=\"text-align: right;\">\n",
       "      <th></th>\n",
       "      <th>cliente1</th>\n",
       "      <th>cliente2</th>\n",
       "      <th>cliente3</th>\n",
       "      <th>cliente4</th>\n",
       "      <th>cliente5</th>\n",
       "    </tr>\n",
       "  </thead>\n",
       "  <tbody>\n",
       "    <tr>\n",
       "      <th>2012-01-01</th>\n",
       "      <td>1389.376094</td>\n",
       "      <td>1093.134360</td>\n",
       "      <td>1191.986051</td>\n",
       "      <td>1288.293579</td>\n",
       "      <td>1197.473849</td>\n",
       "    </tr>\n",
       "    <tr>\n",
       "      <th>2012-01-08</th>\n",
       "      <td>1391.439952</td>\n",
       "      <td>1098.814517</td>\n",
       "      <td>1180.368924</td>\n",
       "      <td>1282.319949</td>\n",
       "      <td>1198.635632</td>\n",
       "    </tr>\n",
       "    <tr>\n",
       "      <th>2012-01-15</th>\n",
       "      <td>1383.364158</td>\n",
       "      <td>1088.365951</td>\n",
       "      <td>1187.859712</td>\n",
       "      <td>1270.621878</td>\n",
       "      <td>1206.333424</td>\n",
       "    </tr>\n",
       "    <tr>\n",
       "      <th>2012-01-22</th>\n",
       "      <td>1385.592493</td>\n",
       "      <td>1092.388876</td>\n",
       "      <td>1191.696292</td>\n",
       "      <td>1277.646358</td>\n",
       "      <td>1200.752363</td>\n",
       "    </tr>\n",
       "    <tr>\n",
       "      <th>2012-01-29</th>\n",
       "      <td>1388.931798</td>\n",
       "      <td>1097.205065</td>\n",
       "      <td>1185.673913</td>\n",
       "      <td>1283.755764</td>\n",
       "      <td>1205.381101</td>\n",
       "    </tr>\n",
       "  </tbody>\n",
       "</table>\n",
       "</div>"
      ],
      "text/plain": [
       "               cliente1     cliente2     cliente3     cliente4     cliente5\n",
       "2012-01-01  1389.376094  1093.134360  1191.986051  1288.293579  1197.473849\n",
       "2012-01-08  1391.439952  1098.814517  1180.368924  1282.319949  1198.635632\n",
       "2012-01-15  1383.364158  1088.365951  1187.859712  1270.621878  1206.333424\n",
       "2012-01-22  1385.592493  1092.388876  1191.696292  1277.646358  1200.752363\n",
       "2012-01-29  1388.931798  1097.205065  1185.673913  1283.755764  1205.381101"
      ]
     },
     "execution_count": 21,
     "metadata": {},
     "output_type": "execute_result"
    }
   ],
   "source": [
    "ventas.loc['2012':].head()"
   ]
  },
  {
   "cell_type": "code",
   "execution_count": 22,
   "metadata": {
    "collapsed": true,
    "slideshow": {
     "slide_type": "fragment"
    }
   },
   "outputs": [],
   "source": [
    "wi = ventas.loc['2012':].mean()"
   ]
  },
  {
   "cell_type": "code",
   "execution_count": 23,
   "metadata": {
    "collapsed": false,
    "slideshow": {
     "slide_type": "fragment"
    }
   },
   "outputs": [
    {
     "data": {
      "text/plain": [
       "cliente1    1423.337483\n",
       "cliente2    1114.821870\n",
       "cliente3    1202.542470\n",
       "cliente4    1307.276005\n",
       "cliente5    1220.672411\n",
       "dtype: float64"
      ]
     },
     "execution_count": 23,
     "metadata": {},
     "output_type": "execute_result"
    }
   ],
   "source": [
    "wi"
   ]
  },
  {
   "cell_type": "code",
   "execution_count": 24,
   "metadata": {
    "collapsed": false,
    "slideshow": {
     "slide_type": "subslide"
    }
   },
   "outputs": [],
   "source": [
    "ci = np.random.uniform(1, 100) + 1"
   ]
  },
  {
   "cell_type": "code",
   "execution_count": 25,
   "metadata": {
    "collapsed": false,
    "slideshow": {
     "slide_type": "fragment"
    }
   },
   "outputs": [
    {
     "data": {
      "text/plain": [
       "61.59760426944062"
      ]
     },
     "execution_count": 25,
     "metadata": {},
     "output_type": "execute_result"
    }
   ],
   "source": [
    "ci"
   ]
  },
  {
   "cell_type": "markdown",
   "metadata": {
    "slideshow": {
     "slide_type": "slide"
    }
   },
   "source": [
    "# OPTIMIZACIÓN"
   ]
  },
  {
   "cell_type": "code",
   "execution_count": 26,
   "metadata": {
    "code_folding": [],
    "collapsed": true,
    "slideshow": {
     "slide_type": "skip"
    }
   },
   "outputs": [],
   "source": [
    "fname = 'spain_xys.csv'\n",
    "fca = 'ca_iso_name_ti.csv'"
   ]
  },
  {
   "cell_type": "code",
   "execution_count": 27,
   "metadata": {
    "collapsed": true,
    "slideshow": {
     "slide_type": "skip"
    }
   },
   "outputs": [],
   "source": [
    "ca_xys = pd.read_csv(fca, index_col=0)"
   ]
  },
  {
   "cell_type": "code",
   "execution_count": 28,
   "metadata": {
    "collapsed": false,
    "slideshow": {
     "slide_type": "skip"
    }
   },
   "outputs": [
    {
     "data": {
      "text/html": [
       "<div>\n",
       "<table border=\"1\" class=\"dataframe\">\n",
       "  <thead>\n",
       "    <tr style=\"text-align: right;\">\n",
       "      <th></th>\n",
       "      <th>pais</th>\n",
       "      <th>ca</th>\n",
       "      <th>prov</th>\n",
       "      <th>lat</th>\n",
       "      <th>lng</th>\n",
       "    </tr>\n",
       "  </thead>\n",
       "  <tbody>\n",
       "    <tr>\n",
       "      <th>0</th>\n",
       "      <td>ES</td>\n",
       "      <td>GA</td>\n",
       "      <td>Lugo</td>\n",
       "      <td>42.778861</td>\n",
       "      <td>-7.948673</td>\n",
       "    </tr>\n",
       "    <tr>\n",
       "      <th>1</th>\n",
       "      <td>ES</td>\n",
       "      <td>GA</td>\n",
       "      <td>Lugo</td>\n",
       "      <td>42.834314</td>\n",
       "      <td>-7.948673</td>\n",
       "    </tr>\n",
       "    <tr>\n",
       "      <th>2</th>\n",
       "      <td>ES</td>\n",
       "      <td>GA</td>\n",
       "      <td>Lugo</td>\n",
       "      <td>42.889767</td>\n",
       "      <td>-7.948673</td>\n",
       "    </tr>\n",
       "    <tr>\n",
       "      <th>3</th>\n",
       "      <td>ES</td>\n",
       "      <td>GA</td>\n",
       "      <td>Lugo</td>\n",
       "      <td>42.501594</td>\n",
       "      <td>-7.858738</td>\n",
       "    </tr>\n",
       "    <tr>\n",
       "      <th>4</th>\n",
       "      <td>ES</td>\n",
       "      <td>GA</td>\n",
       "      <td>Lugo</td>\n",
       "      <td>42.557048</td>\n",
       "      <td>-7.858738</td>\n",
       "    </tr>\n",
       "  </tbody>\n",
       "</table>\n",
       "</div>"
      ],
      "text/plain": [
       "  pais  ca  prov        lat       lng\n",
       "0   ES  GA  Lugo  42.778861 -7.948673\n",
       "1   ES  GA  Lugo  42.834314 -7.948673\n",
       "2   ES  GA  Lugo  42.889767 -7.948673\n",
       "3   ES  GA  Lugo  42.501594 -7.858738\n",
       "4   ES  GA  Lugo  42.557048 -7.858738"
      ]
     },
     "execution_count": 28,
     "metadata": {},
     "output_type": "execute_result"
    }
   ],
   "source": [
    "spain_xys = pd.read_csv(fname)\n",
    "#muestra_xys.drop_duplicates(inplace=True)\n",
    "\n",
    "spain_xys.head()"
   ]
  },
  {
   "cell_type": "code",
   "execution_count": 42,
   "metadata": {
    "collapsed": false,
    "slideshow": {
     "slide_type": "subslide"
    }
   },
   "outputs": [],
   "source": [
    "def func_obj1(xy0):\n",
    "    'Función Obejtivo, xy0: Tupla, pares de coordenadas'\n",
    "    di = lambda xy0: np.sqrt((xi-xy0[1]) ** 2 + (yi-xy0[0]) ** 2)\n",
    "    return sum(wi * ci * di(xy0))\n",
    "    "
   ]
  },
  {
   "cell_type": "code",
   "execution_count": 43,
   "metadata": {
    "collapsed": false,
    "slideshow": {
     "slide_type": "skip"
    }
   },
   "outputs": [],
   "source": [
    "res = differential_evolution(func_obj1, [(36,-10),(44,4)])"
   ]
  },
  {
   "cell_type": "code",
   "execution_count": 44,
   "metadata": {
    "collapsed": false,
    "slideshow": {
     "slide_type": "skip"
    }
   },
   "outputs": [],
   "source": [
    "rrange = (slice(spain_xys.lat.min(),spain_xys.lat.max(), 0.1), \n",
    "          slice(spain_xys.lng.min(), spain_xys.lng.max(), 0.1))"
   ]
  },
  {
   "cell_type": "code",
   "execution_count": 45,
   "metadata": {
    "collapsed": false,
    "slideshow": {
     "slide_type": "subslide"
    }
   },
   "outputs": [],
   "source": [
    "res1 = brute(func_obj1, rrange)"
   ]
  },
  {
   "cell_type": "code",
   "execution_count": null,
   "metadata": {
    "collapsed": true,
    "slideshow": {
     "slide_type": "skip"
    }
   },
   "outputs": [],
   "source": []
  },
  {
   "cell_type": "markdown",
   "metadata": {
    "slideshow": {
     "slide_type": "skip"
    }
   },
   "source": [
    "## FUNCIONES AUXILIARES"
   ]
  },
  {
   "cell_type": "code",
   "execution_count": 46,
   "metadata": {
    "code_folding": [
     0
    ],
    "collapsed": true,
    "slideshow": {
     "slide_type": "skip"
    }
   },
   "outputs": [],
   "source": [
    "# FUNC. AUX.\n",
    "\n",
    "def xys_ca(xy0):\n",
    "    '''\n",
    "    Convierte coordenadas en la CA a la que pertenece\n",
    "    '''\n",
    "    d = spain_xys.copy()\n",
    "    d['dist'] = np.sqrt((d.lat - xy0[0]) ** 2 + (d.lng - xy0[1]) ** 2)\n",
    "    res = d[d.dist == d.dist.min()]\n",
    "\n",
    "    if res.dist.values > .1:\n",
    "        ca = 'nf'\n",
    "    else:\n",
    "        ca = res.ca.values[0]\n",
    "\n",
    "#    print(res)\n",
    "#    print()\n",
    "#    print(ca)\n",
    "    return ca\n",
    "\n",
    "def impuesto_ca(xy0):\n",
    "    '''\n",
    "    Dada una coordenada devuelve el impuesto que tiene asociado a la CA\n",
    "    '''\n",
    "    ca = xys_ca(xy0)\n",
    "\n",
    "    if ca == 'nf':\n",
    "        res = np.inf\n",
    "        return res\n",
    "    else:\n",
    "        res = ca_xys.loc[ca]\n",
    "        return res.ti\n",
    "    "
   ]
  },
  {
   "cell_type": "code",
   "execution_count": 48,
   "metadata": {
    "collapsed": false,
    "slideshow": {
     "slide_type": "skip"
    }
   },
   "outputs": [],
   "source": [
    "def r1(x):\n",
    "    txt = '# RESULTADO:\\n- __LAT:__ %s\\n- __LONG:__ %s\\n- __CCAA:__ %s: %s\\n- __FUNCIÓN OBJETIVO:__ %s'\n",
    "    return Markdown(txt % (*x, *ca_iso.loc[xys_ca(x)].values, func_obj1(x)))\n",
    "\n",
    "def r2(x):\n",
    "    txt = '# RESULTADO:\\n- __LAT:__ %s\\n- __LONG:__ %s\\n- __CCAA:__ %s: %s\\n- __FUNCIÓN OBJETIVO:__ %s'\n",
    "    return Markdown(txt % (*x, *ca_iso.loc[xys_ca(x)].values, func_obj2(x)))"
   ]
  },
  {
   "cell_type": "code",
   "execution_count": 49,
   "metadata": {
    "collapsed": false,
    "slideshow": {
     "slide_type": "fragment"
    }
   },
   "outputs": [
    {
     "data": {
      "text/markdown": [
       "# RESULTADO:\n",
       "- __LAT:__ 42.0963840313\n",
       "- __LONG:__ -2.22414389\n",
       "- __CCAA:__ RI: La Rioja\n",
       "- __FUNCIÓN OBJETIVO:__ 804668.072126"
      ],
      "text/plain": [
       "<IPython.core.display.Markdown object>"
      ]
     },
     "execution_count": 49,
     "metadata": {},
     "output_type": "execute_result"
    }
   ],
   "source": [
    "r1(res1)"
   ]
  },
  {
   "cell_type": "code",
   "execution_count": 50,
   "metadata": {
    "collapsed": true,
    "slideshow": {
     "slide_type": "skip"
    }
   },
   "outputs": [],
   "source": [
    "opt = spain_xys.copy()"
   ]
  },
  {
   "cell_type": "code",
   "execution_count": 51,
   "metadata": {
    "collapsed": false,
    "slideshow": {
     "slide_type": "skip"
    }
   },
   "outputs": [
    {
     "data": {
      "text/html": [
       "<div>\n",
       "<table border=\"1\" class=\"dataframe\">\n",
       "  <thead>\n",
       "    <tr style=\"text-align: right;\">\n",
       "      <th></th>\n",
       "      <th>pais</th>\n",
       "      <th>ca</th>\n",
       "      <th>prov</th>\n",
       "      <th>lat</th>\n",
       "      <th>lng</th>\n",
       "    </tr>\n",
       "  </thead>\n",
       "  <tbody>\n",
       "    <tr>\n",
       "      <th>0</th>\n",
       "      <td>ES</td>\n",
       "      <td>GA</td>\n",
       "      <td>Lugo</td>\n",
       "      <td>42.778861</td>\n",
       "      <td>-7.948673</td>\n",
       "    </tr>\n",
       "    <tr>\n",
       "      <th>1</th>\n",
       "      <td>ES</td>\n",
       "      <td>GA</td>\n",
       "      <td>Lugo</td>\n",
       "      <td>42.834314</td>\n",
       "      <td>-7.948673</td>\n",
       "    </tr>\n",
       "    <tr>\n",
       "      <th>2</th>\n",
       "      <td>ES</td>\n",
       "      <td>GA</td>\n",
       "      <td>Lugo</td>\n",
       "      <td>42.889767</td>\n",
       "      <td>-7.948673</td>\n",
       "    </tr>\n",
       "    <tr>\n",
       "      <th>3</th>\n",
       "      <td>ES</td>\n",
       "      <td>GA</td>\n",
       "      <td>Lugo</td>\n",
       "      <td>42.501594</td>\n",
       "      <td>-7.858738</td>\n",
       "    </tr>\n",
       "    <tr>\n",
       "      <th>4</th>\n",
       "      <td>ES</td>\n",
       "      <td>GA</td>\n",
       "      <td>Lugo</td>\n",
       "      <td>42.557048</td>\n",
       "      <td>-7.858738</td>\n",
       "    </tr>\n",
       "  </tbody>\n",
       "</table>\n",
       "</div>"
      ],
      "text/plain": [
       "  pais  ca  prov        lat       lng\n",
       "0   ES  GA  Lugo  42.778861 -7.948673\n",
       "1   ES  GA  Lugo  42.834314 -7.948673\n",
       "2   ES  GA  Lugo  42.889767 -7.948673\n",
       "3   ES  GA  Lugo  42.501594 -7.858738\n",
       "4   ES  GA  Lugo  42.557048 -7.858738"
      ]
     },
     "execution_count": 51,
     "metadata": {},
     "output_type": "execute_result"
    }
   ],
   "source": [
    "opt.head()"
   ]
  },
  {
   "cell_type": "code",
   "execution_count": 52,
   "metadata": {
    "code_folding": [
     0
    ],
    "collapsed": false,
    "slideshow": {
     "slide_type": "skip"
    }
   },
   "outputs": [],
   "source": [
    "opt['fo1'] = opt[['lat', 'lng']].apply(func_obj1, axis=1)"
   ]
  },
  {
   "cell_type": "markdown",
   "metadata": {
    "slideshow": {
     "slide_type": "skip"
    }
   },
   "source": [
    "# ALTERNATIVA:"
   ]
  },
  {
   "cell_type": "code",
   "execution_count": 53,
   "metadata": {
    "collapsed": false,
    "slideshow": {
     "slide_type": "skip"
    }
   },
   "outputs": [
    {
     "data": {
      "text/html": [
       "<div>\n",
       "<table border=\"1\" class=\"dataframe\">\n",
       "  <thead>\n",
       "    <tr style=\"text-align: right;\">\n",
       "      <th></th>\n",
       "      <th>pais</th>\n",
       "      <th>ca</th>\n",
       "      <th>prov</th>\n",
       "      <th>lat</th>\n",
       "      <th>lng</th>\n",
       "      <th>fo1</th>\n",
       "    </tr>\n",
       "  </thead>\n",
       "  <tbody>\n",
       "    <tr>\n",
       "      <th>7665</th>\n",
       "      <td>ES</td>\n",
       "      <td>RI</td>\n",
       "      <td>LO</td>\n",
       "      <td>42.113421</td>\n",
       "      <td>-2.192865</td>\n",
       "      <td>804738.875813</td>\n",
       "    </tr>\n",
       "  </tbody>\n",
       "</table>\n",
       "</div>"
      ],
      "text/plain": [
       "     pais  ca prov        lat       lng            fo1\n",
       "7665   ES  RI   LO  42.113421 -2.192865  804738.875813"
      ]
     },
     "execution_count": 53,
     "metadata": {},
     "output_type": "execute_result"
    }
   ],
   "source": [
    "opt[opt.fo1 == opt.fo1.min()]"
   ]
  },
  {
   "cell_type": "code",
   "execution_count": 54,
   "metadata": {
    "code_folding": [],
    "collapsed": false,
    "slideshow": {
     "slide_type": "skip"
    }
   },
   "outputs": [
    {
     "data": {
      "image/png": "[encoded data removed]",
      "text/plain": [
       "<matplotlib.figure.Figure at 0x1110b7b00>"
      ]
     },
     "metadata": {},
     "output_type": "display_data"
    }
   ],
   "source": [
    "# MAPA\n",
    "plt.figure(figsize=(8,8))\n",
    "ax = plt.subplot(1,1,1)\n",
    "\n",
    "color = sns.color_palette(\"Paired\", 17)\n",
    "\n",
    "n_color = list(map(int,'9  7 15 14 12 16 10  1  6  8 11 13  0  2  3  4  5'.split()))\n",
    "\n",
    "# TERRITORIO\n",
    "for i, region in enumerate(spain_xys[spain_xys.pais == 'ES'].ca.unique()):\n",
    "    i = n_color[i]\n",
    "    spain_xys[spain_xys.ca == region].plot(kind='scatter', \n",
    "                                               x='lng', \n",
    "                                               y='lat', \n",
    "                                               alpha=1, \n",
    "                                               ax=ax, \n",
    "                                               color=color[i], \n",
    "                                               marker='s',\n",
    "                                               linewidths=.0,\n",
    "                                               s=5,\n",
    "                                              )\n",
    "# CLIENTES\n",
    "for i, (y, x) in enumerate(zip(data_clientes.lat.values, data_clientes.lng.values)):\n",
    "\n",
    "    plt.scatter(x, y*1.0025, color='black', marker='v', s=50)\n",
    "    plt.text(x - 0.7,\n",
    "             y + 0.3,\n",
    "             'CLIENTE %s' % (i+1), weight='bold', fontsize=13)\n",
    "\n",
    "# RESULTADO 1\n",
    "res = res1\n",
    "plt.scatter(res[1], \n",
    "            res[0]*1.0025, \n",
    "            color='blue', \n",
    "            marker='v', \n",
    "            s=80)\n",
    "\n",
    "plt.text(res[1] - 0.75, \n",
    "         res[0] + 0.3, \n",
    "         'Resultado 1',\n",
    "         weight='bold',\n",
    "         color='blue',\n",
    "         fontsize=13)\n",
    "\n",
    "\n",
    "\n",
    "plt.text(-4, 45.5, '$\\min_{x_0,y_0}{\\sum{c_i·w_i·d_i}}$', weight='bold', fontsize=20)\n",
    "\n",
    "plt.xlim(-10,4)\n",
    "ax.grid(True, linestyle='--')\n",
    "\n",
    "plt.tight_layout()\n",
    "plt.savefig('r1.png', bbox_inches='tight')"
   ]
  },
  {
   "cell_type": "markdown",
   "metadata": {
    "code_folding": [
     0
    ],
    "slideshow": {
     "slide_type": "skip"
    }
   },
   "source": [
    "\n",
    "> __NOTA:__ \n",
    "En los mapas físicos, las coordenadas están expresadas en grados, por ejemplo Puerto Rico sería: 18°14’70” N  66°29’68” W\n",
    "Para convertir:\n",
    "- $(18°14'70\" N) = (18 + (14 / 60) + (70 / 3600)) = 18.252$\n",
    "- $(66°29'68\" W) = -(66 + (29 / 60) + (68 / 3600)) = -66.8627$\n",
    "\n",
    "> La longitud se multiplica por __negativo__, porque está a la __izquierda (oeste)__ del punto 0,0."
   ]
  },
  {
   "cell_type": "markdown",
   "metadata": {
    "slideshow": {
     "slide_type": "subslide"
    }
   },
   "source": [
    "![](r1.png)"
   ]
  },
  {
   "cell_type": "markdown",
   "metadata": {
    "slideshow": {
     "slide_type": "subslide"
    }
   },
   "source": [
    "# INTRODUCCIÓN DE UNA RESTRICCIÓN ADICIONAL\n",
    "\n",
    "Al problema anterior, le agregamos una variable adicional de tipo fiscal. Cada comunidad autónoma pasará a cobrar un impuesto por unidad vendida, el tipo impositivo dependerá de la comunidad autónoma, de forma que los costes para la empresa cambien y por tanto la elección óptima."
   ]
  },
  {
   "cell_type": "markdown",
   "metadata": {
    "slideshow": {
     "slide_type": "fragment"
    }
   },
   "source": [
    "Es decir:\n",
    "\n",
    "# PROBLEMA INICIAL + RESTRICCIÓN\n",
    "\n",
    "## $\\min_{x_0, y_0}{\\sum{c_i(1+t_i) · w_i · d_i}}$\n",
    "\n",
    "__DONDE:__\n",
    "\n",
    "- $c_i$: Coste unitario.\n",
    "- $w_i$: Unidades demandadas de bienes (media de los últimos 3 años).\n",
    "- $d_i$: Distancia al almacén.\n",
    "- $x_i$: Coordenada eje x (Longitud).\n",
    "- $y_i$: Coordenada eje y (Latitud).\n",
    "- __$t_i$: Impuesto por unidad vendida.__\n",
    "\n",
    "__Variables de decisión (Coordenadas):__ $x_0, y_0$ "
   ]
  },
  {
   "cell_type": "code",
   "execution_count": 55,
   "metadata": {
    "collapsed": false,
    "slideshow": {
     "slide_type": "subslide"
    }
   },
   "outputs": [],
   "source": [
    "ca_xys.loc[:,'ti'] = np.random.uniform(size=len(ca_xys))"
   ]
  },
  {
   "cell_type": "code",
   "execution_count": 56,
   "metadata": {
    "collapsed": false,
    "slideshow": {
     "slide_type": "subslide"
    }
   },
   "outputs": [
    {
     "data": {
      "text/html": [
       "<div>\n",
       "<table border=\"1\" class=\"dataframe\">\n",
       "  <thead>\n",
       "    <tr style=\"text-align: right;\">\n",
       "      <th></th>\n",
       "      <th>codigo</th>\n",
       "      <th>nombre</th>\n",
       "      <th>name.1</th>\n",
       "      <th>ti</th>\n",
       "    </tr>\n",
       "    <tr>\n",
       "      <th>name</th>\n",
       "      <th></th>\n",
       "      <th></th>\n",
       "      <th></th>\n",
       "      <th></th>\n",
       "    </tr>\n",
       "  </thead>\n",
       "  <tbody>\n",
       "    <tr>\n",
       "      <th>AN</th>\n",
       "      <td>ES-AN</td>\n",
       "      <td>Andalucía</td>\n",
       "      <td>AN</td>\n",
       "      <td>0.602166</td>\n",
       "    </tr>\n",
       "    <tr>\n",
       "      <th>AR</th>\n",
       "      <td>ES-AR</td>\n",
       "      <td>Aragón</td>\n",
       "      <td>AR</td>\n",
       "      <td>0.098933</td>\n",
       "    </tr>\n",
       "    <tr>\n",
       "      <th>AS</th>\n",
       "      <td>ES-AS</td>\n",
       "      <td>Asturias, Principado de</td>\n",
       "      <td>AS</td>\n",
       "      <td>0.695794</td>\n",
       "    </tr>\n",
       "    <tr>\n",
       "      <th>CN</th>\n",
       "      <td>ES-CN</td>\n",
       "      <td>Canarias</td>\n",
       "      <td>CN</td>\n",
       "      <td>0.334792</td>\n",
       "    </tr>\n",
       "    <tr>\n",
       "      <th>CB</th>\n",
       "      <td>ES-CB</td>\n",
       "      <td>Cantabria</td>\n",
       "      <td>CB</td>\n",
       "      <td>0.833974</td>\n",
       "    </tr>\n",
       "  </tbody>\n",
       "</table>\n",
       "</div>"
      ],
      "text/plain": [
       "     codigo                   nombre name.1        ti\n",
       "name                                                 \n",
       "AN    ES-AN                Andalucía     AN  0.602166\n",
       "AR    ES-AR                   Aragón     AR  0.098933\n",
       "AS    ES-AS  Asturias, Principado de     AS  0.695794\n",
       "CN    ES-CN                 Canarias     CN  0.334792\n",
       "CB    ES-CB                Cantabria     CB  0.833974"
      ]
     },
     "execution_count": 56,
     "metadata": {},
     "output_type": "execute_result"
    }
   ],
   "source": [
    "ca_xys.head()"
   ]
  },
  {
   "cell_type": "code",
   "execution_count": 57,
   "metadata": {
    "code_folding": [],
    "collapsed": false,
    "slideshow": {
     "slide_type": "skip"
    }
   },
   "outputs": [
    {
     "data": {
      "text/html": [
       "<div>\n",
       "<table border=\"1\" class=\"dataframe\">\n",
       "  <thead>\n",
       "    <tr style=\"text-align: right;\">\n",
       "      <th></th>\n",
       "      <th>pais</th>\n",
       "      <th>ca</th>\n",
       "      <th>prov</th>\n",
       "      <th>lat</th>\n",
       "      <th>lng</th>\n",
       "    </tr>\n",
       "  </thead>\n",
       "  <tbody>\n",
       "    <tr>\n",
       "      <th>0</th>\n",
       "      <td>ES</td>\n",
       "      <td>GA</td>\n",
       "      <td>Lugo</td>\n",
       "      <td>42.778861</td>\n",
       "      <td>-7.948673</td>\n",
       "    </tr>\n",
       "    <tr>\n",
       "      <th>1</th>\n",
       "      <td>ES</td>\n",
       "      <td>GA</td>\n",
       "      <td>Lugo</td>\n",
       "      <td>42.834314</td>\n",
       "      <td>-7.948673</td>\n",
       "    </tr>\n",
       "    <tr>\n",
       "      <th>2</th>\n",
       "      <td>ES</td>\n",
       "      <td>GA</td>\n",
       "      <td>Lugo</td>\n",
       "      <td>42.889767</td>\n",
       "      <td>-7.948673</td>\n",
       "    </tr>\n",
       "    <tr>\n",
       "      <th>3</th>\n",
       "      <td>ES</td>\n",
       "      <td>GA</td>\n",
       "      <td>Lugo</td>\n",
       "      <td>42.501594</td>\n",
       "      <td>-7.858738</td>\n",
       "    </tr>\n",
       "    <tr>\n",
       "      <th>4</th>\n",
       "      <td>ES</td>\n",
       "      <td>GA</td>\n",
       "      <td>Lugo</td>\n",
       "      <td>42.557048</td>\n",
       "      <td>-7.858738</td>\n",
       "    </tr>\n",
       "  </tbody>\n",
       "</table>\n",
       "</div>"
      ],
      "text/plain": [
       "  pais  ca  prov        lat       lng\n",
       "0   ES  GA  Lugo  42.778861 -7.948673\n",
       "1   ES  GA  Lugo  42.834314 -7.948673\n",
       "2   ES  GA  Lugo  42.889767 -7.948673\n",
       "3   ES  GA  Lugo  42.501594 -7.858738\n",
       "4   ES  GA  Lugo  42.557048 -7.858738"
      ]
     },
     "execution_count": 57,
     "metadata": {},
     "output_type": "execute_result"
    }
   ],
   "source": [
    "spain_xys.head()"
   ]
  },
  {
   "cell_type": "markdown",
   "metadata": {
    "slideshow": {
     "slide_type": "subslide"
    }
   },
   "source": [
    "## FUNCIÓN OBJETIVO CON IMPUESTOS"
   ]
  },
  {
   "cell_type": "code",
   "execution_count": 60,
   "metadata": {
    "code_folding": [],
    "collapsed": true,
    "slideshow": {
     "slide_type": "fragment"
    }
   },
   "outputs": [],
   "source": [
    "def func_obj2(xy0):\n",
    "    'Función Obejtivo, xy0: Tupla, pares de coordenadas'\n",
    "    di = lambda xy0: np.sqrt((yi-xy0[0]) ** 2 + (xi-xy0[1]) ** 2)\n",
    "    res = sum(wi * ci*(1 + impuesto_ca(xy0)) * di(xy0))\n",
    "    return res"
   ]
  },
  {
   "cell_type": "code",
   "execution_count": 61,
   "metadata": {
    "collapsed": true,
    "slideshow": {
     "slide_type": "skip"
    }
   },
   "outputs": [],
   "source": [
    "rrange = (slice(spain_xys.lat.min(),spain_xys.lat.max(), 0.2), \n",
    "          slice(spain_xys.lng.min(), spain_xys.lng.max(), 0.2))"
   ]
  },
  {
   "cell_type": "code",
   "execution_count": 64,
   "metadata": {
    "collapsed": false,
    "slideshow": {
     "slide_type": "subslide"
    }
   },
   "outputs": [],
   "source": [
    "res2 = brute(func_obj2, rrange)"
   ]
  },
  {
   "cell_type": "code",
   "execution_count": 65,
   "metadata": {
    "collapsed": false,
    "slideshow": {
     "slide_type": "skip"
    }
   },
   "outputs": [
    {
     "data": {
      "text/plain": [
       "array([ 42.02536982,  -1.87809375])"
      ]
     },
     "execution_count": 65,
     "metadata": {},
     "output_type": "execute_result"
    }
   ],
   "source": [
    "res2"
   ]
  },
  {
   "cell_type": "code",
   "execution_count": 66,
   "metadata": {
    "collapsed": false,
    "slideshow": {
     "slide_type": "slide"
    }
   },
   "outputs": [
    {
     "data": {
      "text/markdown": [
       "# RESULTADO:\n",
       "- __LAT:__ 42.0253698236\n",
       "- __LONG:__ -1.87809374646\n",
       "- __CCAA:__ NC: Navarra, Comunidad Foral de Nafarroako Foru Komunitatea (eu)\n",
       "- __FUNCIÓN OBJETIVO:__ 840257.291801"
      ],
      "text/plain": [
       "<IPython.core.display.Markdown object>"
      ]
     },
     "execution_count": 66,
     "metadata": {},
     "output_type": "execute_result"
    }
   ],
   "source": [
    "r2(res2)"
   ]
  },
  {
   "cell_type": "code",
   "execution_count": 70,
   "metadata": {
    "code_folding": [],
    "collapsed": true,
    "slideshow": {
     "slide_type": "skip"
    }
   },
   "outputs": [],
   "source": [
    "opt['fo2'] = opt[['lat', 'lng']].apply(func_obj2, axis=1)"
   ]
  },
  {
   "cell_type": "code",
   "execution_count": 71,
   "metadata": {
    "collapsed": false,
    "slideshow": {
     "slide_type": "skip"
    }
   },
   "outputs": [
    {
     "data": {
      "text/html": [
       "<div>\n",
       "<table border=\"1\" class=\"dataframe\">\n",
       "  <thead>\n",
       "    <tr style=\"text-align: right;\">\n",
       "      <th></th>\n",
       "      <th>pais</th>\n",
       "      <th>ca</th>\n",
       "      <th>prov</th>\n",
       "      <th>lat</th>\n",
       "      <th>lng</th>\n",
       "      <th>fo1</th>\n",
       "      <th>fo2</th>\n",
       "    </tr>\n",
       "  </thead>\n",
       "  <tbody>\n",
       "    <tr>\n",
       "      <th>0</th>\n",
       "      <td>ES</td>\n",
       "      <td>GA</td>\n",
       "      <td>Lugo</td>\n",
       "      <td>42.778861</td>\n",
       "      <td>-7.948673</td>\n",
       "      <td>2106982.828359</td>\n",
       "      <td>3552962.297175</td>\n",
       "    </tr>\n",
       "    <tr>\n",
       "      <th>1</th>\n",
       "      <td>ES</td>\n",
       "      <td>GA</td>\n",
       "      <td>Lugo</td>\n",
       "      <td>42.834314</td>\n",
       "      <td>-7.948673</td>\n",
       "      <td>2108974.562617</td>\n",
       "      <td>3556320.918151</td>\n",
       "    </tr>\n",
       "    <tr>\n",
       "      <th>2</th>\n",
       "      <td>ES</td>\n",
       "      <td>GA</td>\n",
       "      <td>Lugo</td>\n",
       "      <td>42.889767</td>\n",
       "      <td>-7.948673</td>\n",
       "      <td>2111208.381765</td>\n",
       "      <td>3560087.761956</td>\n",
       "    </tr>\n",
       "    <tr>\n",
       "      <th>3</th>\n",
       "      <td>ES</td>\n",
       "      <td>GA</td>\n",
       "      <td>Lugo</td>\n",
       "      <td>42.501594</td>\n",
       "      <td>-7.858738</td>\n",
       "      <td>2067265.287717</td>\n",
       "      <td>3485987.416061</td>\n",
       "    </tr>\n",
       "    <tr>\n",
       "      <th>4</th>\n",
       "      <td>ES</td>\n",
       "      <td>GA</td>\n",
       "      <td>Lugo</td>\n",
       "      <td>42.557048</td>\n",
       "      <td>-7.858738</td>\n",
       "      <td>2068045.135494</td>\n",
       "      <td>3487302.457509</td>\n",
       "    </tr>\n",
       "  </tbody>\n",
       "</table>\n",
       "</div>"
      ],
      "text/plain": [
       "  pais  ca  prov        lat       lng             fo1             fo2\n",
       "0   ES  GA  Lugo  42.778861 -7.948673  2106982.828359  3552962.297175\n",
       "1   ES  GA  Lugo  42.834314 -7.948673  2108974.562617  3556320.918151\n",
       "2   ES  GA  Lugo  42.889767 -7.948673  2111208.381765  3560087.761956\n",
       "3   ES  GA  Lugo  42.501594 -7.858738  2067265.287717  3485987.416061\n",
       "4   ES  GA  Lugo  42.557048 -7.858738  2068045.135494  3487302.457509"
      ]
     },
     "execution_count": 71,
     "metadata": {},
     "output_type": "execute_result"
    }
   ],
   "source": [
    "opt.head()"
   ]
  },
  {
   "cell_type": "code",
   "execution_count": 72,
   "metadata": {
    "collapsed": false,
    "slideshow": {
     "slide_type": "skip"
    }
   },
   "outputs": [
    {
     "data": {
      "text/html": [
       "<div>\n",
       "<table border=\"1\" class=\"dataframe\">\n",
       "  <thead>\n",
       "    <tr style=\"text-align: right;\">\n",
       "      <th></th>\n",
       "      <th>pais</th>\n",
       "      <th>ca</th>\n",
       "      <th>prov</th>\n",
       "      <th>lat</th>\n",
       "      <th>lng</th>\n",
       "      <th>fo1</th>\n",
       "      <th>fo2</th>\n",
       "    </tr>\n",
       "  </thead>\n",
       "  <tbody>\n",
       "    <tr>\n",
       "      <th>7986</th>\n",
       "      <td>ES</td>\n",
       "      <td>NC</td>\n",
       "      <td>NaN</td>\n",
       "      <td>42.002515</td>\n",
       "      <td>-1.833126</td>\n",
       "      <td>808925.64177</td>\n",
       "      <td>841189.338527</td>\n",
       "    </tr>\n",
       "  </tbody>\n",
       "</table>\n",
       "</div>"
      ],
      "text/plain": [
       "     pais  ca prov        lat       lng           fo1            fo2\n",
       "7986   ES  NC  NaN  42.002515 -1.833126  808925.64177  841189.338527"
      ]
     },
     "execution_count": 72,
     "metadata": {},
     "output_type": "execute_result"
    }
   ],
   "source": [
    "opt[opt.fo2 <= opt.fo2.min()]"
   ]
  },
  {
   "cell_type": "code",
   "execution_count": 73,
   "metadata": {
    "code_folding": [
     0
    ],
    "collapsed": false,
    "slideshow": {
     "slide_type": "skip"
    }
   },
   "outputs": [
    {
     "data": {
      "image/png": "[encoded data removed]",
      "text/plain": [
       "<matplotlib.figure.Figure at 0x110d179b0>"
      ]
     },
     "metadata": {},
     "output_type": "display_data"
    }
   ],
   "source": [
    "# MAPA\n",
    "plt.figure(figsize=(8,8))\n",
    "ax = plt.subplot(1,1,1)\n",
    "\n",
    "color = sns.color_palette(\"Paired\", 17)\n",
    "\n",
    "n_color = list(map(int,'9  7 15 14 12 16 10  1  6  8 11 13  0  2  3  4  5'.split()))\n",
    "\n",
    "# PINTAR TERRITORIO\n",
    "for i, region in enumerate(spain_xys[spain_xys.pais == 'ES'].ca.unique()):\n",
    "    i = n_color[i]\n",
    "    spain_xys[spain_xys.ca == region].plot(kind='scatter', \n",
    "                                               x='lng', \n",
    "                                               y='lat', \n",
    "                                               alpha=1, \n",
    "                                               ax=ax, \n",
    "                                               color=color[i], \n",
    "                                               marker='s',\n",
    "                                               s = 6,\n",
    "                                               linewidths=.0)\n",
    "# SITUAR CLIENTES\n",
    "\n",
    "for i, (y, x) in enumerate(zip(data_clientes.lat.values, data_clientes.lng.values)):\n",
    "\n",
    "    plt.scatter(x, \n",
    "                y, \n",
    "                color='black', \n",
    "                marker='v', \n",
    "                s=50)\n",
    "\n",
    "    plt.text(x,\n",
    "             y + 0.3,\n",
    "             'CLIENTE %s' % (i+1), \n",
    "             weight='bold', \n",
    "             fontsize=13)\n",
    "\n",
    "# RESULTADO 1\n",
    "\n",
    "res = res1\n",
    "plt.scatter(res[1], \n",
    "            res[0], \n",
    "            color='blue', \n",
    "            marker='v', \n",
    "            s=80)\n",
    "\n",
    "plt.text(res[1], \n",
    "         res[0] + 0.1, \n",
    "         'R1',\n",
    "         weight='bold',\n",
    "         color='blue',\n",
    "         fontsize=15)\n",
    "\n",
    "# RESULTADO 2\n",
    "\n",
    "res = res2\n",
    "\n",
    "plt.scatter(res[1], \n",
    "            res[0], \n",
    "            color='red', \n",
    "            marker='v', \n",
    "            s=80)\n",
    "\n",
    "plt.text(res[1], \n",
    "         res[0] + 0.1, \n",
    "         'R2',\n",
    "         weight='bold',\n",
    "         color='red',\n",
    "         alpha=.9,\n",
    "         fontsize=15)\n",
    "\n",
    "plt.text(-4, \n",
    "         45.5, \n",
    "         '$\\min_{x_0,y_0}{\\sum{c_i·(1 + t_i)·w_i·d_i}}$', \n",
    "         weight='bold', \n",
    "         fontsize=20)\n",
    "\n",
    "plt.xlim(-10,4)\n",
    "ax.grid(True, linestyle='--')\n",
    "\n",
    "plt.tight_layout()\n",
    "plt.savefig('3.png', bbox_inches='tight')"
   ]
  },
  {
   "cell_type": "markdown",
   "metadata": {
    "slideshow": {
     "slide_type": "subslide"
    }
   },
   "source": [
    "![](3.png)"
   ]
  },
  {
   "cell_type": "code",
   "execution_count": 74,
   "metadata": {
    "code_folding": [
     0
    ],
    "collapsed": false,
    "slideshow": {
     "slide_type": "skip"
    }
   },
   "outputs": [
    {
     "data": {
      "image/png": "[encoded data removed]",
      "text/plain": [
       "<matplotlib.figure.Figure at 0x1110e7c18>"
      ]
     },
     "metadata": {},
     "output_type": "display_data"
    }
   ],
   "source": [
    "# MAPA\n",
    "plt.figure(figsize=(8,8))\n",
    "ax = plt.subplot(1,1,1)\n",
    "\n",
    "color = sns.color_palette(\"Paired\", 17)\n",
    "\n",
    "n_color = list(map(int,'9  7 15 14 12 16 10  1  6  8 11 13  0  2  3  4  5'.split()))\n",
    "\n",
    "# PINTAR TERRITORIO\n",
    "for i, region in enumerate(spain_xys[spain_xys.pais == 'ES'].ca.unique()):\n",
    "    i = n_color[i]\n",
    "    spain_xys[spain_xys.ca == region].plot(kind='scatter', \n",
    "                                               x='lng', \n",
    "                                               y='lat', \n",
    "                                               alpha=1, \n",
    "                                               ax=ax, \n",
    "                                               color=color[i], \n",
    "                                               marker='s',\n",
    "                                               s = 10,\n",
    "                                               linewidths=.0)\n",
    "# SITUAR CLIENTES\n",
    "\n",
    "for i, (y, x) in enumerate(zip(data_clientes.lat.values, data_clientes.lng.values)):\n",
    "    if i == 1: continue\n",
    "    plt.scatter(x, \n",
    "                y, \n",
    "                color='black', \n",
    "                marker='v', \n",
    "                s=50)\n",
    "\n",
    "    plt.text(x-0.05,\n",
    "             y + 0.08,\n",
    "             'C%s' % (i+1), \n",
    "             weight='bold', \n",
    "             fontsize=13)\n",
    "\n",
    "# RESULTADO 1\n",
    "\n",
    "res = res1\n",
    "plt.scatter(res[1], \n",
    "            res[0], \n",
    "            color='blue', \n",
    "            marker='v', \n",
    "            s=80)\n",
    "\n",
    "plt.text(res[1]-0.05, \n",
    "         res[0] + 0.1, \n",
    "         'R1',\n",
    "         weight='bold',\n",
    "         color='blue',\n",
    "         fontsize=15)\n",
    "\n",
    "# RESULTADO 2\n",
    "\n",
    "res = res2\n",
    "\n",
    "plt.scatter(res[1], \n",
    "            res[0], \n",
    "            color='red', \n",
    "            marker='v', \n",
    "            s=80)\n",
    "\n",
    "plt.text(res[1]-0.05, \n",
    "         res[0] + 0.1, \n",
    "         'R2',\n",
    "         weight='bold',\n",
    "         color='red',\n",
    "         alpha=.9,\n",
    "         fontsize=15)\n",
    "\n",
    "plt.xlim(-10,4)\n",
    "ax.grid(True, linestyle='--')\n",
    "\n",
    "c = 4\n",
    "cx = c-2\n",
    "res = res1\n",
    "plt.xlim(res[1] - cx, res[1] + cx)\n",
    "plt.ylim(res[0] - c+2, res[0] + c-2)\n",
    "plt.tight_layout()\n",
    "plt.savefig('4.png', bbox_inches='tight')"
   ]
  },
  {
   "cell_type": "markdown",
   "metadata": {
    "slideshow": {
     "slide_type": "subslide"
    }
   },
   "source": [
    "![](4.png)"
   ]
  },
  {
   "cell_type": "code",
   "execution_count": 75,
   "metadata": {
    "code_folding": [],
    "collapsed": false,
    "slideshow": {
     "slide_type": "skip"
    }
   },
   "outputs": [
    {
     "data": {
      "text/plain": [
       "array([ 42.09638403,  -2.22414389])"
      ]
     },
     "execution_count": 75,
     "metadata": {},
     "output_type": "execute_result"
    }
   ],
   "source": [
    "res1"
   ]
  },
  {
   "cell_type": "code",
   "execution_count": 76,
   "metadata": {
    "collapsed": false,
    "slideshow": {
     "slide_type": "skip"
    }
   },
   "outputs": [
    {
     "data": {
      "text/plain": [
       "array([ 42.02536982,  -1.87809375])"
      ]
     },
     "execution_count": 76,
     "metadata": {},
     "output_type": "execute_result"
    }
   ],
   "source": [
    "res2"
   ]
  },
  {
   "cell_type": "code",
   "execution_count": 77,
   "metadata": {
    "collapsed": true,
    "slideshow": {
     "slide_type": "skip"
    }
   },
   "outputs": [],
   "source": [
    "resultados = {'res1': list(res1)+[func_obj(res1), xys_ca(res1)], 'res2': list(res2)+[func_obj1(res2), xys_ca(res2)]}"
   ]
  },
  {
   "cell_type": "code",
   "execution_count": 78,
   "metadata": {
    "collapsed": false,
    "slideshow": {
     "slide_type": "skip"
    }
   },
   "outputs": [
    {
     "data": {
      "text/plain": [
       "{'res1': [42.096384031303344, -2.224143890001963, 917264.36148709978, 'RI'],\n",
       " 'res2': [42.025369823553412, -1.8780937464582577, 808029.34356290393, 'NC']}"
      ]
     },
     "execution_count": 78,
     "metadata": {},
     "output_type": "execute_result"
    }
   ],
   "source": [
    "resultados"
   ]
  },
  {
   "cell_type": "code",
   "execution_count": 79,
   "metadata": {
    "collapsed": false,
    "slideshow": {
     "slide_type": "slide"
    }
   },
   "outputs": [
    {
     "data": {
      "text/markdown": [
       "# RESÚMEN\n",
       "<table border=\"1\" class=\"dataframe\">\n",
       "  <thead>\n",
       "    <tr style=\"text-align: right;\">\n",
       "      <th></th>\n",
       "      <th>lat</th>\n",
       "      <th>lng</th>\n",
       "      <th>fun_obj</th>\n",
       "      <th>ccaa</th>\n",
       "    </tr>\n",
       "  </thead>\n",
       "  <tbody>\n",
       "    <tr>\n",
       "      <th>res1</th>\n",
       "      <td>42.0964</td>\n",
       "      <td>-2.22414</td>\n",
       "      <td>917264</td>\n",
       "      <td>RI</td>\n",
       "    </tr>\n",
       "    <tr>\n",
       "      <th>res2</th>\n",
       "      <td>42.0254</td>\n",
       "      <td>-1.87809</td>\n",
       "      <td>808029</td>\n",
       "      <td>NC</td>\n",
       "    </tr>\n",
       "  </tbody>\n",
       "</table>"
      ],
      "text/plain": [
       "<IPython.core.display.Markdown object>"
      ]
     },
     "execution_count": 79,
     "metadata": {},
     "output_type": "execute_result"
    }
   ],
   "source": [
    "pd_res = pd.DataFrame.from_dict(resultados).T\n",
    "pd_res.columns = ['lat', 'lng', 'fun_obj', 'ccaa']\n",
    "pd_res.to_csv('resultados.csv')\n",
    "Markdown('# RESÚMEN\\n' + pd_res.to_html())"
   ]
  },
  {
   "cell_type": "markdown",
   "metadata": {
    "slideshow": {
     "slide_type": "slide"
    }
   },
   "source": [
    "# Google Maps\n",
    "\n",
    "![](http://www.elandroidelibre.com/wp-content/uploads/2015/06/google-maps-logo.jpg)"
   ]
  },
  {
   "cell_type": "code",
   "execution_count": 80,
   "metadata": {
    "collapsed": false,
    "slideshow": {
     "slide_type": "subslide"
    }
   },
   "outputs": [
    {
     "data": {
      "text/html": [
       "\n",
       "        <iframe\n",
       "            width=\"940\"\n",
       "            height=\"480\"\n",
       "            src=\"https://www.google.com/maps/d/u/0/embed?mid=zTtXepJtMlLc.k6VXMPFTI7DI\"\n",
       "            frameborder=\"0\"\n",
       "            allowfullscreen\n",
       "        ></iframe>\n",
       "        "
      ],
      "text/plain": [
       "<IPython.lib.display.IFrame at 0x110e80438>"
      ]
     },
     "execution_count": 80,
     "metadata": {},
     "output_type": "execute_result"
    }
   ],
   "source": [
    "IFrame(\"https://www.google.com/maps/d/u/0/embed?mid=zTtXepJtMlLc.k6VXMPFTI7DI\", width=940, height=480)"
   ]
  },
  {
   "cell_type": "raw",
   "metadata": {
    "collapsed": false,
    "slideshow": {
     "slide_type": "skip"
    }
   },
   "source": [
    "# PRUEBA \n",
    "# COORDENADAS DE LAS LOCALIDADES\n",
    "\n",
    "localidades = ['zaragoza', \n",
    "               'oviedo', \n",
    "               'huesca', \n",
    "               'madrid', \n",
    "               'bilbao']\n",
    "\n",
    "coords = dict()\n",
    "\n",
    "for i, loc in enumerate(localidades):\n",
    "\n",
    "    g = geocoder.google(loc)\n",
    "    \n",
    "    print('city', g.json['city'])\n",
    "    print('state', g.json['state'])\n",
    "    print('address', g.json['address'])\n",
    "    print('county', g.json['county'])\n",
    "\n",
    "    lat = g.json['lat']\n",
    "    lng = g.json['lng']\n",
    "\n",
    "    print(loc, lat, lng)\n",
    "    print('\\n––––––––––––––––––––––––––––––––––––––––––––––––––––––––––––\\n')\n",
    "    coords['cliente%s' % (i+1)] = [loc, lat, lng]\n"
   ]
  },
  {
   "cell_type": "code",
   "execution_count": 39,
   "metadata": {
    "collapsed": false,
    "slideshow": {
     "slide_type": "skip"
    }
   },
   "outputs": [
    {
     "name": "stderr",
     "output_type": "stream",
     "text": [
      "/Users/mmngreco/Virtualenvs/ipynb/lib/python3.5/site-packages/ipykernel/__main__.py:8: DeprecationWarning: using a non-integer number instead of an integer will result in an error in the future\n"
     ]
    }
   ],
   "source": [
    "# montecarlo\n",
    "nobs = np.sqrt(20000)\n",
    "xmin, xmax = -9.29769, 3.29314\n",
    "ymax = 43.77702\n",
    "ymin = 36.01356\n",
    "\n",
    "xs = np.repeat(np.linspace(xmin, xmax, nobs), nobs)\n",
    "ys = list(np.linspace(ymin, ymax, nobs)) * nobs\n",
    "ys = np.array(ys).flatten()"
   ]
  },
  {
   "cell_type": "code",
   "execution_count": 40,
   "metadata": {
    "collapsed": false,
    "slideshow": {
     "slide_type": "skip"
    }
   },
   "outputs": [],
   "source": [
    "n = 11739"
   ]
  },
  {
   "cell_type": "code",
   "execution_count": 41,
   "metadata": {
    "collapsed": false,
    "slideshow": {
     "slide_type": "skip"
    }
   },
   "outputs": [
    {
     "data": {
      "image/png": "[encoded data removed]",
      "text/plain": [
       "<matplotlib.figure.Figure at 0x10e82a6d8>"
      ]
     },
     "metadata": {},
     "output_type": "display_data"
    }
   ],
   "source": [
    "#n = 2500 + 2495\n",
    "n = n #+ 300\n",
    "nf = n + 300\n",
    "plt.figure(figsize=(10,10))\n",
    "plt.scatter(xs, ys, marker='.', alpha=0.6)\n",
    "plt.scatter(xs[:n], ys[:n], marker='.', color='red')\n",
    "plt.scatter(xs[n:nf], ys[n:nf], marker='s', color='g', s=50, linewidth=0, alpha=1)\n",
    "plt.gca().grid(True)\n",
    "plt.tight_layout()"
   ]
  },
  {
   "cell_type": "markdown",
   "metadata": {
    "slideshow": {
     "slide_type": "skip"
    }
   },
   "source": [
    "# MONTECARLO"
   ]
  },
  {
   "cell_type": "markdown",
   "metadata": {
    "slideshow": {
     "slide_type": "skip"
    }
   },
   "source": [
    "## INFORMACIÓN"
   ]
  },
  {
   "cell_type": "code",
   "execution_count": 42,
   "metadata": {
    "collapsed": true,
    "slideshow": {
     "slide_type": "skip"
    }
   },
   "outputs": [],
   "source": [
    "g = geocoder.google([41.6894079, -0.8427317], method='reverse')"
   ]
  },
  {
   "cell_type": "code",
   "execution_count": 43,
   "metadata": {
    "collapsed": false,
    "slideshow": {
     "slide_type": "skip"
    }
   },
   "outputs": [
    {
     "data": {
      "text/plain": [
       "{'accuracy': 'ROOFTOP',\n",
       " 'address': 'Diseminado S Gregorio el Cascajo, 9124, 50059 Zaragoza, Zaragoza, Spain',\n",
       " 'bbox': {'northeast': [41.6924489802915, -0.842331019708498],\n",
       "  'southwest': [41.6897510197085, -0.8450289802915021]},\n",
       " 'city': 'Zaragoza',\n",
       " 'confidence': 9,\n",
       " 'country': 'ES',\n",
       " 'county': 'Z',\n",
       " 'encoding': 'utf-8',\n",
       " 'housenumber': '9124',\n",
       " 'lat': 41.6911,\n",
       " 'lng': -0.84368,\n",
       " 'location': '41.6894079, -0.8427317',\n",
       " 'ok': True,\n",
       " 'postal': '50059',\n",
       " 'provider': 'google',\n",
       " 'quality': 'street_address',\n",
       " 'state': 'Aragón',\n",
       " 'status': 'OK',\n",
       " 'status_code': 200,\n",
       " 'street': 'Diseminado S Gregorio el Cascajo'}"
      ]
     },
     "execution_count": 43,
     "metadata": {},
     "output_type": "execute_result"
    }
   ],
   "source": [
    "g.json"
   ]
  },
  {
   "cell_type": "code",
   "execution_count": 44,
   "metadata": {
    "collapsed": false,
    "slideshow": {
     "slide_type": "skip"
    }
   },
   "outputs": [
    {
     "data": {
      "text/plain": [
       "'Z'"
      ]
     },
     "execution_count": 44,
     "metadata": {},
     "output_type": "execute_result"
    }
   ],
   "source": [
    "g.json['county']"
   ]
  },
  {
   "cell_type": "markdown",
   "metadata": {
    "slideshow": {
     "slide_type": "skip"
    }
   },
   "source": [
    "# MUESTREO"
   ]
  },
  {
   "cell_type": "code",
   "execution_count": 42,
   "metadata": {
    "collapsed": true,
    "slideshow": {
     "slide_type": "skip"
    }
   },
   "outputs": [],
   "source": [
    "calls_remain = 2500"
   ]
  },
  {
   "cell_type": "code",
   "execution_count": 68,
   "metadata": {
    "collapsed": true,
    "slideshow": {
     "slide_type": "skip"
    }
   },
   "outputs": [],
   "source": [
    "!open report.txt"
   ]
  },
  {
   "cell_type": "code",
   "execution_count": 43,
   "metadata": {
    "collapsed": true,
    "slideshow": {
     "slide_type": "skip"
    }
   },
   "outputs": [],
   "source": [
    "# googlemaps\n",
    "# from collections import defaultdict\n",
    "# montecarlo = defaultdict(lambda : defaultdict(lambda : defaultdict(tuple)))\n",
    "\n",
    "n = 19163\n",
    "nf = n + 400"
   ]
  },
  {
   "cell_type": "markdown",
   "metadata": {
    "slideshow": {
     "slide_type": "skip"
    }
   },
   "source": [
    "# MUESTREAR"
   ]
  },
  {
   "cell_type": "code",
   "execution_count": 365,
   "metadata": {
    "collapsed": true,
    "slideshow": {
     "slide_type": "skip"
    }
   },
   "outputs": [],
   "source": [
    "montecarlo = dict()\n",
    "ini = n\n",
    "fin = nf"
   ]
  },
  {
   "cell_type": "code",
   "execution_count": 366,
   "metadata": {
    "collapsed": false
   },
   "outputs": [
    {
     "data": {
      "text/plain": [
       "(10077, 10277)"
      ]
     },
     "execution_count": 366,
     "metadata": {},
     "output_type": "execute_result"
    }
   ],
   "source": [
    "ini, fin"
   ]
  },
  {
   "cell_type": "code",
   "execution_count": 367,
   "metadata": {
    "collapsed": false,
    "slideshow": {
     "slide_type": "skip"
    }
   },
   "outputs": [],
   "source": [
    "fecha = datetime.now()"
   ]
  },
  {
   "cell_type": "code",
   "execution_count": 368,
   "metadata": {
    "collapsed": false,
    "scrolled": false,
    "slideshow": {
     "slide_type": "skip"
    }
   },
   "outputs": [
    {
     "name": "stdout",
     "output_type": "stream",
     "text": [
      ".10077\t.10078\t.10079\t.10080\t.10081\t.10082\t.10083\t.10084\t.10085\t.10086\t.10087\t..10089\t.10090\t.10091\t.10092\t.10093\t.10094\t.10095\t.10096\t.10097\t.10098\t.10099\t.10100\t.10101\t.10102\t.10103\t.10104\t.10105\t.10106\t.10107\t.10108\t.10109\t.10110\t.10111\t.10112\t.10113\t.10114\t.10115\t.10116\t.10117\t.10118\t.10119\t.10120\t.10121\t.10122\t.10123\t.10124\t.10125\t.10126\t.10127\t.10128\t.10129\t.10130\t.10131\t.10132\t.10133\t.10134\t.10135\t.10136\t.10137\t.10138\t.10139\t.10140\t.10141\t.10142\t.10143\t.10144\t.10145\t.10146\t.10147\t................10163\t.10164\t.10165\t.10166\t.10167\t.10168\t.10169\t.10170\t.10171\t.10172\t..10174\t.10175\t.10176\t.10177\t.10178\t.10179\t.10180\t.10181\t.10182\t.10183\t.10184\t.10185\t.10186\t.10187\t.10188\t.10189\t.10190\t.10191\t.10192\t.10193\t.10194\t.10195\t.10196\t.10197\t.10198\t.10199\t.10200\t.10201\t.10202\t.10203\t.10204\t.10205\t.10206\t.10207\t.10208\t.10209\t.10210\t.10211\t.10212\t.10213\t.10214\t.10215\t.10216\t.10217\t.10218\t.10219\t.10220\t.10221\t.10222\t.10223\t.10224\t.10225\t.10226\t.10227\t.10228\t.10229\t.10230\t.10231\t.10232\t.10233\t.10234\t.10235\t.10236\t.10237\t.10238\t.10239\t.10240\t.10241\t.10242\t.10243\t.10244\t.10245\t.10246\t.10247\t.10248\t.10249\t.10250\t.10251\t.10252\t.10253\t.10254\t.10255\t.10256\t.10257\t.10258\t.10259\t.10260\t..10262\t.10263\t.10264\t.10265\t.10266\t.10267\t.10268\t.10269\t.10270\t.10271\t.10272\t..10274\t.10275\t.10276\t713\n"
     ]
    }
   ],
   "source": [
    "report = open('report.txt', 'a')\n",
    "\n",
    "print('###################### REPORT %s ######################' % fecha, file=report)\n",
    "\n",
    "for i, yxs in enumerate(zip(ys[ini:fin], \n",
    "                          xs[ini:fin])):\n",
    "\n",
    "    g = geocoder.google(yxs, method='reverse')\n",
    "    calls_remain -= 1\n",
    "    print('.', end='')\n",
    "\n",
    "    try:\n",
    "        loc = '%s: %s: %s' % (g.json['country'], g.json['state'], g.json['county'])\n",
    "        print(ini+i, end='\\t')\n",
    "    except:\n",
    "        print('n:', ini + i,'xys:', yxs, file=report)\n",
    "        sleep(.8)\n",
    "        continue\n",
    "\n",
    "    yx = [list(yxs)]\n",
    "    montecarlo[loc] = montecarlo.get(loc, yx) + yx\n",
    "    if calls_remain == 0: break\n",
    "report.close()\n",
    "print(calls_remain)"
   ]
  },
  {
   "cell_type": "markdown",
   "metadata": {
    "slideshow": {
     "slide_type": "skip"
    }
   },
   "source": [
    "# MAPA DEL MUESTREO"
   ]
  },
  {
   "cell_type": "code",
   "execution_count": 369,
   "metadata": {
    "collapsed": false,
    "scrolled": true,
    "slideshow": {
     "slide_type": "skip"
    }
   },
   "outputs": [
    {
     "data": {
      "text/plain": [
       "{'ES: AL: AL': [[36.623546142857144, -2.8224059999999991],\n",
       "  [36.623546142857144, -2.8224059999999991],\n",
       "  [36.67899942857143, -2.8224059999999991],\n",
       "  [36.734452714285716, -2.8224059999999991],\n",
       "  [36.789906000000002, -2.8224059999999991],\n",
       "  [36.845359285714281, -2.8224059999999991],\n",
       "  [36.900812571428567, -2.8224059999999991],\n",
       "  [36.956265857142853, -2.8224059999999991],\n",
       "  [37.011719142857139, -2.8224059999999991],\n",
       "  [37.067172428571425, -2.8224059999999991],\n",
       "  [37.122625714285711, -2.8224059999999991],\n",
       "  [37.233532285714283, -2.8224059999999991]],\n",
       " 'ES: AL: Granada': [[37.288985571428569, -2.8224059999999991],\n",
       "  [37.288985571428569, -2.8224059999999991],\n",
       "  [37.344438857142855, -2.8224059999999991],\n",
       "  [37.399892142857141, -2.8224059999999991],\n",
       "  [37.455345428571427, -2.8224059999999991],\n",
       "  [37.510798714285713, -2.8224059999999991],\n",
       "  [37.566251999999999, -2.8224059999999991],\n",
       "  [37.621705285714285, -2.8224059999999991],\n",
       "  [37.677158571428571, -2.8224059999999991],\n",
       "  [37.732611857142857, -2.8224059999999991],\n",
       "  [37.788065142857143, -2.8224059999999991],\n",
       "  [37.843518428571429, -2.8224059999999991]],\n",
       " 'ES: AL: Jaén': [[37.898971714285715, -2.8224059999999991],\n",
       "  [37.898971714285715, -2.8224059999999991],\n",
       "  [37.954425000000001, -2.8224059999999991],\n",
       "  [38.009878285714287, -2.8224059999999991],\n",
       "  [38.065331571428572, -2.8224059999999991],\n",
       "  [38.120784857142858, -2.8224059999999991],\n",
       "  [38.176238142857144, -2.8224059999999991],\n",
       "  [38.23169142857143, -2.8224059999999991],\n",
       "  [38.287144714285716, -2.8224059999999991],\n",
       "  [38.342597999999995, -2.8224059999999991],\n",
       "  [38.398051285714281, -2.8224059999999991],\n",
       "  [38.453504571428567, -2.8224059999999991]],\n",
       " 'ES: CL: Burgos': [[42.667954285714288, -2.9123404999999991],\n",
       "  [42.667954285714288, -2.9123404999999991],\n",
       "  [42.77886085714286, -2.8224059999999991]],\n",
       " 'ES: CL: Soria': [[41.337075428571424, -2.9123404999999991],\n",
       "  [41.337075428571424, -2.9123404999999991],\n",
       "  [41.392528714285717, -2.9123404999999991],\n",
       "  [41.447981999999996, -2.9123404999999991],\n",
       "  [41.503435285714282, -2.9123404999999991],\n",
       "  [41.558888571428568, -2.9123404999999991],\n",
       "  [41.614341857142854, -2.9123404999999991],\n",
       "  [41.66979514285714, -2.9123404999999991],\n",
       "  [41.725248428571426, -2.9123404999999991],\n",
       "  [41.780701714285712, -2.9123404999999991],\n",
       "  [41.836154999999998, -2.9123404999999991],\n",
       "  [41.891608285714284, -2.9123404999999991],\n",
       "  [41.94706157142857, -2.9123404999999991],\n",
       "  [42.002514857142856, -2.9123404999999991],\n",
       "  [41.281622142857145, -2.8224059999999991],\n",
       "  [41.337075428571424, -2.8224059999999991],\n",
       "  [41.392528714285717, -2.8224059999999991],\n",
       "  [41.447981999999996, -2.8224059999999991],\n",
       "  [41.503435285714282, -2.8224059999999991],\n",
       "  [41.558888571428568, -2.8224059999999991],\n",
       "  [41.614341857142854, -2.8224059999999991],\n",
       "  [41.66979514285714, -2.8224059999999991],\n",
       "  [41.725248428571426, -2.8224059999999991],\n",
       "  [41.780701714285712, -2.8224059999999991],\n",
       "  [41.836154999999998, -2.8224059999999991],\n",
       "  [41.891608285714284, -2.8224059999999991],\n",
       "  [41.94706157142857, -2.8224059999999991],\n",
       "  [42.002514857142856, -2.8224059999999991]],\n",
       " 'ES: CM: Albacete': [[38.952584142857141, -2.8224059999999991],\n",
       "  [38.952584142857141, -2.8224059999999991],\n",
       "  [39.008037428571427, -2.8224059999999991],\n",
       "  [39.118943999999999, -2.8224059999999991]],\n",
       " 'ES: CM: Cdad. Real': [[38.508957857142853, -2.8224059999999991],\n",
       "  [38.508957857142853, -2.8224059999999991],\n",
       "  [38.564411142857139, -2.8224059999999991],\n",
       "  [38.619864428571425, -2.8224059999999991],\n",
       "  [38.675317714285711, -2.8224059999999991],\n",
       "  [38.730770999999997, -2.8224059999999991],\n",
       "  [38.786224285714283, -2.8224059999999991],\n",
       "  [38.841677571428569, -2.8224059999999991],\n",
       "  [38.897130857142855, -2.8224059999999991],\n",
       "  [39.063490714285713, -2.8224059999999991],\n",
       "  [39.174397285714285, -2.8224059999999991],\n",
       "  [39.229850571428571, -2.8224059999999991],\n",
       "  [39.285303857142857, -2.8224059999999991],\n",
       "  [39.340757142857143, -2.8224059999999991]],\n",
       " 'ES: CM: Cuenca': [[39.673476857142859, -2.9123404999999991],\n",
       "  [39.673476857142859, -2.9123404999999991],\n",
       "  [39.728930142857145, -2.9123404999999991],\n",
       "  [39.784383428571431, -2.9123404999999991],\n",
       "  [39.83983671428571, -2.9123404999999991],\n",
       "  [39.895290000000003, -2.9123404999999991],\n",
       "  [39.950743285714282, -2.9123404999999991],\n",
       "  [40.006196571428568, -2.9123404999999991],\n",
       "  [40.061649857142854, -2.9123404999999991],\n",
       "  [40.11710314285714, -2.9123404999999991],\n",
       "  [39.396210428571429, -2.8224059999999991],\n",
       "  [39.451663714285715, -2.8224059999999991],\n",
       "  [39.507117000000001, -2.8224059999999991],\n",
       "  [39.562570285714287, -2.8224059999999991],\n",
       "  [39.618023571428573, -2.8224059999999991],\n",
       "  [39.673476857142859, -2.8224059999999991],\n",
       "  [39.728930142857145, -2.8224059999999991],\n",
       "  [39.784383428571431, -2.8224059999999991],\n",
       "  [39.83983671428571, -2.8224059999999991],\n",
       "  [39.895290000000003, -2.8224059999999991],\n",
       "  [39.950743285714282, -2.8224059999999991],\n",
       "  [40.006196571428568, -2.8224059999999991],\n",
       "  [40.061649857142854, -2.8224059999999991],\n",
       "  [40.11710314285714, -2.8224059999999991],\n",
       "  [40.172556428571426, -2.8224059999999991]],\n",
       " 'ES: CM: Guadalajara': [[40.172556428571426, -2.9123404999999991],\n",
       "  [40.172556428571426, -2.9123404999999991],\n",
       "  [40.228009714285712, -2.9123404999999991],\n",
       "  [40.338916285714284, -2.9123404999999991],\n",
       "  [40.39436957142857, -2.9123404999999991],\n",
       "  [40.449822857142856, -2.9123404999999991],\n",
       "  [40.505276142857142, -2.9123404999999991],\n",
       "  [40.560729428571427, -2.9123404999999991],\n",
       "  [40.616182714285713, -2.9123404999999991],\n",
       "  [40.671635999999999, -2.9123404999999991],\n",
       "  [40.727089285714285, -2.9123404999999991],\n",
       "  [40.782542571428571, -2.9123404999999991],\n",
       "  [40.837995857142857, -2.9123404999999991],\n",
       "  [40.893449142857143, -2.9123404999999991],\n",
       "  [40.948902428571429, -2.9123404999999991],\n",
       "  [41.004355714285715, -2.9123404999999991],\n",
       "  [41.059809000000001, -2.9123404999999991],\n",
       "  [41.115262285714287, -2.9123404999999991],\n",
       "  [41.170715571428573, -2.9123404999999991],\n",
       "  [41.226168857142859, -2.9123404999999991],\n",
       "  [41.281622142857145, -2.9123404999999991],\n",
       "  [40.228009714285712, -2.8224059999999991],\n",
       "  [40.283462999999998, -2.8224059999999991],\n",
       "  [40.338916285714284, -2.8224059999999991],\n",
       "  [40.39436957142857, -2.8224059999999991],\n",
       "  [40.449822857142856, -2.8224059999999991],\n",
       "  [40.505276142857142, -2.8224059999999991],\n",
       "  [40.560729428571427, -2.8224059999999991],\n",
       "  [40.616182714285713, -2.8224059999999991],\n",
       "  [40.671635999999999, -2.8224059999999991],\n",
       "  [40.727089285714285, -2.8224059999999991],\n",
       "  [40.782542571428571, -2.8224059999999991],\n",
       "  [40.837995857142857, -2.8224059999999991],\n",
       "  [40.893449142857143, -2.8224059999999991],\n",
       "  [40.948902428571429, -2.8224059999999991],\n",
       "  [41.004355714285715, -2.8224059999999991],\n",
       "  [41.059809000000001, -2.8224059999999991],\n",
       "  [41.115262285714287, -2.8224059999999991],\n",
       "  [41.170715571428573, -2.8224059999999991],\n",
       "  [41.226168857142859, -2.8224059999999991]],\n",
       " 'ES: La Rioja: LO': [[42.057968142857142, -2.9123404999999991],\n",
       "  [42.057968142857142, -2.9123404999999991],\n",
       "  [42.113421428571428, -2.9123404999999991],\n",
       "  [42.168874714285714, -2.9123404999999991],\n",
       "  [42.224328, -2.9123404999999991],\n",
       "  [42.279781285714286, -2.9123404999999991],\n",
       "  [42.335234571428572, -2.9123404999999991],\n",
       "  [42.390687857142858, -2.9123404999999991],\n",
       "  [42.446141142857144, -2.9123404999999991],\n",
       "  [42.50159442857143, -2.9123404999999991],\n",
       "  [42.557047714285716, -2.9123404999999991],\n",
       "  [42.612501000000002, -2.9123404999999991],\n",
       "  [42.113421428571428, -2.8224059999999991],\n",
       "  [42.168874714285714, -2.8224059999999991],\n",
       "  [42.224328, -2.8224059999999991],\n",
       "  [42.279781285714286, -2.8224059999999991],\n",
       "  [42.335234571428572, -2.8224059999999991],\n",
       "  [42.390687857142858, -2.8224059999999991],\n",
       "  [42.446141142857144, -2.8224059999999991],\n",
       "  [42.50159442857143, -2.8224059999999991]],\n",
       " 'ES: PV: Araba': [[42.834314142857139, -2.9123404999999991],\n",
       "  [42.834314142857139, -2.9123404999999991],\n",
       "  [42.889767428571432, -2.9123404999999991],\n",
       "  [43.000674000000004, -2.9123404999999991],\n",
       "  [43.056127285714282, -2.9123404999999991],\n",
       "  [42.557047714285716, -2.8224059999999991],\n",
       "  [42.612501000000002, -2.8224059999999991],\n",
       "  [42.834314142857139, -2.8224059999999991],\n",
       "  [42.889767428571432, -2.8224059999999991]],\n",
       " 'ES: PV: BI': [[43.111580571428568, -2.9123404999999991],\n",
       "  [43.111580571428568, -2.9123404999999991],\n",
       "  [43.167033857142854, -2.9123404999999991],\n",
       "  [43.22248714285714, -2.9123404999999991],\n",
       "  [43.277940428571426, -2.9123404999999991],\n",
       "  [43.333393714285712, -2.9123404999999991],\n",
       "  [43.388846999999998, -2.9123404999999991],\n",
       "  [43.444300285714284, -2.9123404999999991],\n",
       "  [43.49975357142857, -2.9123404999999991],\n",
       "  [43.555206857142856, -2.9123404999999991]],\n",
       " 'ES: PV: Álava': [[42.723407571428574, -2.9123404999999991],\n",
       "  [42.723407571428574, -2.9123404999999991],\n",
       "  [42.77886085714286, -2.9123404999999991],\n",
       "  [42.945220714285711, -2.9123404999999991],\n",
       "  [42.667954285714288, -2.8224059999999991]]}"
      ]
     },
     "execution_count": 369,
     "metadata": {},
     "output_type": "execute_result"
    }
   ],
   "source": [
    "montecarlo"
   ]
  },
  {
   "cell_type": "code",
   "execution_count": 370,
   "metadata": {
    "collapsed": false,
    "slideshow": {
     "slide_type": "skip"
    }
   },
   "outputs": [
    {
     "data": {
      "image/png": "[encoded data removed]",
      "text/plain": [
       "<matplotlib.figure.Figure at 0x112bc6c88>"
      ]
     },
     "metadata": {},
     "output_type": "display_data"
    }
   ],
   "source": [
    "plt.figure(figsize=(5,5))\n",
    "\n",
    "for k, cs in montecarlo.items():\n",
    "    x = [c[0] for c in cs]\n",
    "    y = [c[1] for c in cs]\n",
    "\n",
    "    if k.startswith('ES'):\n",
    "        plt.scatter(y, x, color='red', marker='.', alpha=0.5)\n",
    "    else:\n",
    "        plt.scatter(y, x, alpha=0.5)\n",
    "\n",
    "plt.gca().grid(True, linestyle='--')"
   ]
  },
  {
   "cell_type": "markdown",
   "metadata": {
    "slideshow": {
     "slide_type": "skip"
    }
   },
   "source": [
    "# ALTERNATIVA"
   ]
  },
  {
   "cell_type": "code",
   "execution_count": 371,
   "metadata": {
    "collapsed": false,
    "slideshow": {
     "slide_type": "skip"
    }
   },
   "outputs": [],
   "source": [
    "mapquest_api = open('/Users/mmngreco/Documents/mq_api.txt').read()\n",
    "gmaps_api = open('/Users/mmngreco/Documents/googlemaps_api.txt').read()\n",
    "geocoder_api = open('/Users/mmngreco/Documents/geocoder_api.txt').read()\n",
    "mbox_api = open('/Users/mmngreco/Documents/mbox_api.txt').read()"
   ]
  },
  {
   "cell_type": "raw",
   "metadata": {
    "collapsed": false,
    "slideshow": {
     "slide_type": "skip"
    }
   },
   "source": [
    "# MAPQUEST\n",
    "montecarlo = {}\n",
    "counter = 0\n",
    "\n",
    "for yxs in zip(ys[ini:fin],xs[ini:fin]):\n",
    "\n",
    "    if counter == 3: break\n",
    "    g = geocoder.mapbox(x, method='reverse', key=mbox_api)\n",
    "\n",
    "    try:\n",
    "        loc = '%s: %s' % (g.json['country'], g.json['state'], g.json['county'])\n",
    "        print(g.json['country'], g.json['state'])\n",
    "    except:\n",
    "        continue\n",
    "\n",
    "    lat = g.json['lat']\n",
    "    lng = g.json['lng']\n",
    "    yx = [list(yxs)]\n",
    "    montecarlo[loc] = montecarlo.get(loc, yx) + yx\n",
    "\n",
    "    print(counter)\n",
    "    sleep(3)\n",
    "    counter += 1"
   ]
  },
  {
   "cell_type": "markdown",
   "metadata": {
    "slideshow": {
     "slide_type": "skip"
    }
   },
   "source": [
    "# EXPORTAR DATOS"
   ]
  },
  {
   "cell_type": "code",
   "execution_count": 372,
   "metadata": {
    "collapsed": false,
    "scrolled": false,
    "slideshow": {
     "slide_type": "skip"
    }
   },
   "outputs": [],
   "source": [
    "fname = 'xys.csv'\n",
    "f = open(fname, 'a')\n",
    "for key, xys in montecarlo.items():\n",
    "    for xy in xys:\n",
    "        print('%s,%s,%s,%s,%s' % (*key.split(': '), *xy), file=f)\n",
    "\n",
    "f.close()"
   ]
  },
  {
   "cell_type": "markdown",
   "metadata": {
    "slideshow": {
     "slide_type": "skip"
    }
   },
   "source": [
    "# COMPROBAMOS LOS DATOS"
   ]
  },
  {
   "cell_type": "code",
   "execution_count": 384,
   "metadata": {
    "collapsed": false,
    "slideshow": {
     "slide_type": "skip"
    }
   },
   "outputs": [],
   "source": [
    "d = pd.read_csv('xys.csv', header=0)\n",
    "#d.drop_duplicates(inplace=True)"
   ]
  },
  {
   "cell_type": "code",
   "execution_count": 386,
   "metadata": {
    "collapsed": false,
    "slideshow": {
     "slide_type": "skip"
    }
   },
   "outputs": [
    {
     "data": {
      "image/png": "[encoded data removed]",
      "text/plain": [
       "<matplotlib.figure.Figure at 0x1110bb0b8>"
      ]
     },
     "metadata": {},
     "output_type": "display_data"
    }
   ],
   "source": [
    "d[d.pais == 'ES'].plot(kind='scatter', x='lng', y='lat', marker='.', figsize=(7,7))\n",
    "plt.tight_layout()"
   ]
  },
  {
   "cell_type": "code",
   "execution_count": 391,
   "metadata": {
    "collapsed": false,
    "slideshow": {
     "slide_type": "skip"
    }
   },
   "outputs": [
    {
     "data": {
      "image/png": "[encoded data removed]",
      "text/plain": [
       "<matplotlib.figure.Figure at 0x111e054e0>"
      ]
     },
     "metadata": {},
     "output_type": "display_data"
    }
   ],
   "source": [
    "n -= 0\n",
    "incremento = 200\n",
    "n = n + incremento\n",
    "nf = n + incremento\n",
    "\n",
    "ax = plt.subplot(1,1,1)\n",
    "\n",
    "ax.scatter(xs, ys, marker='.', alpha=0.5)\n",
    "ax.scatter(xs[:n], ys[:n], marker='s', color='g', alpha=0.4)\n",
    "d[d.pais == 'ES'].plot(kind='scatter', x='lng', y='lat', marker='s', figsize=(7,7), ax=ax, color='black', s=25)\n",
    "ax.scatter(xs[n:nf], ys[n:nf], marker='o', color='r', s=15, linewidth=1, alpha=0.5)\n",
    "ax.grid(True)\n",
    "\n",
    "plt.ylim(36,44)\n",
    "plt.xlim(-10, 4)\n",
    "plt.tight_layout()"
   ]
  },
  {
   "cell_type": "markdown",
   "metadata": {
    "slideshow": {
     "slide_type": "skip"
    }
   },
   "source": [
    "[MUESTREAR](#MUESTREAR)"
   ]
  },
  {
   "cell_type": "code",
   "execution_count": 89,
   "metadata": {
    "collapsed": false,
    "slideshow": {
     "slide_type": "skip"
    }
   },
   "outputs": [
    {
     "data": {
      "text/html": [
       "<div>\n",
       "<table border=\"1\" class=\"dataframe\">\n",
       "  <thead>\n",
       "    <tr style=\"text-align: right;\">\n",
       "      <th></th>\n",
       "      <th>codigo</th>\n",
       "      <th>nombre</th>\n",
       "    </tr>\n",
       "  </thead>\n",
       "  <tbody>\n",
       "    <tr>\n",
       "      <th>0</th>\n",
       "      <td>ES-AN</td>\n",
       "      <td>Andalucía</td>\n",
       "    </tr>\n",
       "    <tr>\n",
       "      <th>1</th>\n",
       "      <td>ES-AR</td>\n",
       "      <td>Aragón</td>\n",
       "    </tr>\n",
       "    <tr>\n",
       "      <th>2</th>\n",
       "      <td>ES-AS</td>\n",
       "      <td>Asturias, Principado de</td>\n",
       "    </tr>\n",
       "    <tr>\n",
       "      <th>3</th>\n",
       "      <td>ES-CN</td>\n",
       "      <td>Canarias</td>\n",
       "    </tr>\n",
       "    <tr>\n",
       "      <th>4</th>\n",
       "      <td>ES-CB</td>\n",
       "      <td>Cantabria</td>\n",
       "    </tr>\n",
       "    <tr>\n",
       "      <th>5</th>\n",
       "      <td>ES-CM</td>\n",
       "      <td>Castilla La Mancha ! Castilla-La Mancha</td>\n",
       "    </tr>\n",
       "    <tr>\n",
       "      <th>6</th>\n",
       "      <td>ES-CL</td>\n",
       "      <td>Castilla y León</td>\n",
       "    </tr>\n",
       "    <tr>\n",
       "      <th>7</th>\n",
       "      <td>ES-CT</td>\n",
       "      <td>Catalunya (ca) [Cataluña]</td>\n",
       "    </tr>\n",
       "    <tr>\n",
       "      <th>8</th>\n",
       "      <td>ES-EX</td>\n",
       "      <td>Extremadura</td>\n",
       "    </tr>\n",
       "    <tr>\n",
       "      <th>9</th>\n",
       "      <td>ES-GA</td>\n",
       "      <td>Galicia (gl) [Galicia]</td>\n",
       "    </tr>\n",
       "    <tr>\n",
       "      <th>10</th>\n",
       "      <td>ES-IB</td>\n",
       "      <td>Illes Balears (ca) [Islas Baleares]</td>\n",
       "    </tr>\n",
       "    <tr>\n",
       "      <th>11</th>\n",
       "      <td>ES-RI</td>\n",
       "      <td>La Rioja</td>\n",
       "    </tr>\n",
       "    <tr>\n",
       "      <th>12</th>\n",
       "      <td>ES-MD</td>\n",
       "      <td>Madrid, Comunidad de</td>\n",
       "    </tr>\n",
       "    <tr>\n",
       "      <th>13</th>\n",
       "      <td>ES-MC</td>\n",
       "      <td>Murcia, Región de</td>\n",
       "    </tr>\n",
       "    <tr>\n",
       "      <th>14</th>\n",
       "      <td>ES-NC</td>\n",
       "      <td>Navarra, Comunidad Foral de Nafarroako Foru Ko...</td>\n",
       "    </tr>\n",
       "    <tr>\n",
       "      <th>15</th>\n",
       "      <td>ES-PV</td>\n",
       "      <td>País Vasco Euskal Herria (eu)</td>\n",
       "    </tr>\n",
       "    <tr>\n",
       "      <th>16</th>\n",
       "      <td>ES-VC</td>\n",
       "      <td>Valenciana, Comunidad Valenciana, Comunitat (ca)</td>\n",
       "    </tr>\n",
       "    <tr>\n",
       "      <th>17</th>\n",
       "      <td>ES-CE</td>\n",
       "      <td>Ceuta</td>\n",
       "    </tr>\n",
       "    <tr>\n",
       "      <th>18</th>\n",
       "      <td>ES-ML</td>\n",
       "      <td>Melilla</td>\n",
       "    </tr>\n",
       "  </tbody>\n",
       "</table>\n",
       "</div>"
      ],
      "text/plain": [
       "   codigo                                             nombre\n",
       "0   ES-AN                                          Andalucía\n",
       "1   ES-AR                                             Aragón\n",
       "2   ES-AS                            Asturias, Principado de\n",
       "3   ES-CN                                           Canarias\n",
       "4   ES-CB                                          Cantabria\n",
       "5   ES-CM            Castilla La Mancha ! Castilla-La Mancha\n",
       "6   ES-CL                                    Castilla y León\n",
       "7   ES-CT                          Catalunya (ca) [Cataluña]\n",
       "8   ES-EX                                        Extremadura\n",
       "9   ES-GA                             Galicia (gl) [Galicia]\n",
       "10  ES-IB                Illes Balears (ca) [Islas Baleares]\n",
       "11  ES-RI                                           La Rioja\n",
       "12  ES-MD                               Madrid, Comunidad de\n",
       "13  ES-MC                                  Murcia, Región de\n",
       "14  ES-NC  Navarra, Comunidad Foral de Nafarroako Foru Ko...\n",
       "15  ES-PV                      País Vasco Euskal Herria (eu)\n",
       "16  ES-VC   Valenciana, Comunidad Valenciana, Comunitat (ca)\n",
       "17  ES-CE                                              Ceuta\n",
       "18  ES-ML                                            Melilla"
      ]
     },
     "execution_count": 89,
     "metadata": {},
     "output_type": "execute_result"
    }
   ],
   "source": [
    "ca_iso"
   ]
  },
  {
   "cell_type": "code",
   "execution_count": 82,
   "metadata": {
    "collapsed": false,
    "slideshow": {
     "slide_type": "skip"
    }
   },
   "outputs": [
    {
     "data": {
      "text/html": [
       "<div>\n",
       "<table border=\"1\" class=\"dataframe\">\n",
       "  <thead>\n",
       "    <tr style=\"text-align: right;\">\n",
       "      <th></th>\n",
       "      <th>codigo</th>\n",
       "      <th>nombre</th>\n",
       "      <th>ca</th>\n",
       "    </tr>\n",
       "  </thead>\n",
       "  <tbody>\n",
       "    <tr>\n",
       "      <th>0</th>\n",
       "      <td>ES-C</td>\n",
       "      <td>A Coruña (gl) [La Coruña]</td>\n",
       "      <td>GA</td>\n",
       "    </tr>\n",
       "    <tr>\n",
       "      <th>1</th>\n",
       "      <td>ES-VI</td>\n",
       "      <td>Alava !Álava Araba (eu)</td>\n",
       "      <td>PV</td>\n",
       "    </tr>\n",
       "    <tr>\n",
       "      <th>2</th>\n",
       "      <td>ES-AB</td>\n",
       "      <td>Albacete</td>\n",
       "      <td>CM</td>\n",
       "    </tr>\n",
       "    <tr>\n",
       "      <th>3</th>\n",
       "      <td>ES-A</td>\n",
       "      <td>Alicante Alacant (ca)</td>\n",
       "      <td>VC</td>\n",
       "    </tr>\n",
       "    <tr>\n",
       "      <th>4</th>\n",
       "      <td>ES-AL</td>\n",
       "      <td>Almería</td>\n",
       "      <td>AN</td>\n",
       "    </tr>\n",
       "    <tr>\n",
       "      <th>5</th>\n",
       "      <td>ES-O</td>\n",
       "      <td>Asturias</td>\n",
       "      <td>AS</td>\n",
       "    </tr>\n",
       "    <tr>\n",
       "      <th>6</th>\n",
       "      <td>ES-AV</td>\n",
       "      <td>Avila !Ávila</td>\n",
       "      <td>CL</td>\n",
       "    </tr>\n",
       "    <tr>\n",
       "      <th>7</th>\n",
       "      <td>ES-BA</td>\n",
       "      <td>Badajoz</td>\n",
       "      <td>EX</td>\n",
       "    </tr>\n",
       "    <tr>\n",
       "      <th>8</th>\n",
       "      <td>ES-PM</td>\n",
       "      <td>Balears (ca) [Baleares]</td>\n",
       "      <td>IB</td>\n",
       "    </tr>\n",
       "    <tr>\n",
       "      <th>9</th>\n",
       "      <td>ES-B</td>\n",
       "      <td>Barcelona [Barcelona]</td>\n",
       "      <td>CT</td>\n",
       "    </tr>\n",
       "    <tr>\n",
       "      <th>10</th>\n",
       "      <td>ES-BU</td>\n",
       "      <td>Burgos</td>\n",
       "      <td>CL</td>\n",
       "    </tr>\n",
       "    <tr>\n",
       "      <th>11</th>\n",
       "      <td>ES-CC</td>\n",
       "      <td>Caceres !Cáceres</td>\n",
       "      <td>EX</td>\n",
       "    </tr>\n",
       "    <tr>\n",
       "      <th>12</th>\n",
       "      <td>ES-CA</td>\n",
       "      <td>Cadiz !Cádiz</td>\n",
       "      <td>AN</td>\n",
       "    </tr>\n",
       "    <tr>\n",
       "      <th>13</th>\n",
       "      <td>ES-S</td>\n",
       "      <td>Cantabria</td>\n",
       "      <td>CB</td>\n",
       "    </tr>\n",
       "    <tr>\n",
       "      <th>14</th>\n",
       "      <td>ES-CS</td>\n",
       "      <td>Castellón Castelló (ca)</td>\n",
       "      <td>VC</td>\n",
       "    </tr>\n",
       "    <tr>\n",
       "      <th>15</th>\n",
       "      <td>ES-CR</td>\n",
       "      <td>Ciudad Real</td>\n",
       "      <td>CM</td>\n",
       "    </tr>\n",
       "    <tr>\n",
       "      <th>16</th>\n",
       "      <td>ES-CO</td>\n",
       "      <td>Cordoba !Córdoba</td>\n",
       "      <td>AN</td>\n",
       "    </tr>\n",
       "    <tr>\n",
       "      <th>17</th>\n",
       "      <td>ES-CU</td>\n",
       "      <td>Cuenca</td>\n",
       "      <td>CM</td>\n",
       "    </tr>\n",
       "    <tr>\n",
       "      <th>18</th>\n",
       "      <td>ES-GI</td>\n",
       "      <td>Girona (ca) [Gerona]</td>\n",
       "      <td>CT</td>\n",
       "    </tr>\n",
       "    <tr>\n",
       "      <th>19</th>\n",
       "      <td>ES-GR</td>\n",
       "      <td>Granada</td>\n",
       "      <td>AN</td>\n",
       "    </tr>\n",
       "    <tr>\n",
       "      <th>20</th>\n",
       "      <td>ES-GU</td>\n",
       "      <td>Guadalajara</td>\n",
       "      <td>CM</td>\n",
       "    </tr>\n",
       "    <tr>\n",
       "      <th>21</th>\n",
       "      <td>ES-SS</td>\n",
       "      <td>Gipuzkoa (eu)</td>\n",
       "      <td>PV</td>\n",
       "    </tr>\n",
       "    <tr>\n",
       "      <th>22</th>\n",
       "      <td>ES-H</td>\n",
       "      <td>Huelva</td>\n",
       "      <td>AN</td>\n",
       "    </tr>\n",
       "    <tr>\n",
       "      <th>23</th>\n",
       "      <td>ES-HU</td>\n",
       "      <td>Huesca</td>\n",
       "      <td>AR</td>\n",
       "    </tr>\n",
       "    <tr>\n",
       "      <th>24</th>\n",
       "      <td>ES-J</td>\n",
       "      <td>Jaén</td>\n",
       "      <td>AN</td>\n",
       "    </tr>\n",
       "    <tr>\n",
       "      <th>25</th>\n",
       "      <td>ES-LO</td>\n",
       "      <td>La Rioja</td>\n",
       "      <td>RI</td>\n",
       "    </tr>\n",
       "    <tr>\n",
       "      <th>26</th>\n",
       "      <td>ES-GC</td>\n",
       "      <td>Las Palmas</td>\n",
       "      <td>CN</td>\n",
       "    </tr>\n",
       "    <tr>\n",
       "      <th>27</th>\n",
       "      <td>ES-LE</td>\n",
       "      <td>León</td>\n",
       "      <td>CL</td>\n",
       "    </tr>\n",
       "    <tr>\n",
       "      <th>28</th>\n",
       "      <td>ES-L</td>\n",
       "      <td>Lleida (ca) [Lérida]</td>\n",
       "      <td>CT</td>\n",
       "    </tr>\n",
       "    <tr>\n",
       "      <th>29</th>\n",
       "      <td>ES-LU</td>\n",
       "      <td>Lugo (gl) [Lugo]</td>\n",
       "      <td>GA</td>\n",
       "    </tr>\n",
       "    <tr>\n",
       "      <th>30</th>\n",
       "      <td>ES-M</td>\n",
       "      <td>Madrid</td>\n",
       "      <td>MD</td>\n",
       "    </tr>\n",
       "    <tr>\n",
       "      <th>31</th>\n",
       "      <td>ES-MA</td>\n",
       "      <td>Malaga !Málaga</td>\n",
       "      <td>AN</td>\n",
       "    </tr>\n",
       "    <tr>\n",
       "      <th>32</th>\n",
       "      <td>ES-MU</td>\n",
       "      <td>Murcia</td>\n",
       "      <td>MC</td>\n",
       "    </tr>\n",
       "    <tr>\n",
       "      <th>33</th>\n",
       "      <td>ES-NA</td>\n",
       "      <td>Navarra Nafarroa (eu)</td>\n",
       "      <td>NC</td>\n",
       "    </tr>\n",
       "    <tr>\n",
       "      <th>34</th>\n",
       "      <td>ES-OR</td>\n",
       "      <td>Ourense (gl) [Orense]</td>\n",
       "      <td>GA</td>\n",
       "    </tr>\n",
       "    <tr>\n",
       "      <th>35</th>\n",
       "      <td>ES-P</td>\n",
       "      <td>Palencia</td>\n",
       "      <td>CL</td>\n",
       "    </tr>\n",
       "    <tr>\n",
       "      <th>36</th>\n",
       "      <td>ES-PO</td>\n",
       "      <td>Pontevedra (gl) [Pontevedra]</td>\n",
       "      <td>GA</td>\n",
       "    </tr>\n",
       "    <tr>\n",
       "      <th>37</th>\n",
       "      <td>ES-SA</td>\n",
       "      <td>Salamanca</td>\n",
       "      <td>CL</td>\n",
       "    </tr>\n",
       "    <tr>\n",
       "      <th>38</th>\n",
       "      <td>ES-TF</td>\n",
       "      <td>Santa Cruz de Tenerife</td>\n",
       "      <td>CN</td>\n",
       "    </tr>\n",
       "    <tr>\n",
       "      <th>39</th>\n",
       "      <td>ES-SG</td>\n",
       "      <td>Segovia</td>\n",
       "      <td>CL</td>\n",
       "    </tr>\n",
       "    <tr>\n",
       "      <th>40</th>\n",
       "      <td>ES-SE</td>\n",
       "      <td>Sevilla</td>\n",
       "      <td>AN</td>\n",
       "    </tr>\n",
       "    <tr>\n",
       "      <th>41</th>\n",
       "      <td>ES-SO</td>\n",
       "      <td>Soria</td>\n",
       "      <td>CL</td>\n",
       "    </tr>\n",
       "    <tr>\n",
       "      <th>42</th>\n",
       "      <td>ES-T</td>\n",
       "      <td>Tarragona (ca) [Tarragona]</td>\n",
       "      <td>CT</td>\n",
       "    </tr>\n",
       "    <tr>\n",
       "      <th>43</th>\n",
       "      <td>ES-TE</td>\n",
       "      <td>Teruel</td>\n",
       "      <td>AR</td>\n",
       "    </tr>\n",
       "    <tr>\n",
       "      <th>44</th>\n",
       "      <td>ES-TO</td>\n",
       "      <td>Toledo</td>\n",
       "      <td>CM</td>\n",
       "    </tr>\n",
       "    <tr>\n",
       "      <th>45</th>\n",
       "      <td>ES-V</td>\n",
       "      <td>Valencia València (ca)</td>\n",
       "      <td>VC</td>\n",
       "    </tr>\n",
       "    <tr>\n",
       "      <th>46</th>\n",
       "      <td>ES-VA</td>\n",
       "      <td>Valladolid</td>\n",
       "      <td>CL</td>\n",
       "    </tr>\n",
       "    <tr>\n",
       "      <th>47</th>\n",
       "      <td>ES-BI</td>\n",
       "      <td>Bizkaia (eu)</td>\n",
       "      <td>PV</td>\n",
       "    </tr>\n",
       "    <tr>\n",
       "      <th>48</th>\n",
       "      <td>ES-ZA</td>\n",
       "      <td>Zamora</td>\n",
       "      <td>CL</td>\n",
       "    </tr>\n",
       "    <tr>\n",
       "      <th>49</th>\n",
       "      <td>ES-Z</td>\n",
       "      <td>Zaragoza</td>\n",
       "      <td>AR</td>\n",
       "    </tr>\n",
       "  </tbody>\n",
       "</table>\n",
       "</div>"
      ],
      "text/plain": [
       "   codigo                        nombre  ca\n",
       "0    ES-C     A Coruña (gl) [La Coruña]  GA\n",
       "1   ES-VI       Alava !Álava Araba (eu)  PV\n",
       "2   ES-AB                      Albacete  CM\n",
       "3    ES-A         Alicante Alacant (ca)  VC\n",
       "4   ES-AL                       Almería  AN\n",
       "5    ES-O                      Asturias  AS\n",
       "6   ES-AV                  Avila !Ávila  CL\n",
       "7   ES-BA                       Badajoz  EX\n",
       "8   ES-PM       Balears (ca) [Baleares]  IB\n",
       "9    ES-B         Barcelona [Barcelona]  CT\n",
       "10  ES-BU                        Burgos  CL\n",
       "11  ES-CC              Caceres !Cáceres  EX\n",
       "12  ES-CA                  Cadiz !Cádiz  AN\n",
       "13   ES-S                     Cantabria  CB\n",
       "14  ES-CS       Castellón Castelló (ca)  VC\n",
       "15  ES-CR                   Ciudad Real  CM\n",
       "16  ES-CO              Cordoba !Córdoba  AN\n",
       "17  ES-CU                        Cuenca  CM\n",
       "18  ES-GI          Girona (ca) [Gerona]  CT\n",
       "19  ES-GR                       Granada  AN\n",
       "20  ES-GU                   Guadalajara  CM\n",
       "21  ES-SS                 Gipuzkoa (eu)  PV\n",
       "22   ES-H                        Huelva  AN\n",
       "23  ES-HU                        Huesca  AR\n",
       "24   ES-J                          Jaén  AN\n",
       "25  ES-LO                      La Rioja  RI\n",
       "26  ES-GC                    Las Palmas  CN\n",
       "27  ES-LE                          León  CL\n",
       "28   ES-L          Lleida (ca) [Lérida]  CT\n",
       "29  ES-LU              Lugo (gl) [Lugo]  GA\n",
       "30   ES-M                        Madrid  MD\n",
       "31  ES-MA                Malaga !Málaga  AN\n",
       "32  ES-MU                        Murcia  MC\n",
       "33  ES-NA         Navarra Nafarroa (eu)  NC\n",
       "34  ES-OR         Ourense (gl) [Orense]  GA\n",
       "35   ES-P                      Palencia  CL\n",
       "36  ES-PO  Pontevedra (gl) [Pontevedra]  GA\n",
       "37  ES-SA                     Salamanca  CL\n",
       "38  ES-TF        Santa Cruz de Tenerife  CN\n",
       "39  ES-SG                       Segovia  CL\n",
       "40  ES-SE                       Sevilla  AN\n",
       "41  ES-SO                         Soria  CL\n",
       "42   ES-T    Tarragona (ca) [Tarragona]  CT\n",
       "43  ES-TE                        Teruel  AR\n",
       "44  ES-TO                        Toledo  CM\n",
       "45   ES-V        Valencia València (ca)  VC\n",
       "46  ES-VA                    Valladolid  CL\n",
       "47  ES-BI                  Bizkaia (eu)  PV\n",
       "48  ES-ZA                        Zamora  CL\n",
       "49   ES-Z                      Zaragoza  AR"
      ]
     },
     "execution_count": 82,
     "metadata": {},
     "output_type": "execute_result"
    }
   ],
   "source": [
    "prov_iso"
   ]
  },
  {
   "cell_type": "markdown",
   "metadata": {
    "collapsed": true,
    "slideshow": {
     "slide_type": "skip"
    }
   },
   "source": [
    "https://es.wikipedia.org/wiki/F%C3%B3rmula_del_Haversine"
   ]
  },
  {
   "cell_type": "markdown",
   "metadata": {
    "code_folding": [],
    "slideshow": {
     "slide_type": "skip"
    }
   },
   "source": [
    "# CÓDIGO ISO PARA CCAA y PROVINCIAS"
   ]
  },
  {
   "cell_type": "code",
   "execution_count": 27,
   "metadata": {
    "collapsed": true,
    "slideshow": {
     "slide_type": "skip"
    }
   },
   "outputs": [],
   "source": [
    "url = 'https://en.wikipedia.org/wiki/ISO_3166-2:ES'\n",
    "\n",
    "# obtener códigos ISO:\n",
    "ca_iso, prov_iso = pd.read_html(url, header=0, encoding='Latin')[:2]\n",
    "prov_iso.columns = 'codigo nombre ca'.split()\n",
    "\n",
    "ca_iso.drop(ca_iso.columns[-1], axis=1, inplace=True)\n",
    "ca_iso.columns = 'codigo nombre'.split()"
   ]
  }
 ],
 "metadata": {
  "celltoolbar": "Slideshow",
  "kernelspec": {
   "display_name": "Python 3",
   "language": "python",
   "name": "python3"
  },
  "language_info": {
   "codemirror_mode": {
    "name": "ipython",
    "version": 3
   },
   "file_extension": ".py",
   "mimetype": "text/x-python",
   "name": "python",
   "nbconvert_exporter": "python",
   "pygments_lexer": "ipython3",
   "version": "3.5.0"
  }
 },
 "nbformat": 4,
 "nbformat_minor": 0
}
