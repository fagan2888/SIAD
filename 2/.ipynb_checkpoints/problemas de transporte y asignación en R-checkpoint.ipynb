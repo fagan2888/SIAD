{
 "cells": [
  {
   "cell_type": "code",
   "execution_count": 1,
   "metadata": {
    "collapsed": true
   },
   "outputs": [],
   "source": [
    "%load_ext rpy2.ipython"
   ]
  },
  {
   "cell_type": "code",
   "execution_count": 2,
   "metadata": {
    "collapsed": true
   },
   "outputs": [],
   "source": [
    "import scipy.optimize as op\n",
    "import numpy as np"
   ]
  },
  {
   "cell_type": "code",
   "execution_count": 3,
   "metadata": {
    "collapsed": false
   },
   "outputs": [
    {
     "data": {
      "text/plain": [
       "Success: the objective function is 31 \n",
       "[1] 2 3\n"
      ]
     },
     "metadata": {},
     "output_type": "display_data"
    }
   ],
   "source": [
    "%%R\n",
    "# PROBLEMA DEL TRANSPORTE\n",
    "library(lpSolve)\n",
    "\n",
    "obj=c(5,7)\n",
    "res = matrix(c(8,14,10,4), nrow=2, byrow=T)\n",
    "dir = c(rep('<=', 2))\n",
    "b = c(63,45)\n",
    "\n",
    "A = lp(direction='max', \n",
    "       obj,             # coeficientes de la funcion objetivo\n",
    "       res,             # coeficientes de las restricciones del lado izquierdo\n",
    "       dir,             # desigualdad\n",
    "       b,               # restricciones del lado derecho\n",
    "       int.vec=c(1,2),  # variables enteras.\n",
    "       all.int=T)       # todos los resultados enteros\n",
    "print(A)\n",
    "print(A$solution)"
   ]
  },
  {
   "cell_type": "code",
   "execution_count": 42,
   "metadata": {
    "collapsed": false
   },
   "outputs": [
    {
     "data": {
      "text/plain": [
       "Success: the objective function is 897 \n",
       "     [,1] [,2] [,3] [,4]\n",
       "[1,]   32    0    0   18\n",
       "[2,]    0    0   20    0\n",
       "[3,]    3   35    2    0\n"
      ]
     },
     "metadata": {},
     "output_type": "display_data"
    }
   ],
   "source": [
    "%%R\n",
    "# PROBLEMA DEL TRANSPORTE\n",
    "require(lpSolve)\n",
    "\n",
    "A = lp.transport(cost.mat=matrix(c(10,30,15,8,12,25,5,35,20,7,14,22), nrow=3,byrow=T), # matrix de costes ij: desde i a j\n",
    "                 direction='min', # minimizar o maximizar\n",
    "                 row.signs=c(rep('=', 3)),  # vector de desigualdades de las restricciones de filas\n",
    "                 row.rhs=c(50,20,40),       # vector de las restricciones del lado derecho de las filas\n",
    "                 col.signs=c(rep('=', 4)),  # vector de desigualdades de las columnas\n",
    "                 col.rhs=c(35,35,22,18),    # vector de las restricciones columnas.\n",
    "                 integers=NULL)             # vector que representa que variables tienen que ser enteras. null=ninguna\n",
    "print(A)\n",
    "print(A$solution)"
   ]
  },
  {
   "cell_type": "code",
   "execution_count": 5,
   "metadata": {
    "collapsed": false
   },
   "outputs": [
    {
     "data": {
      "text/plain": [
       "Success: the objective function is 56 \n",
       "     [,1] [,2] [,3] [,4]\n",
       "[1,]    0    0    1    0\n",
       "[2,]    0    0    0    1\n",
       "[3,]    1    0    0    0\n",
       "[4,]    0    1    0    0\n"
      ]
     },
     "metadata": {},
     "output_type": "display_data"
    }
   ],
   "source": [
    "%%R\n",
    "# PROBLEMA DEL TRANSPORTE\n",
    "require(lpSolve)\n",
    "\n",
    "A = lp.assign(cost.mat=matrix(c(34,10,15,28,16,15,22,12,10,25,13,20,30,19,27,31), nrow=4,byrow=T), # matrix de costes ij: desde i a j\n",
    "              direction='min') # minimizar o maximizar\n",
    "print(A)\n",
    "print(A$solution)"
   ]
  },
  {
   "cell_type": "markdown",
   "metadata": {
    "collapsed": true
   },
   "source": [
    "![](9.png)"
   ]
  },
  {
   "cell_type": "markdown",
   "metadata": {},
   "source": [
    "$x_i$ = {0: si no selecciono proyecto, 1: si selecciono el proyecto} $\\forall i=1,...6$\n",
    "\n",
    "El valor de cada pryecto es $v_i·x_i$\n",
    "\n",
    "El objetivo es:\n",
    "\n",
    "$Max\\ \\sum_1^6{v_ix_i}$\n",
    "\n",
    "El coste es $c_{ij} \\forall i=1,..6 \\, \\ j=1,...,3$\n",
    "Por tanto el gasto es:\n",
    "\n",
    "$c_{ij}x_i ≤ d_j\\ \\forall\\ x_j$\n",
    "\n",
    "$x_i \\epsilon {0,1}$\n",
    "\n",
    "\n",
    "## POR TANTO: \n",
    "\n",
    "$Max\\ \\sum_1^6{v_ix_i}$\n",
    "\n",
    "s.a.\n",
    "\n",
    "$c_{ij}x_i ≤ d_j \\ \\forall\\ x_j$\n",
    "\n",
    "$x_i\\ \\epsilon\\ \\{0,1\\}$"
   ]
  },
  {
   "cell_type": "code",
   "execution_count": 5,
   "metadata": {
    "collapsed": false
   },
   "outputs": [],
   "source": [
    "# datos\n",
    "\n",
    "p = list(range(1,7))\n",
    "vpn = [50, 40, 30, 40, 50, 60]\n",
    "year1 = [10, 20] * 3\n",
    "year2 = [15,10] * 3\n",
    "year3 = [10,5] * 3\n",
    "disp = [75, 70, 35]"
   ]
  },
  {
   "cell_type": "code",
   "execution_count": 6,
   "metadata": {
    "collapsed": false
   },
   "outputs": [],
   "source": [
    "mcost = [year1, year2, year3]\n",
    "mcost = np.array(mcost).T\n",
    "mcost = list(map(list, mcost))"
   ]
  },
  {
   "cell_type": "code",
   "execution_count": 7,
   "metadata": {
    "collapsed": false
   },
   "outputs": [
    {
     "name": "stderr",
     "output_type": "stream",
     "text": [
      "/Users/mmngreco/Virtualenvs/ipynb/lib/python3.5/site-packages/rpy2/robjects/functions.py:106: UserWarning: Loading required package: lpSolve\n",
      "\n",
      "  res = super(Function, self).__call__(*new_args, **new_kwargs)\n"
     ]
    },
    {
     "data": {
      "text/plain": [
       "Success: the objective function is 200 \n",
       "[1] 1 1 0 0 1 1\n"
      ]
     },
     "metadata": {},
     "output_type": "display_data"
    }
   ],
   "source": [
    "%%R -i mcost,disp,vpn\n",
    "\n",
    "require(lpSolve)\n",
    "\n",
    "fobj = vpn\n",
    "resdir = rep('<=', 3)\n",
    "res = mcost\n",
    "resbnd = disp\n",
    "\n",
    "A = lp('max',\n",
    "       fobj,\n",
    "       res,\n",
    "       resdir,\n",
    "       resbnd,\n",
    "       all.bin=T)\n",
    "print(A)\n",
    "print(A$solution)"
   ]
  },
  {
   "cell_type": "markdown",
   "metadata": {},
   "source": [
    "\n",
    "![](11.png)"
   ]
  },
  {
   "cell_type": "code",
   "execution_count": 19,
   "metadata": {
    "collapsed": false
   },
   "outputs": [
    {
     "data": {
      "text/plain": [
       "array([[ 12,  10,   8,   7],\n",
       "       [  8,   8,   7,   9],\n",
       "       [  7,  13,   6,  13],\n",
       "       [  5,   6,  12,  14],\n",
       "       [  8,   7,  10,   8],\n",
       "       [  7,   9,   8,   8],\n",
       "       [  7,  14,   9,  11],\n",
       "       [  8,  15,  13,  11],\n",
       "       [100, 150, 100, 150]])"
      ]
     },
     "execution_count": 19,
     "metadata": {},
     "output_type": "execute_result"
    }
   ],
   "source": [
    "c = [12, 8, 7, 5, 8, 7, 7, 8, 10, 8, 13, 6, 7, 9, 14, 15, 8, 7, 6, 12, 10, 8, 9, 13, 7, 9, 13, 14, 8, 8, 11, 11]\n",
    "k = [100, 150, 100, 150]\n",
    "k = np.array(k).reshape(1,4)\n",
    "n = len(c)\n",
    "c = np.array(c).reshape(4,8).T\n",
    "fobj = np.vstack((c,k))\n",
    "res = np.repeat(1, n).reshape(n, 1)\n",
    "#resbnd = \n",
    "\n",
    "bin_vec = list(range(n - 4 + 1, n + 1))\n",
    "fobj"
   ]
  },
  {
   "cell_type": "code",
   "execution_count": 91,
   "metadata": {
    "collapsed": false
   },
   "outputs": [
    {
     "data": {
      "text/plain": [
       "Success: the objective function is 200 \n",
       "[1] 1 1 0 0 1 1\n"
      ]
     },
     "metadata": {},
     "output_type": "display_data"
    }
   ],
   "source": [
    "%%R -i fobj,n,res,resbnd,bin_vec\n",
    "\n",
    "require(lpSolve)\n",
    "\n",
    "fobj = obj\n",
    "resdir = rep('<=', n)\n",
    "res = mcost\n",
    "resbnd = disp\n",
    "\n",
    "A = lp('min',\n",
    "       fobj,\n",
    "       res,\n",
    "       resdir,\n",
    "       resbnd,\n",
    "       all.bin=T)\n",
    "\n",
    "print(A)\n",
    "print(A$solution)"
   ]
  },
  {
   "cell_type": "code",
   "execution_count": null,
   "metadata": {
    "collapsed": true
   },
   "outputs": [],
   "source": []
  }
 ],
 "metadata": {
  "kernelspec": {
   "display_name": "Python 3",
   "language": "python",
   "name": "python3"
  },
  "language_info": {
   "codemirror_mode": {
    "name": "ipython",
    "version": 3
   },
   "file_extension": ".py",
   "mimetype": "text/x-python",
   "name": "python",
   "nbconvert_exporter": "python",
   "pygments_lexer": "ipython3",
   "version": "3.5.0"
  },
  "latex_envs": {
   "bibliofile": "biblio.bib",
   "cite_by": "apalike",
   "current_citInitial": 1,
   "eqLabelWithNumbers": true,
   "eqNumInitial": 0
  }
 },
 "nbformat": 4,
 "nbformat_minor": 0
}
