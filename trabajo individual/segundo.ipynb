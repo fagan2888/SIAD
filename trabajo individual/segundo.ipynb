{
 "cells": [
  {
   "cell_type": "markdown",
   "metadata": {},
   "source": [
    "![](ej.png)"
   ]
  },
  {
   "cell_type": "code",
   "execution_count": 2,
   "metadata": {
    "collapsed": true
   },
   "outputs": [],
   "source": [
    "%load_ext rpy2.ipython"
   ]
  },
  {
   "cell_type": "code",
   "execution_count": null,
   "metadata": {
    "collapsed": true
   },
   "outputs": [],
   "source": [
    "bnd = [600, 1000, 800]\n",
    "A = [12, 13, 14, 10, 11, 10]\n",
    "c = "
   ]
  },
  {
   "cell_type": "code",
   "execution_count": 13,
   "metadata": {
    "collapsed": false
   },
   "outputs": [
    {
     "data": {
      "text/plain": [
       "Success: the objective function is 20400 \n",
       "     [,1] [,2] [,3]\n",
       "[1,]  600  400    0\n",
       "[2,]    0    0  800\n"
      ]
     },
     "metadata": {},
     "output_type": "display_data"
    }
   ],
   "source": [
    "%%R\n",
    "# PROBLEMA DEL TRANSPORTE\n",
    "require(lpSolve)\n",
    "\n",
    "A = lp.transport(cost.mat=matrix(c(12, 13, 14, 10, 11, 10), nrow=2,byrow=T), # matrix de costes ij: desde i a j\n",
    "                 direction='min', # minimizar o maximizar\n",
    "                 row.signs=c(rep('>=', 2)),  # vector de desigualdades de las restricciones de filas\n",
    "                 row.rhs=c(1000,800),       # vector de las restricciones del lado derecho de las filas\n",
    "                 col.signs=c(rep('<=', 3)),  # vector de desigualdades de las columnas\n",
    "                 col.rhs=c(600, 1000, 800))    # vector de las restricciones columnas.\n",
    "                 #integers=NULL)             # vector que representa que variables tienen que ser enteras. null=ninguna\n",
    "print(A)\n",
    "print(A$solution)"
   ]
  },
  {
   "cell_type": "code",
   "execution_count": null,
   "metadata": {
    "collapsed": true
   },
   "outputs": [],
   "source": []
  }
 ],
 "metadata": {
  "kernelspec": {
   "display_name": "Python 3",
   "language": "python",
   "name": "python3"
  },
  "language_info": {
   "codemirror_mode": {
    "name": "ipython",
    "version": 3
   },
   "file_extension": ".py",
   "mimetype": "text/x-python",
   "name": "python",
   "nbconvert_exporter": "python",
   "pygments_lexer": "ipython3",
   "version": "3.5.0"
  }
 },
 "nbformat": 4,
 "nbformat_minor": 0
}
