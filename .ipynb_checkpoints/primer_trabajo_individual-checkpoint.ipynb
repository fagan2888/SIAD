{
 "cells": [
  {
   "cell_type": "markdown",
   "metadata": {},
   "source": [
    "# SIAD\n",
    "## PROBLEMA INDIVIDUAL Nº12 (PAG.333)"
   ]
  },
  {
   "cell_type": "code",
   "execution_count": 1,
   "metadata": {
    "collapsed": true
   },
   "outputs": [],
   "source": [
    "import numpy as np\n",
    "import scipy.optimize as op"
   ]
  },
  {
   "cell_type": "code",
   "execution_count": 2,
   "metadata": {
    "collapsed": true
   },
   "outputs": [],
   "source": [
    "%load_ext rpy2.ipython"
   ]
  },
  {
   "cell_type": "markdown",
   "metadata": {},
   "source": [
    "![Imgur](http://i.imgur.com/LyPnt5i.png)"
   ]
  },
  {
   "cell_type": "markdown",
   "metadata": {},
   "source": [
    "### A\n",
    "### ¿CUÁL ES LA SOLUCIÓN ÓPTIMA Y CUÁL ES EL VALOR DE LA FUNCIÓN OBJETIVO?"
   ]
  },
  {
   "cell_type": "code",
   "execution_count": 3,
   "metadata": {
    "collapsed": false
   },
   "outputs": [
    {
     "name": "stdout",
     "output_type": "stream",
     "text": [
      "       x: array([  80.,  120.,    0.])\n",
      " message: 'Optimization terminated successfully.'\n",
      " success: True\n",
      "  status: 0\n",
      "     fun: -16440.0\n",
      "   slack: array([   0.,    0.,  320.])\n",
      "     nit: 3\n"
     ]
    }
   ],
   "source": [
    "c=[63, 95, 135]\n",
    "A=[[1,1,1],[1,2,4],[8,12,14]]\n",
    "b=[200,320,2400]\n",
    "c, A, b = map(np.array, [c,A,b])\n",
    "sol = op.linprog(-c,A,b)\n",
    "print(sol)"
   ]
  },
  {
   "cell_type": "markdown",
   "metadata": {},
   "source": [
    "Como podemos ver en la salida, la solución optima es 80, 120, 0 para cada tipo E, S, D respectivamente. El valor de la función objetivo es de 16 440."
   ]
  },
  {
   "cell_type": "markdown",
   "metadata": {},
   "source": [
    "![Imgur](http://i.imgur.com/5ueGBWI.png)"
   ]
  },
  {
   "cell_type": "markdown",
   "metadata": {
    "collapsed": true
   },
   "source": [
    "### B\n",
    "### ¿CUÁLES RESTRICCIONES SON CONFINANTES?"
   ]
  },
  {
   "cell_type": "code",
   "execution_count": 4,
   "metadata": {
    "collapsed": false
   },
   "outputs": [
    {
     "data": {
      "text/plain": [
       "array([[ 1,  1,  1],\n",
       "       [ 1,  2,  4],\n",
       "       [ 8, 12, 14]])"
      ]
     },
     "execution_count": 4,
     "metadata": {},
     "output_type": "execute_result"
    }
   ],
   "source": [
    "# Una restricción es confinante si cumple la igualdad.\n",
    "A"
   ]
  },
  {
   "cell_type": "code",
   "execution_count": 5,
   "metadata": {
    "collapsed": false
   },
   "outputs": [
    {
     "data": {
      "text/plain": [
       "matrix([[  200.],\n",
       "        [  320.],\n",
       "        [ 2080.]])"
      ]
     },
     "execution_count": 5,
     "metadata": {},
     "output_type": "execute_result"
    }
   ],
   "source": [
    "# valor de las restricciones para x\n",
    "np.dot(A,np.asmatrix(sol.x).T)"
   ]
  },
  {
   "cell_type": "code",
   "execution_count": 6,
   "metadata": {
    "collapsed": false
   },
   "outputs": [
    {
     "data": {
      "text/plain": [
       "array([   0.,    0.,  320.])"
      ]
     },
     "execution_count": 6,
     "metadata": {},
     "output_type": "execute_result"
    }
   ],
   "source": [
    "b - np.asarray(_).flatten()"
   ]
  },
  {
   "cell_type": "markdown",
   "metadata": {},
   "source": [
    "Por tanto son confinantes las restricciones sobre los motores de ventilación y serpientes de enfriamiento."
   ]
  },
  {
   "cell_type": "markdown",
   "metadata": {},
   "source": [
    "### C\n",
    "### ¿Cuáles de las restricciones muestra capacidad adicional?¿Cuánta capacidad muestra?"
   ]
  },
  {
   "cell_type": "markdown",
   "metadata": {},
   "source": [
    "La restricción sobre el tiempo de manufactura, muestra una capacidad adicional de 320."
   ]
  },
  {
   "cell_type": "markdown",
   "metadata": {},
   "source": [
    "### D\n",
    "\n",
    "### Si las utilidades para el modelo de lujo aumentaran a $150 por unidad ¿Cambiaría la solución óptima? Utilice la información de la figura 8.19 para responder a estra pregunta."
   ]
  },
  {
   "cell_type": "code",
   "execution_count": 7,
   "metadata": {
    "collapsed": false
   },
   "outputs": [
    {
     "name": "stdout",
     "output_type": "stream",
     "text": [
      "       x: array([  80.,  120.,    0.])\n",
      " message: 'Optimization terminated successfully.'\n",
      " success: True\n",
      "  status: 0\n",
      "     fun: -16440.0\n",
      "   slack: array([   0.,    0.,  320.])\n",
      "     nit: 3\n"
     ]
    }
   ],
   "source": [
    "c=[63, 95, 150]\n",
    "A=[[1,1,1],[1,2,4],[8,12,14]]\n",
    "b=[200,320,2400]\n",
    "c, A, b = map(np.array, [c,A,b])\n",
    "sol_d = op.linprog(-c,A,b)\n",
    "print(sol_d)"
   ]
  },
  {
   "cell_type": "markdown",
   "metadata": {
    "collapsed": true
   },
   "source": [
    "No cambará dado que tiene que ser mayor de $159 la utilidad para que D > 0."
   ]
  }
 ],
 "metadata": {
  "kernelspec": {
   "display_name": "Python 3",
   "language": "python",
   "name": "python3"
  },
  "language_info": {
   "codemirror_mode": {
    "name": "ipython",
    "version": 3
   },
   "file_extension": ".py",
   "mimetype": "text/x-python",
   "name": "python",
   "nbconvert_exporter": "python",
   "pygments_lexer": "ipython3",
   "version": "3.5.0"
  },
  "latex_envs": {
   "bibliofile": "biblio.bib",
   "cite_by": "apalike",
   "current_citInitial": 1,
   "eqLabelWithNumbers": true,
   "eqNumInitial": 0
  }
 },
 "nbformat": 4,
 "nbformat_minor": 0
}
